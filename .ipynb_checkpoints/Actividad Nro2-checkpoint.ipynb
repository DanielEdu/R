{
 "cells": [
  {
   "cell_type": "markdown",
   "metadata": {},
   "source": [
    "# ACTIVIDAD GUIADA 1\n",
    "### Fecha: 20-10-2019\n",
    "### Autor: Daniel Eduardo Portugal Revilla"
   ]
  },
  {
   "cell_type": "markdown",
   "metadata": {},
   "source": [
    "__Objetivo:__\n",
    "Afianzar los conocimientos adquiridos sobre análisis de datos y\n",
    "regresión."
   ]
  },
  {
   "cell_type": "markdown",
   "metadata": {},
   "source": [
    "Los datos que se van a utilizar procederán del dataset mtcars, tenéis una\n",
    "explicación del mismo y de lo que contiene en el siguiente enlace:\n",
    "https://rpubs.com/neros/61800\n",
    "Sobre este dataset, se pide realizar los siguientes análisis: "
   ]
  },
  {
   "cell_type": "markdown",
   "metadata": {},
   "source": [
    "Sobre este dataset, se pide realizar los siguientes análisis:"
   ]
  },
  {
   "cell_type": "markdown",
   "metadata": {},
   "source": [
    "#### 1. Sobre la columna qsec realizar un análisis incluyendo el cálculo de medidas de tendencia central, de dispersión y de forma, apoyando los resultados sobre los gráficos necesarios y comentando las deducciones realizadas. "
   ]
  },
  {
   "cell_type": "code",
   "execution_count": 1,
   "metadata": {},
   "outputs": [
    {
     "name": "stdout",
     "output_type": "stream",
     "text": [
      "package 'dplyr' successfully unpacked and MD5 sums checked\n",
      "\n",
      "The downloaded binary packages are in\n",
      "\tC:\\Users\\danie\\AppData\\Local\\Temp\\RtmpOiNa97\\downloaded_packages\n"
     ]
    }
   ],
   "source": [
    "install.packages(\"dplyr\") "
   ]
  },
  {
   "cell_type": "code",
   "execution_count": 1,
   "metadata": {},
   "outputs": [
    {
     "name": "stderr",
     "output_type": "stream",
     "text": [
      "Registered S3 methods overwritten by 'ggplot2':\n",
      "  method         from \n",
      "  [.quosures     rlang\n",
      "  c.quosures     rlang\n",
      "  print.quosures rlang\n",
      "Loading required package: MASS\n",
      "Loading required package: HistData\n",
      "Loading required package: Hmisc\n",
      "Loading required package: lattice\n",
      "Loading required package: survival\n",
      "Loading required package: Formula\n",
      "\n",
      "Attaching package: 'Hmisc'\n",
      "\n",
      "The following object is masked from 'package:e1071':\n",
      "\n",
      "    impute\n",
      "\n",
      "The following objects are masked from 'package:base':\n",
      "\n",
      "    format.pval, units\n",
      "\n",
      "\n",
      "Attaching package: 'UsingR'\n",
      "\n",
      "The following object is masked from 'package:survival':\n",
      "\n",
      "    cancer\n",
      "\n",
      "\n",
      "Attaching package: 'dplyr'\n",
      "\n",
      "The following objects are masked from 'package:Hmisc':\n",
      "\n",
      "    src, summarize\n",
      "\n",
      "The following object is masked from 'package:MASS':\n",
      "\n",
      "    select\n",
      "\n",
      "The following objects are masked from 'package:stats':\n",
      "\n",
      "    filter, lag\n",
      "\n",
      "The following objects are masked from 'package:base':\n",
      "\n",
      "    intersect, setdiff, setequal, union\n",
      "\n"
     ]
    }
   ],
   "source": [
    "\n",
    "library(ggplot2)\n",
    "library(e1071)\n",
    "library(UsingR)\n",
    "library(rcompanion)\n",
    "library(dplyr)"
   ]
  },
  {
   "cell_type": "code",
   "execution_count": 16,
   "metadata": {},
   "outputs": [],
   "source": [
    "#MODA\n",
    "moda=function(x) {\n",
    "    q=table(x)\n",
    "    q=sort(q,TRUE)\n",
    "    return(q[1])\n",
    "     }"
   ]
  },
  {
   "cell_type": "markdown",
   "metadata": {},
   "source": [
    "### Medidas de tendencia central\n",
    "columna \"qsec\""
   ]
  },
  {
   "cell_type": "code",
   "execution_count": 2,
   "metadata": {},
   "outputs": [],
   "source": [
    "qsec <- mtcars$qsec"
   ]
  },
  {
   "cell_type": "code",
   "execution_count": 3,
   "metadata": {},
   "outputs": [
    {
     "data": {
      "text/html": [
       "17.84875"
      ],
      "text/latex": [
       "17.84875"
      ],
      "text/markdown": [
       "17.84875"
      ],
      "text/plain": [
       "[1] 17.84875"
      ]
     },
     "metadata": {},
     "output_type": "display_data"
    }
   ],
   "source": [
    "#media\n",
    "mean(qsec)"
   ]
  },
  {
   "cell_type": "code",
   "execution_count": 4,
   "metadata": {},
   "outputs": [
    {
     "data": {
      "text/html": [
       "17.71"
      ],
      "text/latex": [
       "17.71"
      ],
      "text/markdown": [
       "17.71"
      ],
      "text/plain": [
       "[1] 17.71"
      ]
     },
     "metadata": {},
     "output_type": "display_data"
    }
   ],
   "source": [
    "#mediana\n",
    "median(qsec)"
   ]
  },
  {
   "cell_type": "code",
   "execution_count": 17,
   "metadata": {},
   "outputs": [
    {
     "data": {
      "text/html": [
       "<strong>17.02:</strong> 2"
      ],
      "text/latex": [
       "\\textbf{17.02:} 2"
      ],
      "text/markdown": [
       "**17.02:** 2"
      ],
      "text/plain": [
       "17.02 \n",
       "    2 "
      ]
     },
     "metadata": {},
     "output_type": "display_data"
    }
   ],
   "source": [
    "\n",
    "moda(qsec)"
   ]
  },
  {
   "cell_type": "markdown",
   "metadata": {},
   "source": [
    "Media mediana y mediana son muy similares, la moda es un poco menor. probablemente algun dato alejado causa un tirón de la media y la mediana hacia la derecha"
   ]
  },
  {
   "cell_type": "code",
   "execution_count": 3,
   "metadata": {},
   "outputs": [],
   "source": [
    "hg <- ggplot(aes(x = qsec), data = mtcars) + \n",
    "        geom_histogram(color = 'green', fill = 'green', alpha = 0.3)+ geom_vline(\n",
    "    aes(xintercept=median(qsec), color=\"mediana\"), \n",
    "    linetype=\"dashed\",\n",
    "    size=1\n",
    ")+ geom_vline(\n",
    "    aes(xintercept=mean(qsec), color=\"media\"), \n",
    "    linetype=\"dashed\",\n",
    "    size=1\n",
    ")+ geom_vline(\n",
    "    aes(xintercept=17.02, color=\"moda\"), \n",
    "    linetype=\"dashed\",\n",
    "    size=1\n",
    ")"
   ]
  },
  {
   "cell_type": "code",
   "execution_count": 7,
   "metadata": {},
   "outputs": [
    {
     "ename": "ERROR",
     "evalue": "Error in eval(expr, envir, enclos): object 'hg' not found\n",
     "output_type": "error",
     "traceback": [
      "Error in eval(expr, envir, enclos): object 'hg' not found\nTraceback:\n"
     ]
    }
   ],
   "source": [
    "hg"
   ]
  },
  {
   "cell_type": "code",
   "execution_count": null,
   "metadata": {},
   "outputs": [],
   "source": []
  },
  {
   "cell_type": "markdown",
   "metadata": {},
   "source": [
    "En el Histograma podemos ver más a detalle la distancia de la moda contra la media y la mediana. Sumado a un valor alejado a la derecha"
   ]
  },
  {
   "cell_type": "code",
   "execution_count": 6,
   "metadata": {},
   "outputs": [
    {
     "data": {
      "image/png": "[encoded data removed]",
      "text/plain": [
       "plot without title"
      ]
     },
     "metadata": {},
     "output_type": "display_data"
    }
   ],
   "source": [
    "boxplot(qsec) "
   ]
  },
  {
   "cell_type": "markdown",
   "metadata": {},
   "source": [
    "con el gráfico de cajas podemos ver un valor muy alejado del último cuartil. Lo cual afirma nuestra teoría previa "
   ]
  },
  {
   "cell_type": "markdown",
   "metadata": {},
   "source": [
    "### Medidas de dispersión\n",
    "Parámetros estadísticos que indican como se alejan los datos respecto de la media aritmética. Sirven como indicador de la variabilidad de los datos. Las medidas de dispersión más utilizadas son el rango, la desviación estándar y la varianza."
   ]
  },
  {
   "cell_type": "code",
   "execution_count": 8,
   "metadata": {},
   "outputs": [
    {
     "data": {
      "text/html": [
       "3.19316612903226"
      ],
      "text/latex": [
       "3.19316612903226"
      ],
      "text/markdown": [
       "3.19316612903226"
      ],
      "text/plain": [
       "[1] 3.193166"
      ]
     },
     "metadata": {},
     "output_type": "display_data"
    }
   ],
   "source": [
    "#Varianza\n",
    "var(qsec)"
   ]
  },
  {
   "cell_type": "code",
   "execution_count": 9,
   "metadata": {},
   "outputs": [
    {
     "data": {
      "text/html": [
       "1.78694323609684"
      ],
      "text/latex": [
       "1.78694323609684"
      ],
      "text/markdown": [
       "1.78694323609684"
      ],
      "text/plain": [
       "[1] 1.786943"
      ]
     },
     "metadata": {},
     "output_type": "display_data"
    }
   ],
   "source": [
    "#Desviación estándar \n",
    "sd(qsec)"
   ]
  },
  {
   "cell_type": "markdown",
   "metadata": {},
   "source": [
    "Mientras menor sea la desviación estándar, los datos son más homogéneos, es decir existe menor dispersión, el incremento de los valores de la desviación estándar para el atributo __\"qsec\"__ indica una mayor variabilidad de los datos."
   ]
  },
  {
   "cell_type": "markdown",
   "metadata": {},
   "source": [
    "### Medidas de Forma"
   ]
  },
  {
   "cell_type": "code",
   "execution_count": 18,
   "metadata": {},
   "outputs": [
    {
     "data": {
      "text/html": [
       "0.369045278509436"
      ],
      "text/latex": [
       "0.369045278509436"
      ],
      "text/markdown": [
       "0.369045278509436"
      ],
      "text/plain": [
       "[1] 0.3690453"
      ]
     },
     "metadata": {},
     "output_type": "display_data"
    }
   ],
   "source": [
    "#Asimetria\n",
    "skewness(qsec)"
   ]
  },
  {
   "cell_type": "markdown",
   "metadata": {},
   "source": [
    "el resultado es ligeramente mayor a cero, debido al valor que genera una cola a la derecha\n"
   ]
  },
  {
   "cell_type": "code",
   "execution_count": 19,
   "metadata": {},
   "outputs": [
    {
     "data": {
      "text/html": [
       "0.335114219571393"
      ],
      "text/latex": [
       "0.335114219571393"
      ],
      "text/markdown": [
       "0.335114219571393"
      ],
      "text/plain": [
       "[1] 0.3351142"
      ]
     },
     "metadata": {},
     "output_type": "display_data"
    }
   ],
   "source": [
    "#CURTOSIS\n",
    "kurtosis(qsec)"
   ]
  },
  {
   "cell_type": "markdown",
   "metadata": {},
   "source": [
    "La curtosis presenta un ligero pico"
   ]
  },
  {
   "cell_type": "markdown",
   "metadata": {},
   "source": [
    "*Las medidas de forma las veremos más claro en los siguientes gráficos*"
   ]
  },
  {
   "cell_type": "code",
   "execution_count": 20,
   "metadata": {},
   "outputs": [
    {
     "data": {
      "image/png": "[encoded data removed]",
      "text/plain": [
       "Plot with title \"\""
      ]
     },
     "metadata": {},
     "output_type": "display_data"
    },
    {
     "data": {
      "image/png": "[encoded data removed]",
      "text/plain": [
       "Plot with title \"\""
      ]
     },
     "metadata": {},
     "output_type": "display_data"
    }
   ],
   "source": [
    "plotNormalHistogram(qsec)\n",
    "abline(v = mean(qsec), col = \"red\", lwd = 2)\n",
    "text(mean(qsec)+0.5, moda(qsec)+7 , \"mean\", cex = 1)\n",
    "plotNormalDensity(qsec)\n"
   ]
  },
  {
   "cell_type": "markdown",
   "metadata": {},
   "source": [
    "Un histograma debe ser aproximadamente normal, sin sesgo excesivo o curtosis. Agregar una curva normal con la misma media y desviación estándar que los datos ayuda a evaluar el histograma.\n",
    "\n",
    "se puede ver la cola a la derecha y el apelotonamiento de datos que pasan ligeramente la normal"
   ]
  },
  {
   "cell_type": "markdown",
   "metadata": {},
   "source": [
    " "
   ]
  },
  {
   "cell_type": "markdown",
   "metadata": {},
   "source": [
    " "
   ]
  },
  {
   "cell_type": "markdown",
   "metadata": {},
   "source": [
    "#### 2. Implementar un modelo de regresión utilizando las variables disp y wt, donde disp será la variable respuesta y wt la variable explicativa. Hay que comentar los resultados obtenidos y apoyarlos sobre gráficos."
   ]
  },
  {
   "cell_type": "code",
   "execution_count": 10,
   "metadata": {},
   "outputs": [
    {
     "data": {
      "text/html": [
       "<table>\n",
       "<thead><tr><th></th><th scope=col>mpg</th><th scope=col>cyl</th><th scope=col>disp</th><th scope=col>hp</th><th scope=col>drat</th><th scope=col>wt</th><th scope=col>qsec</th><th scope=col>vs</th><th scope=col>am</th><th scope=col>gear</th><th scope=col>carb</th></tr></thead>\n",
       "<tbody>\n",
       "\t<tr><th scope=row>Mazda RX4</th><td>21.0 </td><td>6    </td><td>160  </td><td>110  </td><td>3.90 </td><td>2.620</td><td>16.46</td><td>0    </td><td>1    </td><td>4    </td><td>4    </td></tr>\n",
       "\t<tr><th scope=row>Mazda RX4 Wag</th><td>21.0 </td><td>6    </td><td>160  </td><td>110  </td><td>3.90 </td><td>2.875</td><td>17.02</td><td>0    </td><td>1    </td><td>4    </td><td>4    </td></tr>\n",
       "\t<tr><th scope=row>Datsun 710</th><td>22.8 </td><td>4    </td><td>108  </td><td> 93  </td><td>3.85 </td><td>2.320</td><td>18.61</td><td>1    </td><td>1    </td><td>4    </td><td>1    </td></tr>\n",
       "\t<tr><th scope=row>Hornet 4 Drive</th><td>21.4 </td><td>6    </td><td>258  </td><td>110  </td><td>3.08 </td><td>3.215</td><td>19.44</td><td>1    </td><td>0    </td><td>3    </td><td>1    </td></tr>\n",
       "\t<tr><th scope=row>Hornet Sportabout</th><td>18.7 </td><td>8    </td><td>360  </td><td>175  </td><td>3.15 </td><td>3.440</td><td>17.02</td><td>0    </td><td>0    </td><td>3    </td><td>2    </td></tr>\n",
       "\t<tr><th scope=row>Valiant</th><td>18.1 </td><td>6    </td><td>225  </td><td>105  </td><td>2.76 </td><td>3.460</td><td>20.22</td><td>1    </td><td>0    </td><td>3    </td><td>1    </td></tr>\n",
       "</tbody>\n",
       "</table>\n"
      ],
      "text/latex": [
       "\\begin{tabular}{r|lllllllllll}\n",
       "  & mpg & cyl & disp & hp & drat & wt & qsec & vs & am & gear & carb\\\\\n",
       "\\hline\n",
       "\tMazda RX4 & 21.0  & 6     & 160   & 110   & 3.90  & 2.620 & 16.46 & 0     & 1     & 4     & 4    \\\\\n",
       "\tMazda RX4 Wag & 21.0  & 6     & 160   & 110   & 3.90  & 2.875 & 17.02 & 0     & 1     & 4     & 4    \\\\\n",
       "\tDatsun 710 & 22.8  & 4     & 108   &  93   & 3.85  & 2.320 & 18.61 & 1     & 1     & 4     & 1    \\\\\n",
       "\tHornet 4 Drive & 21.4  & 6     & 258   & 110   & 3.08  & 3.215 & 19.44 & 1     & 0     & 3     & 1    \\\\\n",
       "\tHornet Sportabout & 18.7  & 8     & 360   & 175   & 3.15  & 3.440 & 17.02 & 0     & 0     & 3     & 2    \\\\\n",
       "\tValiant & 18.1  & 6     & 225   & 105   & 2.76  & 3.460 & 20.22 & 1     & 0     & 3     & 1    \\\\\n",
       "\\end{tabular}\n"
      ],
      "text/markdown": [
       "\n",
       "| <!--/--> | mpg | cyl | disp | hp | drat | wt | qsec | vs | am | gear | carb |\n",
       "|---|---|---|---|---|---|---|---|---|---|---|---|\n",
       "| Mazda RX4 | 21.0  | 6     | 160   | 110   | 3.90  | 2.620 | 16.46 | 0     | 1     | 4     | 4     |\n",
       "| Mazda RX4 Wag | 21.0  | 6     | 160   | 110   | 3.90  | 2.875 | 17.02 | 0     | 1     | 4     | 4     |\n",
       "| Datsun 710 | 22.8  | 4     | 108   |  93   | 3.85  | 2.320 | 18.61 | 1     | 1     | 4     | 1     |\n",
       "| Hornet 4 Drive | 21.4  | 6     | 258   | 110   | 3.08  | 3.215 | 19.44 | 1     | 0     | 3     | 1     |\n",
       "| Hornet Sportabout | 18.7  | 8     | 360   | 175   | 3.15  | 3.440 | 17.02 | 0     | 0     | 3     | 2     |\n",
       "| Valiant | 18.1  | 6     | 225   | 105   | 2.76  | 3.460 | 20.22 | 1     | 0     | 3     | 1     |\n",
       "\n"
      ],
      "text/plain": [
       "                  mpg  cyl disp hp  drat wt    qsec  vs am gear carb\n",
       "Mazda RX4         21.0 6   160  110 3.90 2.620 16.46 0  1  4    4   \n",
       "Mazda RX4 Wag     21.0 6   160  110 3.90 2.875 17.02 0  1  4    4   \n",
       "Datsun 710        22.8 4   108   93 3.85 2.320 18.61 1  1  4    1   \n",
       "Hornet 4 Drive    21.4 6   258  110 3.08 3.215 19.44 1  0  3    1   \n",
       "Hornet Sportabout 18.7 8   360  175 3.15 3.440 17.02 0  0  3    2   \n",
       "Valiant           18.1 6   225  105 2.76 3.460 20.22 1  0  3    1   "
      ]
     },
     "metadata": {},
     "output_type": "display_data"
    }
   ],
   "source": [
    "\n",
    "head(mtcars)"
   ]
  },
  {
   "cell_type": "markdown",
   "metadata": {},
   "source": [
    "* __disp\t*Displacement (cu.in.)*__\tDisplacement measures overall volume in the engine as a factor of cylinder circumfrance, depth and total number of cylinders. This metric gives a good proxy for the total amount of power the engine can generate.\n",
    "* __wt\t*Weight (lb/1000)*__\tThe overall weight of the vehicle per 1000lbs (half US ton)."
   ]
  },
  {
   "cell_type": "code",
   "execution_count": 18,
   "metadata": {},
   "outputs": [
    {
     "name": "stdout",
     "output_type": "stream",
     "text": [
      "'data.frame':\t32 obs. of  2 variables:\n",
      " $ disp: num  160 160 108 258 360 ...\n",
      " $ wt  : num  2.62 2.88 2.32 3.21 3.44 ...\n"
     ]
    },
    {
     "data": {
      "text/plain": [
       "      disp             wt       \n",
       " Min.   : 71.1   Min.   :1.513  \n",
       " 1st Qu.:120.8   1st Qu.:2.581  \n",
       " Median :196.3   Median :3.325  \n",
       " Mean   :230.7   Mean   :3.217  \n",
       " 3rd Qu.:326.0   3rd Qu.:3.610  \n",
       " Max.   :472.0   Max.   :5.424  "
      ]
     },
     "metadata": {},
     "output_type": "display_data"
    },
    {
     "data": {
      "text/html": [
       "<strong>275.8:</strong> 3"
      ],
      "text/latex": [
       "\\textbf{275.8:} 3"
      ],
      "text/markdown": [
       "**275.8:** 3"
      ],
      "text/plain": [
       "275.8 \n",
       "    3 "
      ]
     },
     "metadata": {},
     "output_type": "display_data"
    }
   ],
   "source": [
    "datosCars <- mtcars %>% select(disp,wt) \n",
    "str(datosCars)\n",
    "summary(datosCars)\n",
    "moda(datosCars$disp)"
   ]
  },
  {
   "cell_type": "markdown",
   "metadata": {},
   "source": [
    "para el atributo disp los valores de la media y la mediana son distantes."
   ]
  },
  {
   "cell_type": "code",
   "execution_count": 14,
   "metadata": {},
   "outputs": [
    {
     "name": "stderr",
     "output_type": "stream",
     "text": [
      "`stat_bin()` using `bins = 30`. Pick better value with `binwidth`.\n"
     ]
    },
    {
     "data": {
      "image/png": "[encoded data removed]",
      "text/plain": [
       "plot without title"
      ]
     },
     "metadata": {},
     "output_type": "display_data"
    }
   ],
   "source": [
    "hg <- ggplot(aes(x = disp), data = datosCars) + \n",
    "        geom_histogram(color = 'green', fill = 'green', alpha = 0.2)+ geom_vline(\n",
    "    aes(xintercept=median(disp), color=\"mediana\"), \n",
    "    linetype=\"dashed\",\n",
    "    size=1\n",
    ")+ geom_vline(\n",
    "    aes(xintercept=mean(disp), color=\"media\"), \n",
    "    linetype=\"dashed\",\n",
    "    size=1\n",
    ")\n",
    "hg"
   ]
  },
  {
   "cell_type": "markdown",
   "metadata": {},
   "source": [
    "con el histograma podemos ver la separación entre media y mediana"
   ]
  },
  {
   "cell_type": "code",
   "execution_count": 29,
   "metadata": {},
   "outputs": [
    {
     "data": {
      "text/html": [
       "<table>\n",
       "<thead><tr><th></th><th scope=col>disp</th><th scope=col>wt</th><th scope=col>disp_sqrt</th></tr></thead>\n",
       "<tbody>\n",
       "\t<tr><th scope=row>Mazda RX4</th><td>160     </td><td>2.620   </td><td>12.64911</td></tr>\n",
       "\t<tr><th scope=row>Mazda RX4 Wag</th><td>160     </td><td>2.875   </td><td>12.64911</td></tr>\n",
       "\t<tr><th scope=row>Datsun 710</th><td>108     </td><td>2.320   </td><td>10.39230</td></tr>\n",
       "\t<tr><th scope=row>Hornet 4 Drive</th><td>258     </td><td>3.215   </td><td>16.06238</td></tr>\n",
       "\t<tr><th scope=row>Hornet Sportabout</th><td>360     </td><td>3.440   </td><td>18.97367</td></tr>\n",
       "\t<tr><th scope=row>Valiant</th><td>225     </td><td>3.460   </td><td>15.00000</td></tr>\n",
       "</tbody>\n",
       "</table>\n"
      ],
      "text/latex": [
       "\\begin{tabular}{r|lll}\n",
       "  & disp & wt & disp\\_sqrt\\\\\n",
       "\\hline\n",
       "\tMazda RX4 & 160      & 2.620    & 12.64911\\\\\n",
       "\tMazda RX4 Wag & 160      & 2.875    & 12.64911\\\\\n",
       "\tDatsun 710 & 108      & 2.320    & 10.39230\\\\\n",
       "\tHornet 4 Drive & 258      & 3.215    & 16.06238\\\\\n",
       "\tHornet Sportabout & 360      & 3.440    & 18.97367\\\\\n",
       "\tValiant & 225      & 3.460    & 15.00000\\\\\n",
       "\\end{tabular}\n"
      ],
      "text/markdown": [
       "\n",
       "| <!--/--> | disp | wt | disp_sqrt |\n",
       "|---|---|---|---|\n",
       "| Mazda RX4 | 160      | 2.620    | 12.64911 |\n",
       "| Mazda RX4 Wag | 160      | 2.875    | 12.64911 |\n",
       "| Datsun 710 | 108      | 2.320    | 10.39230 |\n",
       "| Hornet 4 Drive | 258      | 3.215    | 16.06238 |\n",
       "| Hornet Sportabout | 360      | 3.440    | 18.97367 |\n",
       "| Valiant | 225      | 3.460    | 15.00000 |\n",
       "\n"
      ],
      "text/plain": [
       "                  disp wt    disp_sqrt\n",
       "Mazda RX4         160  2.620 12.64911 \n",
       "Mazda RX4 Wag     160  2.875 12.64911 \n",
       "Datsun 710        108  2.320 10.39230 \n",
       "Hornet 4 Drive    258  3.215 16.06238 \n",
       "Hornet Sportabout 360  3.440 18.97367 \n",
       "Valiant           225  3.460 15.00000 "
      ]
     },
     "metadata": {},
     "output_type": "display_data"
    }
   ],
   "source": [
    "#transformar datos\n",
    "\n",
    "datosCars['disp_sqrt'] <- sqrt(datosCars$disp)\n",
    "\n",
    "head(datosCars)\n"
   ]
  },
  {
   "cell_type": "markdown",
   "metadata": {},
   "source": [
    "normalizamos los datos mediante la raiz para el atributo disp"
   ]
  },
  {
   "cell_type": "code",
   "execution_count": 31,
   "metadata": {},
   "outputs": [
    {
     "data": {
      "image/png": "[encoded data removed]",
      "text/plain": [
       "Plot with title \"\""
      ]
     },
     "metadata": {},
     "output_type": "display_data"
    }
   ],
   "source": [
    "plotNormalDensity(datosCars$disp_sqrt)\n",
    "abline(v = mean(datosCars$disp_sqrt), col = \"red\", lwd = 2)\n",
    "abline(v = median(datosCars$disp_sqrt), col = \"green\", lwd = 2)"
   ]
  },
  {
   "cell_type": "code",
   "execution_count": 34,
   "metadata": {},
   "outputs": [
    {
     "data": {
      "image/png": "[encoded data removed]",
      "text/plain": [
       "plot without title"
      ]
     },
     "metadata": {},
     "output_type": "display_data"
    }
   ],
   "source": [
    "plot <- ggplot(datosCars, aes(x=disp_sqrt, y=wt)) + geom_point()\n",
    "plot"
   ]
  },
  {
   "cell_type": "code",
   "execution_count": 35,
   "metadata": {},
   "outputs": [],
   "source": [
    "# implementar modelo de regreción\n",
    "\n",
    "regresion <- lm(disp_sqrt ~ wt, data = datosCars)"
   ]
  },
  {
   "cell_type": "code",
   "execution_count": 36,
   "metadata": {},
   "outputs": [
    {
     "data": {
      "text/plain": [
       "\n",
       "Call:\n",
       "lm(formula = disp_sqrt ~ wt, data = datosCars)\n",
       "\n",
       "Residuals:\n",
       "    Min      1Q  Median      3Q     Max \n",
       "-2.5251 -1.3037 -0.5566  1.4651  4.2813 \n",
       "\n",
       "Coefficients:\n",
       "            Estimate Std. Error t value Pr(>|t|)    \n",
       "(Intercept)   2.5072     1.1847   2.116   0.0427 *  \n",
       "wt            3.7686     0.3528  10.683 9.62e-12 ***\n",
       "---\n",
       "Signif. codes:  0 '***' 0.001 '**' 0.01 '*' 0.05 '.' 0.1 ' ' 1\n",
       "\n",
       "Residual standard error: 1.922 on 30 degrees of freedom\n",
       "Multiple R-squared:  0.7918,\tAdjusted R-squared:  0.7849 \n",
       "F-statistic: 114.1 on 1 and 30 DF,  p-value: 9.617e-12\n"
      ]
     },
     "metadata": {},
     "output_type": "display_data"
    }
   ],
   "source": [
    "summary(regresion)"
   ]
  },
  {
   "cell_type": "code",
   "execution_count": 39,
   "metadata": {},
   "outputs": [
    {
     "data": {
      "text/plain": [
       "\n",
       "\tShapiro-Wilk normality test\n",
       "\n",
       "data:  regresion$residuals\n",
       "W = 0.93969, p-value = 0.07337\n"
      ]
     },
     "metadata": {},
     "output_type": "display_data"
    }
   ],
   "source": [
    "shapiro.test(regresion$residuals)"
   ]
  },
  {
   "cell_type": "markdown",
   "metadata": {},
   "source": [
    "* Se tiene que p > 0.05 por lo tamto nos indiaca que tenemos una distribución normal"
   ]
  },
  {
   "cell_type": "code",
   "execution_count": 43,
   "metadata": {},
   "outputs": [],
   "source": [
    "# Dado un vector se dibuja el histograma asociado y la distribución normal\n",
    " \n",
    "plotn <- function(x,main=\"Histograma de frecuencias \\ny distribución normal\",\n",
    "                  xlab=\"X\",ylab=\"Densidad\") {\n",
    "                  min <- min(x)\n",
    "                  max <- max(x)\n",
    "                  media <- mean(x)\n",
    "                  dt <- sd(x)\n",
    "                  hist(x,freq=F,main=main,xlab=xlab,ylab=ylab)\n",
    "                  curve(dnorm(x,media,dt), min, max,add = T,col=\"blue\")\n",
    "                }"
   ]
  },
  {
   "cell_type": "markdown",
   "metadata": {},
   "source": [
    "lo podemos ver en el siguiente gráfico"
   ]
  },
  {
   "cell_type": "code",
   "execution_count": 41,
   "metadata": {},
   "outputs": [
    {
     "data": {
      "image/png": "[encoded data removed]",
      "text/plain": [
       "Plot with title \"Distribución normal\""
      ]
     },
     "metadata": {},
     "output_type": "display_data"
    }
   ],
   "source": [
    "plotn(regresion$residuals,main=\"Distribución normal\")"
   ]
  },
  {
   "cell_type": "code",
   "execution_count": 38,
   "metadata": {},
   "outputs": [
    {
     "data": {
      "image/png": "[encoded data removed]",
      "text/plain": [
       "Plot with title \"\""
      ]
     },
     "metadata": {},
     "output_type": "display_data"
    },
    {
     "data": {
      "image/png": "[encoded data removed]",
      "text/plain": [
       "Plot with title \"\""
      ]
     },
     "metadata": {},
     "output_type": "display_data"
    },
    {
     "data": {
      "image/png": "[encoded data removed]",
      "text/plain": [
       "Plot with title \"\""
      ]
     },
     "metadata": {},
     "output_type": "display_data"
    },
    {
     "data": {
      "image/png": "[encoded data removed]",
      "text/plain": [
       "Plot with title \"\""
      ]
     },
     "metadata": {},
     "output_type": "display_data"
    }
   ],
   "source": [
    "#pintar la regresion\n",
    "plot(regresion)"
   ]
  },
  {
   "cell_type": "markdown",
   "metadata": {},
   "source": [
    "los valores de la regresión son confiables.\n",
    "* no tenemos un apalancamiento notorio.\n",
    "* hay linealidad y normalidad\n",
    "* la homocedasticidad es constante, no es creciente"
   ]
  },
  {
   "cell_type": "code",
   "execution_count": 51,
   "metadata": {},
   "outputs": [
    {
     "data": {
      "image/png": "[encoded data removed]",
      "text/plain": [
       "plot without title"
      ]
     },
     "metadata": {},
     "output_type": "display_data"
    }
   ],
   "source": [
    "plot + geom_smooth(method = \"lm\", se = FALSE)"
   ]
  },
  {
   "cell_type": "markdown",
   "metadata": {},
   "source": [
    "visualizamos el modelo con ggplot2, vemos un modelo confiable"
   ]
  },
  {
   "cell_type": "markdown",
   "metadata": {},
   "source": []
  },
  {
   "cell_type": "markdown",
   "metadata": {},
   "source": [
    "#### 3- Implementar un modelo de regresión utilizando las variables disp, wt y hp, donde disp será la variable respuesta y wt y hp las variables explicativas. Hay que comentar los resultados obtenidos y apoyarlos sobre gráficos"
   ]
  },
  {
   "cell_type": "code",
   "execution_count": 53,
   "metadata": {},
   "outputs": [
    {
     "name": "stdout",
     "output_type": "stream",
     "text": [
      "'data.frame':\t32 obs. of  3 variables:\n",
      " $ disp: num  160 160 108 258 360 ...\n",
      " $ wt  : num  2.62 2.88 2.32 3.21 3.44 ...\n",
      " $ hp  : num  110 110 93 110 175 105 245 62 95 123 ...\n"
     ]
    },
    {
     "data": {
      "text/plain": [
       "      disp             wt              hp       \n",
       " Min.   : 71.1   Min.   :1.513   Min.   : 52.0  \n",
       " 1st Qu.:120.8   1st Qu.:2.581   1st Qu.: 96.5  \n",
       " Median :196.3   Median :3.325   Median :123.0  \n",
       " Mean   :230.7   Mean   :3.217   Mean   :146.7  \n",
       " 3rd Qu.:326.0   3rd Qu.:3.610   3rd Qu.:180.0  \n",
       " Max.   :472.0   Max.   :5.424   Max.   :335.0  "
      ]
     },
     "metadata": {},
     "output_type": "display_data"
    }
   ],
   "source": [
    "datosCars2 <- mtcars %>% select(disp,wt,hp) \n",
    "str(datosCars2)\n",
    "summary(datosCars2)"
   ]
  },
  {
   "cell_type": "code",
   "execution_count": 54,
   "metadata": {},
   "outputs": [
    {
     "data": {
      "text/plain": [
       "\n",
       "Call:\n",
       "lm(formula = disp ~ wt + hp, data = datosCars2)\n",
       "\n",
       "Residuals:\n",
       "    Min      1Q  Median      3Q     Max \n",
       "-82.565 -23.802   2.111  35.731  99.107 \n",
       "\n",
       "Coefficients:\n",
       "             Estimate Std. Error t value Pr(>|t|)    \n",
       "(Intercept) -129.9506    29.1890  -4.452 0.000116 ***\n",
       "wt            82.1125    11.5518   7.108 8.04e-08 ***\n",
       "hp             0.6578     0.1649   3.990 0.000411 ***\n",
       "---\n",
       "Signif. codes:  0 '***' 0.001 '**' 0.01 '*' 0.05 '.' 0.1 ' ' 1\n",
       "\n",
       "Residual standard error: 47.35 on 29 degrees of freedom\n",
       "Multiple R-squared:  0.8635,\tAdjusted R-squared:  0.8541 \n",
       "F-statistic: 91.71 on 2 and 29 DF,  p-value: 2.889e-13\n"
      ]
     },
     "metadata": {},
     "output_type": "display_data"
    }
   ],
   "source": [
    "# implementar modelo de regreción\n",
    "\n",
    "regresion2 <- lm(disp ~ wt + hp, data = datosCars2)\n",
    "summary(regresion2)"
   ]
  },
  {
   "cell_type": "markdown",
   "metadata": {},
   "source": [
    "los Coefficients nos indican que las variables son adecuadas"
   ]
  },
  {
   "cell_type": "code",
   "execution_count": 55,
   "metadata": {},
   "outputs": [
    {
     "data": {
      "image/png": "[encoded data removed]",
      "text/plain": [
       "Plot with title \"\""
      ]
     },
     "metadata": {},
     "output_type": "display_data"
    },
    {
     "data": {
      "image/png": "[encoded data removed]",
      "text/plain": [
       "Plot with title \"\""
      ]
     },
     "metadata": {},
     "output_type": "display_data"
    },
    {
     "data": {
      "image/png": "[encoded data removed]",
      "text/plain": [
       "Plot with title \"\""
      ]
     },
     "metadata": {},
     "output_type": "display_data"
    },
    {
     "data": {
      "image/png": "[encoded data removed]",
      "text/plain": [
       "Plot with title \"\""
      ]
     },
     "metadata": {},
     "output_type": "display_data"
    }
   ],
   "source": [
    "plot(regresion2)"
   ]
  },
  {
   "cell_type": "code",
   "execution_count": null,
   "metadata": {},
   "outputs": [],
   "source": []
  }
 ],
 "metadata": {
  "kernelspec": {
   "display_name": "R",
   "language": "R",
   "name": "ir"
  },
  "language_info": {
   "codemirror_mode": "r",
   "file_extension": ".r",
   "mimetype": "text/x-r-source",
   "name": "R",
   "pygments_lexer": "r",
   "version": "3.6.1"
  }
 },
 "nbformat": 4,
 "nbformat_minor": 2
}
