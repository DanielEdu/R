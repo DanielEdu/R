{
 "cells": [
  {
   "cell_type": "markdown",
   "metadata": {},
   "source": [
    "# ACTIVIDAD GUIADA 1"
   ]
  },
  {
   "cell_type": "markdown",
   "metadata": {},
   "source": [
    "\n",
    "1. Se ha realizado una encuesta a 100 familias preguntando por el número de coches que poseen, los resultados han sido los siguientes:\n"
   ]
  },
  {
   "cell_type": "markdown",
   "metadata": {},
   "source": [
    "    1.1. Introducir estos datos en un dataframe en R"
   ]
  },
  {
   "cell_type": "code",
   "execution_count": 1,
   "metadata": {},
   "outputs": [],
   "source": [
    "NroVehiculos <- c(1, 2, 3, 4, 5)\n",
    "NroFamilias <- c(45, 34, 15, 4, 2)\n",
    "encuesta <- data.frame(NroVehiculos, NroFamilias)"
   ]
  },
  {
   "cell_type": "code",
   "execution_count": 2,
   "metadata": {},
   "outputs": [
    {
     "data": {
      "text/html": [
       "<table>\n",
       "<thead><tr><th scope=col>NroVehiculos</th><th scope=col>NroFamilias</th></tr></thead>\n",
       "<tbody>\n",
       "\t<tr><td>1 </td><td>45</td></tr>\n",
       "\t<tr><td>2 </td><td>34</td></tr>\n",
       "\t<tr><td>3 </td><td>15</td></tr>\n",
       "\t<tr><td>4 </td><td> 4</td></tr>\n",
       "\t<tr><td>5 </td><td> 2</td></tr>\n",
       "</tbody>\n",
       "</table>\n"
      ],
      "text/latex": [
       "\\begin{tabular}{r|ll}\n",
       " NroVehiculos & NroFamilias\\\\\n",
       "\\hline\n",
       "\t 1  & 45\\\\\n",
       "\t 2  & 34\\\\\n",
       "\t 3  & 15\\\\\n",
       "\t 4  &  4\\\\\n",
       "\t 5  &  2\\\\\n",
       "\\end{tabular}\n"
      ],
      "text/markdown": [
       "\n",
       "| NroVehiculos | NroFamilias |\n",
       "|---|---|\n",
       "| 1  | 45 |\n",
       "| 2  | 34 |\n",
       "| 3  | 15 |\n",
       "| 4  |  4 |\n",
       "| 5  |  2 |\n",
       "\n"
      ],
      "text/plain": [
       "  NroVehiculos NroFamilias\n",
       "1 1            45         \n",
       "2 2            34         \n",
       "3 3            15         \n",
       "4 4             4         \n",
       "5 5             2         "
      ]
     },
     "metadata": {},
     "output_type": "display_data"
    }
   ],
   "source": [
    "head(encuesta)"
   ]
  },
  {
   "cell_type": "markdown",
   "metadata": {},
   "source": [
    "    1.2. Añadir columnas con la:\n",
    "* frecuencia relativa\n",
    "* frecuencia absoluta acumulada \n",
    "* frecuencia relativa acumulada\n",
    "\n",
    "Comentar brevemente los resultados."
   ]
  },
  {
   "cell_type": "markdown",
   "metadata": {},
   "source": [
    "__frecuencia relativa:__ la frecuencia relativa nos informa acerca de la proporción o el peso que tiene algún valor u observación en la muestra. Esto la hace de especial utilidad, dado que a diferencia de la frecuencia absoluta, la frecuencia relativa nos va a permitir hacer comparaciones entre muestras de tamaños distintos. Esta se puede expresar como un valor decimal, como fracción o como porcentaje.\n",
    "* fi = frecuencia absoluta / cantidad total de elementos\n",
    "* fi = ni/sum(ni)"
   ]
  },
  {
   "cell_type": "code",
   "execution_count": 3,
   "metadata": {},
   "outputs": [],
   "source": [
    "encuesta['fi'] <- encuesta$NroFamilias/sum(encuesta$NroFamilias)"
   ]
  },
  {
   "cell_type": "markdown",
   "metadata": {},
   "source": [
    "__frecuencia absoluta acumulada:__ es el resultado de ir sumando las frecuencias absolutas de las observaciones o valores de una población o muestra.\n",
    "\n",
    "Para calcular la frecuencia absoluta acumulada (Ni), hay que calcular primero la frecuencia absoluta (ni) de la población o muestra."
   ]
  },
  {
   "cell_type": "code",
   "execution_count": 4,
   "metadata": {},
   "outputs": [],
   "source": [
    "encuesta['Ni'] <- cumsum(encuesta$NroFamilias)"
   ]
  },
  {
   "cell_type": "markdown",
   "metadata": {},
   "source": [
    "__frecuencia relativa acumulada:__ La frecuencia relativa acumulada es el resultado de ir sumando las frecuencias relativas de las observaciones o valores de una población o muestra. \n",
    "\n",
    "Para calcular la frecuencia relativa acumulada, hay que calcular primero la frecuencia absoluta (ni) y la frecuencia relativa (fi) de los valores de la población o muestra.\n",
    "Para ello, los datos se ordenan de menor a mayor y se colocan en una tabla."
   ]
  },
  {
   "cell_type": "code",
   "execution_count": 5,
   "metadata": {},
   "outputs": [],
   "source": [
    "encuesta['Fi'] <- encuesta$Ni/sum(encuesta$NroFamilias)"
   ]
  },
  {
   "cell_type": "code",
   "execution_count": 6,
   "metadata": {},
   "outputs": [
    {
     "data": {
      "text/html": [
       "<table>\n",
       "<thead><tr><th scope=col>NroVehiculos</th><th scope=col>NroFamilias</th><th scope=col>fi</th><th scope=col>Ni</th><th scope=col>Fi</th></tr></thead>\n",
       "<tbody>\n",
       "\t<tr><td>1   </td><td>45  </td><td>0.45</td><td> 45 </td><td>0.45</td></tr>\n",
       "\t<tr><td>2   </td><td>34  </td><td>0.34</td><td> 79 </td><td>0.79</td></tr>\n",
       "\t<tr><td>3   </td><td>15  </td><td>0.15</td><td> 94 </td><td>0.94</td></tr>\n",
       "\t<tr><td>4   </td><td> 4  </td><td>0.04</td><td> 98 </td><td>0.98</td></tr>\n",
       "\t<tr><td>5   </td><td> 2  </td><td>0.02</td><td>100 </td><td>1.00</td></tr>\n",
       "</tbody>\n",
       "</table>\n"
      ],
      "text/latex": [
       "\\begin{tabular}{r|lllll}\n",
       " NroVehiculos & NroFamilias & fi & Ni & Fi\\\\\n",
       "\\hline\n",
       "\t 1    & 45   & 0.45 &  45  & 0.45\\\\\n",
       "\t 2    & 34   & 0.34 &  79  & 0.79\\\\\n",
       "\t 3    & 15   & 0.15 &  94  & 0.94\\\\\n",
       "\t 4    &  4   & 0.04 &  98  & 0.98\\\\\n",
       "\t 5    &  2   & 0.02 & 100  & 1.00\\\\\n",
       "\\end{tabular}\n"
      ],
      "text/markdown": [
       "\n",
       "| NroVehiculos | NroFamilias | fi | Ni | Fi |\n",
       "|---|---|---|---|---|\n",
       "| 1    | 45   | 0.45 |  45  | 0.45 |\n",
       "| 2    | 34   | 0.34 |  79  | 0.79 |\n",
       "| 3    | 15   | 0.15 |  94  | 0.94 |\n",
       "| 4    |  4   | 0.04 |  98  | 0.98 |\n",
       "| 5    |  2   | 0.02 | 100  | 1.00 |\n",
       "\n"
      ],
      "text/plain": [
       "  NroVehiculos NroFamilias fi   Ni  Fi  \n",
       "1 1            45          0.45  45 0.45\n",
       "2 2            34          0.34  79 0.79\n",
       "3 3            15          0.15  94 0.94\n",
       "4 4             4          0.04  98 0.98\n",
       "5 5             2          0.02 100 1.00"
      ]
     },
     "metadata": {},
     "output_type": "display_data"
    }
   ],
   "source": [
    "head(encuesta)"
   ]
  },
  {
   "cell_type": "markdown",
   "metadata": {},
   "source": [
    "### 2. Utilizando el dataset iris, sobre la columna Sepal.Width realizar un análisis incluyendo el cálculo de medidas de tendencia central, de dispersión y de forma, apoyando los resultados sobre los gráficos necesarios y comentando las deducciones realizadas."
   ]
  },
  {
   "cell_type": "code",
   "execution_count": 7,
   "metadata": {},
   "outputs": [
    {
     "name": "stderr",
     "output_type": "stream",
     "text": [
      "\n",
      "Attaching package: 'dplyr'\n",
      "\n",
      "The following objects are masked from 'package:stats':\n",
      "\n",
      "    filter, lag\n",
      "\n",
      "The following objects are masked from 'package:base':\n",
      "\n",
      "    intersect, setdiff, setequal, union\n",
      "\n",
      "Registered S3 methods overwritten by 'ggplot2':\n",
      "  method         from \n",
      "  [.quosures     rlang\n",
      "  c.quosures     rlang\n",
      "  print.quosures rlang\n"
     ]
    }
   ],
   "source": [
    "library(dplyr)\n",
    "library(ggplot2)"
   ]
  },
  {
   "cell_type": "code",
   "execution_count": 8,
   "metadata": {},
   "outputs": [
    {
     "data": {
      "text/html": [
       "<table>\n",
       "<thead><tr><th scope=col>Sepal.Length</th><th scope=col>Sepal.Width</th><th scope=col>Petal.Length</th><th scope=col>Petal.Width</th><th scope=col>Species</th></tr></thead>\n",
       "<tbody>\n",
       "\t<tr><td>5.1   </td><td>3.5   </td><td>1.4   </td><td>0.2   </td><td>setosa</td></tr>\n",
       "\t<tr><td>4.9   </td><td>3.0   </td><td>1.4   </td><td>0.2   </td><td>setosa</td></tr>\n",
       "\t<tr><td>4.7   </td><td>3.2   </td><td>1.3   </td><td>0.2   </td><td>setosa</td></tr>\n",
       "\t<tr><td>4.6   </td><td>3.1   </td><td>1.5   </td><td>0.2   </td><td>setosa</td></tr>\n",
       "\t<tr><td>5.0   </td><td>3.6   </td><td>1.4   </td><td>0.2   </td><td>setosa</td></tr>\n",
       "\t<tr><td>5.4   </td><td>3.9   </td><td>1.7   </td><td>0.4   </td><td>setosa</td></tr>\n",
       "</tbody>\n",
       "</table>\n"
      ],
      "text/latex": [
       "\\begin{tabular}{r|lllll}\n",
       " Sepal.Length & Sepal.Width & Petal.Length & Petal.Width & Species\\\\\n",
       "\\hline\n",
       "\t 5.1    & 3.5    & 1.4    & 0.2    & setosa\\\\\n",
       "\t 4.9    & 3.0    & 1.4    & 0.2    & setosa\\\\\n",
       "\t 4.7    & 3.2    & 1.3    & 0.2    & setosa\\\\\n",
       "\t 4.6    & 3.1    & 1.5    & 0.2    & setosa\\\\\n",
       "\t 5.0    & 3.6    & 1.4    & 0.2    & setosa\\\\\n",
       "\t 5.4    & 3.9    & 1.7    & 0.4    & setosa\\\\\n",
       "\\end{tabular}\n"
      ],
      "text/markdown": [
       "\n",
       "| Sepal.Length | Sepal.Width | Petal.Length | Petal.Width | Species |\n",
       "|---|---|---|---|---|\n",
       "| 5.1    | 3.5    | 1.4    | 0.2    | setosa |\n",
       "| 4.9    | 3.0    | 1.4    | 0.2    | setosa |\n",
       "| 4.7    | 3.2    | 1.3    | 0.2    | setosa |\n",
       "| 4.6    | 3.1    | 1.5    | 0.2    | setosa |\n",
       "| 5.0    | 3.6    | 1.4    | 0.2    | setosa |\n",
       "| 5.4    | 3.9    | 1.7    | 0.4    | setosa |\n",
       "\n"
      ],
      "text/plain": [
       "  Sepal.Length Sepal.Width Petal.Length Petal.Width Species\n",
       "1 5.1          3.5         1.4          0.2         setosa \n",
       "2 4.9          3.0         1.4          0.2         setosa \n",
       "3 4.7          3.2         1.3          0.2         setosa \n",
       "4 4.6          3.1         1.5          0.2         setosa \n",
       "5 5.0          3.6         1.4          0.2         setosa \n",
       "6 5.4          3.9         1.7          0.4         setosa "
      ]
     },
     "metadata": {},
     "output_type": "display_data"
    }
   ],
   "source": [
    "attach(iris)\n",
    "head(iris)"
   ]
  },
  {
   "cell_type": "markdown",
   "metadata": {},
   "source": [
    "### __Medidas de tendencia central__ \n",
    "\n",
    "Son medidas estadísticas que pretenden resumir en un solo valor a un conjunto de valores. Representan un centro en torno al cual se encuentra ubicado el conjunto de los datos. Las medidas de tendencia central más utilizadas son: media, mediana y moda. "
   ]
  },
  {
   "cell_type": "code",
   "execution_count": 9,
   "metadata": {},
   "outputs": [],
   "source": [
    "SepalWidth = iris$Sepal.Width\n"
   ]
  },
  {
   "cell_type": "markdown",
   "metadata": {},
   "source": [
    "__media:__ La media aritmética es la suma de todos los datos dividida entre el número total de datos. "
   ]
  },
  {
   "cell_type": "code",
   "execution_count": 10,
   "metadata": {},
   "outputs": [
    {
     "data": {
      "text/html": [
       "3.05733333333333"
      ],
      "text/latex": [
       "3.05733333333333"
      ],
      "text/markdown": [
       "3.05733333333333"
      ],
      "text/plain": [
       "[1] 3.057333"
      ]
     },
     "metadata": {},
     "output_type": "display_data"
    }
   ],
   "source": [
    "mean(SepalWidth)"
   ]
  },
  {
   "cell_type": "markdown",
   "metadata": {},
   "source": [
    "__Mediana:__ La mediana de un conjunto de números es el número medio en el conjunto (después que los números han sido arreglados del menor al mayor) o, si hay un número par de datos, la mediana es el promedio de los dos números medios."
   ]
  },
  {
   "cell_type": "code",
   "execution_count": 11,
   "metadata": {},
   "outputs": [
    {
     "data": {
      "text/html": [
       "3"
      ],
      "text/latex": [
       "3"
      ],
      "text/markdown": [
       "3"
      ],
      "text/plain": [
       "[1] 3"
      ]
     },
     "metadata": {},
     "output_type": "display_data"
    }
   ],
   "source": [
    "median(SepalWidth)"
   ]
  },
  {
   "cell_type": "markdown",
   "metadata": {},
   "source": [
    "__Moda:__ a moda de un conjunto de números es el número que aparece más a menudo."
   ]
  },
  {
   "cell_type": "code",
   "execution_count": 12,
   "metadata": {},
   "outputs": [],
   "source": [
    "moda=function(x) {\n",
    "    q=table(x)\n",
    "    q=sort(q,TRUE)\n",
    "    return(q[1])\n",
    "     }"
   ]
  },
  {
   "cell_type": "code",
   "execution_count": 13,
   "metadata": {},
   "outputs": [
    {
     "data": {
      "text/html": [
       "<strong>3:</strong> 26"
      ],
      "text/latex": [
       "\\textbf{3:} 26"
      ],
      "text/markdown": [
       "**3:** 26"
      ],
      "text/plain": [
       " 3 \n",
       "26 "
      ]
     },
     "metadata": {},
     "output_type": "display_data"
    }
   ],
   "source": [
    "moda(SepalWidth)"
   ]
  },
  {
   "cell_type": "code",
   "execution_count": 15,
   "metadata": {},
   "outputs": [
    {
     "name": "stderr",
     "output_type": "stream",
     "text": [
      "`stat_bin()` using `bins = 30`. Pick better value with `binwidth`.\n"
     ]
    },
    {
     "data": {
      "image/png": "[encoded data removed]",
      "text/plain": [
       "plot without title"
      ]
     },
     "metadata": {},
     "output_type": "display_data"
    }
   ],
   "source": [
    "hg <- ggplot(aes(x = SepalWidth), data = iris) + \n",
    "        geom_histogram(color = 'green', fill = 'green', alpha = 0.2)\n",
    "hg"
   ]
  },
  {
   "cell_type": "code",
   "execution_count": 72,
   "metadata": {},
   "outputs": [
    {
     "name": "stderr",
     "output_type": "stream",
     "text": [
      "`stat_bin()` using `bins = 30`. Pick better value with `binwidth`.\n"
     ]
    },
    {
     "data": {
      "image/png": "[encoded data removed]",
      "text/plain": [
       "plot without title"
      ]
     },
     "metadata": {},
     "output_type": "display_data"
    }
   ],
   "source": [
    "p2 <- hg + geom_vline(\n",
    "    aes(xintercept=median(SepalWidth), color=\"mediana\"), \n",
    "    linetype=\"dashed\",\n",
    "    size=1\n",
    ")+ geom_vline(\n",
    "    aes(xintercept=mean(SepalWidth), color=\"media\"), \n",
    "    linetype=\"dashed\",\n",
    "    size=1\n",
    ")+ geom_vline(\n",
    "    aes(xintercept=3, color=\"moda\"), \n",
    "    linetype=\"dashed\",\n",
    "    size=2\n",
    ")\n",
    "p2"
   ]
  },
  {
   "cell_type": "markdown",
   "metadata": {},
   "source": [
    "\n"
   ]
  },
  {
   "cell_type": "markdown",
   "metadata": {},
   "source": [
    "### Medidas de dispersión\n",
    "Parámetros estadísticos que indican como se alejan los datos respecto de la media aritmética. Sirven como indicador de la variabilidad de los datos. Las medidas de dispersión más utilizadas son el rango, la desviación estándar y la varianza."
   ]
  },
  {
   "cell_type": "markdown",
   "metadata": {},
   "source": [
    "__Varianza:__ utilizado para medir la dispersión de los valores de una variable respecto a la media. Corresponde a la media aritmética de los cuadrados de las desviaciones respecto a la media. Su expresión matemática es: \n",
    "\n",
    "<img src=\"img/Varianza_formula.png\" alt=\"Varianza\" style=\"width: 180px;\"/>"
   ]
  },
  {
   "cell_type": "code",
   "execution_count": 17,
   "metadata": {},
   "outputs": [
    {
     "data": {
      "text/html": [
       "0.189979418344519"
      ],
      "text/latex": [
       "0.189979418344519"
      ],
      "text/markdown": [
       "0.189979418344519"
      ],
      "text/plain": [
       "[1] 0.1899794"
      ]
     },
     "metadata": {},
     "output_type": "display_data"
    }
   ],
   "source": [
    "var(SepalWidth)"
   ]
  },
  {
   "cell_type": "markdown",
   "metadata": {},
   "source": [
    "__Desviación estánda:__ La desviación estándar mide el grado de disersión de los datos con respecto a la media, se denota como s para una muestra o como σ para la población. Se define como la raiz cuadrada de la varianza.\n",
    "\n",
    "*Mientras menor sea la desviación estándar, los datos son más homogéneos, es decir existe menor dispersión, el incremento de los valores de la desviación estándar indica una mayor variabilidad de los datos.*"
   ]
  },
  {
   "cell_type": "code",
   "execution_count": 18,
   "metadata": {},
   "outputs": [
    {
     "data": {
      "text/html": [
       "0.435866284936698"
      ],
      "text/latex": [
       "0.435866284936698"
      ],
      "text/markdown": [
       "0.435866284936698"
      ],
      "text/plain": [
       "[1] 0.4358663"
      ]
     },
     "metadata": {},
     "output_type": "display_data"
    }
   ],
   "source": [
    "sd(SepalWidth)"
   ]
  },
  {
   "cell_type": "markdown",
   "metadata": {},
   "source": [
    "### Medidas de Forma\n",
    "son aquellas que nos muestran si una distribución de frecuencia tiene características especiales como simetría, asimetría, nivel de concentración de datos y nivel de apuntamiento que la clasifiquen en un tipo particular de distribución.\n",
    "\n",
    "Para analizar estos asepctos recurriremos a dos tipos de medida:\n",
    "\n",
    "* Coeficiente de asimetria de Fischer.\n",
    "* Coeficiente de curtosis a apuntamiento de Fisher."
   ]
  },
  {
   "cell_type": "code",
   "execution_count": 73,
   "metadata": {},
   "outputs": [],
   "source": [
    "# install.packages(\"e1071\")\n",
    "# install.packages(\"rcompanion\")\n",
    "# install.packages(\"UsingR\")\n",
    "library(e1071)\n",
    "library(UsingR)\n",
    "library(rcompanion)"
   ]
  },
  {
   "cell_type": "markdown",
   "metadata": {},
   "source": [
    "__COEFIENTE DE ASIMETRÍA DE FISHER:__ Una distribución es simétrica cuando al trazar una vertical, en el diagrama de barras o histograma de una variable, según sea esta discreta o continua, por el valor de la media, esta vertical se transforma en eje de simetría y entonces decimos que la distribución es simétrica. En caso contrario, dicha distribución será asimétrica o diremos que presenta asimetría.\n",
    "\n",
    "La asimetría puede ser de dos tipos:\n",
    "\n",
    "* Asimétrica por la derecha.\n",
    "* Asimétrica por la izquierda.\n",
    "<img src=\"img/asimetria.gif\" alt=\"Varianza\" style=\"width: 180px;\"/>"
   ]
  },
  {
   "cell_type": "code",
   "execution_count": 74,
   "metadata": {},
   "outputs": [
    {
     "data": {
      "text/html": [
       "0.312614703922861"
      ],
      "text/latex": [
       "0.312614703922861"
      ],
      "text/markdown": [
       "0.312614703922861"
      ],
      "text/plain": [
       "[1] 0.3126147"
      ]
     },
     "metadata": {},
     "output_type": "display_data"
    }
   ],
   "source": [
    "skewness(SepalWidth)\n",
    "help(skewness)"
   ]
  },
  {
   "cell_type": "markdown",
   "metadata": {},
   "source": [
    "__COEFIENTE DE CURTOSIS O APUNTAMIENTO DE FISHER:__ al igual que con la simetría hemos de tomar una referencia para ver si la distribución de los datos es apuntada o no. La referencia citada es la distribución normal, y así distinguiremos tres casos:\n",
    "\n",
    "* __Leptocúrtica__, si la distribución es más picuda que la normal, $g_{2}$>0 \n",
    "* __Mesocúrtica__, si la distribución es igual a la normal, $g_{2}$=0\n",
    "* __Platicúrtica__, si la distribución es más aplastada que la normal. $g_{2}$<0\n",
    "\n",
    "<img src=\"img/curtosis.png\" alt=\"Varianza\" style=\"width: 300px;\"/>"
   ]
  },
  {
   "cell_type": "code",
   "execution_count": 27,
   "metadata": {},
   "outputs": [
    {
     "data": {
      "text/html": [
       "0.138704676680725"
      ],
      "text/latex": [
       "0.138704676680725"
      ],
      "text/markdown": [
       "0.138704676680725"
      ],
      "text/plain": [
       "[1] 0.1387047"
      ]
     },
     "metadata": {},
     "output_type": "display_data"
    }
   ],
   "source": [
    "kurtosis(SepalWidth)"
   ]
  },
  {
   "cell_type": "code",
   "execution_count": 77,
   "metadata": {},
   "outputs": [
    {
     "data": {
      "image/png": "[encoded data removed]",
      "text/plain": [
       "Plot with title \"\""
      ]
     },
     "metadata": {},
     "output_type": "display_data"
    },
    {
     "data": {
      "image/png": "[encoded data removed]",
      "text/plain": [
       "Plot with title \"\""
      ]
     },
     "metadata": {},
     "output_type": "display_data"
    }
   ],
   "source": [
    "plotNormalDensity(SepalWidth)\n",
    "plotNormalHistogram(SepalWidth)"
   ]
  },
  {
   "cell_type": "code",
   "execution_count": 79,
   "metadata": {},
   "outputs": [
    {
     "data": {
      "image/png": "[encoded data removed]",
      "text/plain": [
       "Plot with title \"\""
      ]
     },
     "metadata": {},
     "output_type": "display_data"
    }
   ],
   "source": [
    "plotNormalDensity(SepalWidth)\n",
    "abline(v = mean(SepalWidth), col = \"red\", lwd = 2)\n",
    "text(mean(SepalWidth)+0.12, moda(SepalWidth)+7 , \"mean\", cex = 1)"
   ]
  },
  {
   "cell_type": "markdown",
   "metadata": {},
   "source": [
    " \n",
    " \n",
    " "
   ]
  },
  {
   "cell_type": "markdown",
   "metadata": {},
   "source": [
    "  "
   ]
  },
  {
   "cell_type": "markdown",
   "metadata": {},
   "source": []
  },
  {
   "cell_type": "code",
   "execution_count": null,
   "metadata": {},
   "outputs": [],
   "source": []
  },
  {
   "cell_type": "code",
   "execution_count": null,
   "metadata": {},
   "outputs": [],
   "source": []
  }
 ],
 "metadata": {
  "kernelspec": {
   "display_name": "R",
   "language": "R",
   "name": "ir"
  },
  "language_info": {
   "codemirror_mode": "r",
   "file_extension": ".r",
   "mimetype": "text/x-r-source",
   "name": "R",
   "pygments_lexer": "r",
   "version": "3.6.1"
  }
 },
 "nbformat": 4,
 "nbformat_minor": 2
}
