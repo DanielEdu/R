{
 "cells": [
  {
   "cell_type": "markdown",
   "metadata": {},
   "source": [
    "# Introducción a R"
   ]
  },
  {
   "cell_type": "markdown",
   "metadata": {},
   "source": [
    "## Librerías de R\n",
    "R tiene una gran cantidad de librerías disponibles para aplicar todo tipo de algoritmos. La documentación sobre las mismas se encuentra en la página del repositorio oficial: https://cran.r-project.org/web/packages/available_packages_by_name.html\n",
    "\n",
    "Las librerías añaden funcionalidades al código de R para casos particularesx existen librerías para poder utilizar ciertos algoritmos, para conectarse a cierto tipo de bases de datos, para poder manejar datasets de forma eficiente...\n",
    "\n",
    "Para mantener un orden, se recomienda cargar las librerías __al principio de los scripts__."
   ]
  },
  {
   "cell_type": "code",
   "execution_count": 2,
   "metadata": {},
   "outputs": [
    {
     "name": "stderr",
     "output_type": "stream",
     "text": [
      "\n",
      "Attaching package: 'dplyr'\n",
      "\n",
      "The following objects are masked from 'package:stats':\n",
      "\n",
      "    filter, lag\n",
      "\n",
      "The following objects are masked from 'package:base':\n",
      "\n",
      "    intersect, setdiff, setequal, union\n",
      "\n"
     ]
    }
   ],
   "source": [
    "#install.packages(\"dplyr\") # las librerías se pueden instalar con el comando install.packages o con la ayuda de RStudio\n",
    "library(dplyr) "
   ]
  },
  {
   "cell_type": "markdown",
   "metadata": {},
   "source": [
    "Es sencillo encontrar a la documentación de la librería desde google, y se puede obtener información utilizando el comando ? de ayuda."
   ]
  },
  {
   "cell_type": "code",
   "execution_count": 3,
   "metadata": {},
   "outputs": [
    {
     "data": {
      "text/html": [
       "\n",
       "<table width=\"100%\" summary=\"page for mean {base}\"><tr><td>mean {base}</td><td style=\"text-align: right;\">R Documentation</td></tr></table>\n",
       "\n",
       "<h2>Arithmetic Mean</h2>\n",
       "\n",
       "<h3>Description</h3>\n",
       "\n",
       "<p>Generic function for the (trimmed) arithmetic mean.\n",
       "</p>\n",
       "\n",
       "\n",
       "<h3>Usage</h3>\n",
       "\n",
       "<pre>\n",
       "mean(x, ...)\n",
       "\n",
       "## Default S3 method:\n",
       "mean(x, trim = 0, na.rm = FALSE, ...)\n",
       "</pre>\n",
       "\n",
       "\n",
       "<h3>Arguments</h3>\n",
       "\n",
       "<table summary=\"R argblock\">\n",
       "<tr valign=\"top\"><td><code>x</code></td>\n",
       "<td>\n",
       "<p>An <span style=\"font-family: Courier New, Courier; color: #666666;\"><b>R</b></span> object.  Currently there are methods for\n",
       "numeric/logical vectors and date,\n",
       "date-time and time interval objects.  Complex vectors\n",
       "are allowed for <code>trim = 0</code>, only.</p>\n",
       "</td></tr>\n",
       "<tr valign=\"top\"><td><code>trim</code></td>\n",
       "<td>\n",
       "<p>the fraction (0 to 0.5) of observations to be\n",
       "trimmed from each end of <code>x</code> before the mean is computed.\n",
       "Values of trim outside that range are taken as the nearest endpoint.\n",
       "</p>\n",
       "</td></tr>\n",
       "<tr valign=\"top\"><td><code>na.rm</code></td>\n",
       "<td>\n",
       "<p>a logical value indicating whether <code>NA</code>\n",
       "values should be stripped before the computation proceeds.</p>\n",
       "</td></tr>\n",
       "<tr valign=\"top\"><td><code>...</code></td>\n",
       "<td>\n",
       "<p>further arguments passed to or from other methods.</p>\n",
       "</td></tr>\n",
       "</table>\n",
       "\n",
       "\n",
       "<h3>Value</h3>\n",
       "\n",
       "<p>If <code>trim</code> is zero (the default), the arithmetic mean of the\n",
       "values in <code>x</code> is computed, as a numeric or complex vector of\n",
       "length one.  If <code>x</code> is not logical (coerced to numeric), numeric\n",
       "(including integer) or complex, <code>NA_real_</code> is returned, with a warning.\n",
       "</p>\n",
       "<p>If <code>trim</code> is non-zero, a symmetrically trimmed mean is computed\n",
       "with a fraction of <code>trim</code> observations deleted from each end\n",
       "before the mean is computed.\n",
       "</p>\n",
       "\n",
       "\n",
       "<h3>References</h3>\n",
       "\n",
       "<p>Becker, R. A., Chambers, J. M. and Wilks, A. R. (1988)\n",
       "<em>The New S Language</em>.\n",
       "Wadsworth &amp; Brooks/Cole.\n",
       "</p>\n",
       "\n",
       "\n",
       "<h3>See Also</h3>\n",
       "\n",
       "<p><code>weighted.mean</code>, <code>mean.POSIXct</code>,\n",
       "<code>colMeans</code> for row and column means.\n",
       "</p>\n",
       "\n",
       "\n",
       "<h3>Examples</h3>\n",
       "\n",
       "<pre>\n",
       "x &lt;- c(0:10, 50)\n",
       "xm &lt;- mean(x)\n",
       "c(xm, mean(x, trim = 0.10))\n",
       "</pre>\n",
       "\n",
       "<hr /><div style=\"text-align: center;\">[Package <em>base</em> version 3.6.1 ]</div>"
      ],
      "text/latex": [
       "\\inputencoding{utf8}\n",
       "\\HeaderA{mean}{Arithmetic Mean}{mean}\n",
       "\\methaliasA{mean.default}{mean}{mean.default}\n",
       "\\keyword{univar}{mean}\n",
       "%\n",
       "\\begin{Description}\\relax\n",
       "Generic function for the (trimmed) arithmetic mean.\n",
       "\\end{Description}\n",
       "%\n",
       "\\begin{Usage}\n",
       "\\begin{verbatim}\n",
       "mean(x, ...)\n",
       "\n",
       "## Default S3 method:\n",
       "mean(x, trim = 0, na.rm = FALSE, ...)\n",
       "\\end{verbatim}\n",
       "\\end{Usage}\n",
       "%\n",
       "\\begin{Arguments}\n",
       "\\begin{ldescription}\n",
       "\\item[\\code{x}] An \\R{} object.  Currently there are methods for\n",
       "numeric/logical vectors and \\LinkA{date}{Dates},\n",
       "\\LinkA{date-time}{date.Rdash.time} and \\LinkA{time interval}{time interval} objects.  Complex vectors\n",
       "are allowed for \\code{trim = 0}, only.\n",
       "\\item[\\code{trim}] the fraction (0 to 0.5) of observations to be\n",
       "trimmed from each end of \\code{x} before the mean is computed.\n",
       "Values of trim outside that range are taken as the nearest endpoint.\n",
       "\n",
       "\\item[\\code{na.rm}] a logical value indicating whether \\code{NA}\n",
       "values should be stripped before the computation proceeds.\n",
       "\\item[\\code{...}] further arguments passed to or from other methods.\n",
       "\\end{ldescription}\n",
       "\\end{Arguments}\n",
       "%\n",
       "\\begin{Value}\n",
       "If \\code{trim} is zero (the default), the arithmetic mean of the\n",
       "values in \\code{x} is computed, as a numeric or complex vector of\n",
       "length one.  If \\code{x} is not logical (coerced to numeric), numeric\n",
       "(including integer) or complex, \\code{NA\\_real\\_} is returned, with a warning.\n",
       "\n",
       "If \\code{trim} is non-zero, a symmetrically trimmed mean is computed\n",
       "with a fraction of \\code{trim} observations deleted from each end\n",
       "before the mean is computed.\n",
       "\\end{Value}\n",
       "%\n",
       "\\begin{References}\\relax\n",
       "Becker, R. A., Chambers, J. M. and Wilks, A. R. (1988)\n",
       "\\emph{The New S Language}.\n",
       "Wadsworth \\& Brooks/Cole.\n",
       "\\end{References}\n",
       "%\n",
       "\\begin{SeeAlso}\\relax\n",
       "\\code{\\LinkA{weighted.mean}{weighted.mean}}, \\code{\\LinkA{mean.POSIXct}{mean.POSIXct}},\n",
       "\\code{\\LinkA{colMeans}{colMeans}} for row and column means.\n",
       "\\end{SeeAlso}\n",
       "%\n",
       "\\begin{Examples}\n",
       "\\begin{ExampleCode}\n",
       "x <- c(0:10, 50)\n",
       "xm <- mean(x)\n",
       "c(xm, mean(x, trim = 0.10))\n",
       "\\end{ExampleCode}\n",
       "\\end{Examples}"
      ],
      "text/plain": [
       "mean                   package:base                    R Documentation\n",
       "\n",
       "_\bA_\br_\bi_\bt_\bh_\bm_\be_\bt_\bi_\bc _\bM_\be_\ba_\bn\n",
       "\n",
       "_\bD_\be_\bs_\bc_\br_\bi_\bp_\bt_\bi_\bo_\bn:\n",
       "\n",
       "     Generic function for the (trimmed) arithmetic mean.\n",
       "\n",
       "_\bU_\bs_\ba_\bg_\be:\n",
       "\n",
       "     mean(x, ...)\n",
       "     \n",
       "     ## Default S3 method:\n",
       "     mean(x, trim = 0, na.rm = FALSE, ...)\n",
       "     \n",
       "_\bA_\br_\bg_\bu_\bm_\be_\bn_\bt_\bs:\n",
       "\n",
       "       x: An R object.  Currently there are methods for numeric/logical\n",
       "          vectors and date, date-time and time interval objects.\n",
       "          Complex vectors are allowed for 'trim = 0', only.\n",
       "\n",
       "    trim: the fraction (0 to 0.5) of observations to be trimmed from\n",
       "          each end of 'x' before the mean is computed.  Values of trim\n",
       "          outside that range are taken as the nearest endpoint.\n",
       "\n",
       "   na.rm: a logical value indicating whether 'NA' values should be\n",
       "          stripped before the computation proceeds.\n",
       "\n",
       "     ...: further arguments passed to or from other methods.\n",
       "\n",
       "_\bV_\ba_\bl_\bu_\be:\n",
       "\n",
       "     If 'trim' is zero (the default), the arithmetic mean of the values\n",
       "     in 'x' is computed, as a numeric or complex vector of length one.\n",
       "     If 'x' is not logical (coerced to numeric), numeric (including\n",
       "     integer) or complex, 'NA_real_' is returned, with a warning.\n",
       "\n",
       "     If 'trim' is non-zero, a symmetrically trimmed mean is computed\n",
       "     with a fraction of 'trim' observations deleted from each end\n",
       "     before the mean is computed.\n",
       "\n",
       "_\bR_\be_\bf_\be_\br_\be_\bn_\bc_\be_\bs:\n",
       "\n",
       "     Becker, R. A., Chambers, J. M. and Wilks, A. R. (1988) _The New S\n",
       "     Language_.  Wadsworth & Brooks/Cole.\n",
       "\n",
       "_\bS_\be_\be _\bA_\bl_\bs_\bo:\n",
       "\n",
       "     'weighted.mean', 'mean.POSIXct', 'colMeans' for row and column\n",
       "     means.\n",
       "\n",
       "_\bE_\bx_\ba_\bm_\bp_\bl_\be_\bs:\n",
       "\n",
       "     x <- c(0:10, 50)\n",
       "     xm <- mean(x)\n",
       "     c(xm, mean(x, trim = 0.10))\n",
       "     "
      ]
     },
     "metadata": {},
     "output_type": "display_data"
    }
   ],
   "source": [
    "?mean\n",
    "# dplyr::funcion(parametros)"
   ]
  },
  {
   "cell_type": "markdown",
   "metadata": {},
   "source": [
    "No es necesario cargar una librería entera si lo que se buscar es ejecutar una única función de la misma, basta con llamar a la función de la librería con ::"
   ]
  },
  {
   "cell_type": "markdown",
   "metadata": {},
   "source": [
    "## Clases básicas de datos en R\n",
    "R utiliza programación orientada a objetos y en términos genéricos, todos los elementos que maneja R son objetos: un valor numérico es un objeto, un vector es un objeto, una función es un objeto, un gráfico es un objeto, …\n",
    "\n",
    "Las clases básicas de datos son los siguientes:\n",
    "\n",
    "- __Numeric__: Es el tipo de dato básico en R para utilizar números que no son enteros.\n",
    "- __Integer__: Tipo de dato básico para los enteros.\n",
    "- __Logical__: Valor lógico, TRUE/FALSE.\n",
    "- __Character__: Tipo de dato asociado a las cadenas o _strings_"
   ]
  },
  {
   "cell_type": "code",
   "execution_count": 7,
   "metadata": {},
   "outputs": [
    {
     "data": {
      "text/html": [
       "10.5"
      ],
      "text/latex": [
       "10.5"
      ],
      "text/markdown": [
       "10.5"
      ],
      "text/plain": [
       "[1] 10.5"
      ]
     },
     "metadata": {},
     "output_type": "display_data"
    }
   ],
   "source": [
    "x <- c(1:20)\n",
    "xm <- mean(x)\n",
    "xm"
   ]
  },
  {
   "cell_type": "code",
   "execution_count": 3,
   "metadata": {},
   "outputs": [],
   "source": [
    "numero <- 10.5\n",
    "entero <- as.integer(10)\n",
    "logico <- TRUE # FALSE\n",
    "caracter <- \"hola\""
   ]
  },
  {
   "cell_type": "markdown",
   "metadata": {},
   "source": [
    "Comprobamos las clases:"
   ]
  },
  {
   "cell_type": "code",
   "execution_count": 4,
   "metadata": {},
   "outputs": [
    {
     "name": "stdout",
     "output_type": "stream",
     "text": [
      "[1] \"numeric\"\n",
      "[1] \"integer\"\n",
      "[1] \"logical\"\n",
      "[1] \"character\"\n"
     ]
    }
   ],
   "source": [
    "print(class(numero))\n",
    "print(class(entero))\n",
    "print(class(logico))\n",
    "print(class(caracter))"
   ]
  },
  {
   "cell_type": "markdown",
   "metadata": {},
   "source": [
    "R permite realizar cambios en las clases siempre _que sea posible_ esto es, siempre que el cambio tenga sentido y el objeto pueda tener el formato necesario para su transformación."
   ]
  },
  {
   "cell_type": "code",
   "execution_count": 5,
   "metadata": {},
   "outputs": [
    {
     "name": "stdout",
     "output_type": "stream",
     "text": [
      "[1] \"10\"\n",
      "[1] \"character\"\n",
      "[1] 10\n",
      "[1] \"numeric\"\n",
      "[1] 20\n"
     ]
    }
   ],
   "source": [
    "var <- \"10\"\n",
    "print(var)\n",
    "print(class(var))\n",
    "var <- as.numeric(var)\n",
    "print(var)\n",
    "print(class(var))\n",
    "print( var * 2)"
   ]
  },
  {
   "cell_type": "code",
   "execution_count": 6,
   "metadata": {},
   "outputs": [
    {
     "name": "stdout",
     "output_type": "stream",
     "text": [
      "[1] \"10\"\n"
     ]
    },
    {
     "data": {
      "text/html": [
       "'character'"
      ],
      "text/latex": [
       "'character'"
      ],
      "text/markdown": [
       "'character'"
      ],
      "text/plain": [
       "[1] \"character\""
      ]
     },
     "metadata": {},
     "output_type": "display_data"
    },
    {
     "name": "stdout",
     "output_type": "stream",
     "text": [
      "[1] 10\n"
     ]
    },
    {
     "data": {
      "text/html": [
       "'numeric'"
      ],
      "text/latex": [
       "'numeric'"
      ],
      "text/markdown": [
       "'numeric'"
      ],
      "text/plain": [
       "[1] \"numeric\""
      ]
     },
     "metadata": {},
     "output_type": "display_data"
    }
   ],
   "source": [
    "caracter <- \"10\"\n",
    "print(caracter)\n",
    "class(caracter)\n",
    "caracter_a_numero <- as.numeric(caracter)\n",
    "print(caracter_a_numero)\n",
    "class(caracter_a_numero)"
   ]
  },
  {
   "cell_type": "code",
   "execution_count": 7,
   "metadata": {},
   "outputs": [
    {
     "name": "stdout",
     "output_type": "stream",
     "text": [
      "[1] \"TRUE\"\n"
     ]
    },
    {
     "data": {
      "text/html": [
       "'character'"
      ],
      "text/latex": [
       "'character'"
      ],
      "text/markdown": [
       "'character'"
      ],
      "text/plain": [
       "[1] \"character\""
      ]
     },
     "metadata": {},
     "output_type": "display_data"
    },
    {
     "name": "stdout",
     "output_type": "stream",
     "text": [
      "[1] TRUE\n"
     ]
    },
    {
     "data": {
      "text/html": [
       "'logical'"
      ],
      "text/latex": [
       "'logical'"
      ],
      "text/markdown": [
       "'logical'"
      ],
      "text/plain": [
       "[1] \"logical\""
      ]
     },
     "metadata": {},
     "output_type": "display_data"
    }
   ],
   "source": [
    "logic <- \"TRUE\"\n",
    "print(logic)\n",
    "class(logic)\n",
    "caracter_a_logico <- as.logical(logic)\n",
    "print(caracter_a_logico)\n",
    "class(caracter_a_logico)"
   ]
  },
  {
   "cell_type": "markdown",
   "metadata": {},
   "source": [
    "Estas funciones as.XXXX() existen para realizar cambios entre multitud de objetos en R."
   ]
  },
  {
   "cell_type": "markdown",
   "metadata": {},
   "source": [
    "## Vectores\n",
    "\n",
    "Lo que se ha generado arriba son __vectores__ de longitud 1, que son los tipos de datos más básicos en R. Cada vector tiene su propia clase y todos los elementos del mismo vector __han de tener la misma clase__ esto es importante, ya que luego presentaremos estructuras más complejas que pueden tener distintas clases de objetos contenidos.\n",
    "\n",
    "Cuando se quiere crear un vector de longitud mayor que 1 se utiliza la función __c()__ que combina los elementos en el mismo vector."
   ]
  },
  {
   "cell_type": "code",
   "execution_count": 9,
   "metadata": {},
   "outputs": [],
   "source": [
    "vector_numero <- c(1, 3, 10.5, pi)\n",
    "vector_entero <- as.integer(c(1, 3, 10, 1000))\n",
    "vector_logico <- c(TRUE, FALSE, TRUE, FALSE)\n",
    "vector_caracter <- c(\"hola\", \"hasta luego\", \"1\", \"TRUE\")"
   ]
  },
  {
   "cell_type": "code",
   "execution_count": 10,
   "metadata": {},
   "outputs": [
    {
     "data": {
      "text/html": [
       "<ol class=list-inline>\n",
       "\t<li>1</li>\n",
       "\t<li>3</li>\n",
       "\t<li>10.5</li>\n",
       "\t<li>3.14159265358979</li>\n",
       "</ol>\n"
      ],
      "text/latex": [
       "\\begin{enumerate*}\n",
       "\\item 1\n",
       "\\item 3\n",
       "\\item 10.5\n",
       "\\item 3.14159265358979\n",
       "\\end{enumerate*}\n"
      ],
      "text/markdown": [
       "1. 1\n",
       "2. 3\n",
       "3. 10.5\n",
       "4. 3.14159265358979\n",
       "\n",
       "\n"
      ],
      "text/plain": [
       "[1]  1.000000  3.000000 10.500000  3.141593"
      ]
     },
     "metadata": {},
     "output_type": "display_data"
    }
   ],
   "source": [
    "vector_numero"
   ]
  },
  {
   "cell_type": "markdown",
   "metadata": {},
   "source": [
    "Para __indexar__ en un vector, utilizaremos unos corchetes simples [], por lo que:"
   ]
  },
  {
   "cell_type": "code",
   "execution_count": 11,
   "metadata": {},
   "outputs": [
    {
     "data": {
      "text/html": [
       "3.14159265358979"
      ],
      "text/latex": [
       "3.14159265358979"
      ],
      "text/markdown": [
       "3.14159265358979"
      ],
      "text/plain": [
       "[1] 3.141593"
      ]
     },
     "metadata": {},
     "output_type": "display_data"
    },
    {
     "data": {
      "text/html": [
       "<ol class=list-inline>\n",
       "\t<li>'hola'</li>\n",
       "\t<li>'1'</li>\n",
       "</ol>\n"
      ],
      "text/latex": [
       "\\begin{enumerate*}\n",
       "\\item 'hola'\n",
       "\\item '1'\n",
       "\\end{enumerate*}\n"
      ],
      "text/markdown": [
       "1. 'hola'\n",
       "2. '1'\n",
       "\n",
       "\n"
      ],
      "text/plain": [
       "[1] \"hola\" \"1\"   "
      ]
     },
     "metadata": {},
     "output_type": "display_data"
    }
   ],
   "source": [
    "vector_numero[4]\n",
    "vector_caracter[c(1,3)]"
   ]
  },
  {
   "cell_type": "markdown",
   "metadata": {},
   "source": [
    "Devuelve el cuarto valor de vector_numero. Por otro lado, cuando en vez de un número positivo dentro de los corchetes se encuentra un número negativo, R omite las posiciones al devolver el vector."
   ]
  },
  {
   "cell_type": "code",
   "execution_count": 11,
   "metadata": {},
   "outputs": [
    {
     "data": {
      "text/html": [
       "<ol class=list-inline>\n",
       "\t<li>1</li>\n",
       "\t<li>3</li>\n",
       "\t<li>10.5</li>\n",
       "</ol>\n"
      ],
      "text/latex": [
       "\\begin{enumerate*}\n",
       "\\item 1\n",
       "\\item 3\n",
       "\\item 10.5\n",
       "\\end{enumerate*}\n"
      ],
      "text/markdown": [
       "1. 1\n",
       "2. 3\n",
       "3. 10.5\n",
       "\n",
       "\n"
      ],
      "text/plain": [
       "[1]  1.0  3.0 10.5"
      ]
     },
     "metadata": {},
     "output_type": "display_data"
    },
    {
     "data": {
      "text/html": [
       "<ol class=list-inline>\n",
       "\t<li>10.5</li>\n",
       "\t<li>3.14159265358979</li>\n",
       "</ol>\n"
      ],
      "text/latex": [
       "\\begin{enumerate*}\n",
       "\\item 10.5\n",
       "\\item 3.14159265358979\n",
       "\\end{enumerate*}\n"
      ],
      "text/markdown": [
       "1. 10.5\n",
       "2. 3.14159265358979\n",
       "\n",
       "\n"
      ],
      "text/plain": [
       "[1] 10.500000  3.141593"
      ]
     },
     "metadata": {},
     "output_type": "display_data"
    }
   ],
   "source": [
    "vector_numero[-4]\n",
    "vector_numero[c(-1, -2)]"
   ]
  },
  {
   "cell_type": "markdown",
   "metadata": {},
   "source": [
    "Añadir elementos a un vector es sencillo, se puede utilizar la misma función c() añadiendo los nuevos valores:"
   ]
  },
  {
   "cell_type": "code",
   "execution_count": 12,
   "metadata": {},
   "outputs": [
    {
     "data": {
      "text/html": [
       "<ol class=list-inline>\n",
       "\t<li>'hola'</li>\n",
       "\t<li>'hasta luego'</li>\n",
       "\t<li>'1'</li>\n",
       "\t<li>'TRUE'</li>\n",
       "\t<li>'nuevo elemento'</li>\n",
       "</ol>\n"
      ],
      "text/latex": [
       "\\begin{enumerate*}\n",
       "\\item 'hola'\n",
       "\\item 'hasta luego'\n",
       "\\item '1'\n",
       "\\item 'TRUE'\n",
       "\\item 'nuevo elemento'\n",
       "\\end{enumerate*}\n"
      ],
      "text/markdown": [
       "1. 'hola'\n",
       "2. 'hasta luego'\n",
       "3. '1'\n",
       "4. 'TRUE'\n",
       "5. 'nuevo elemento'\n",
       "\n",
       "\n"
      ],
      "text/plain": [
       "[1] \"hola\"           \"hasta luego\"    \"1\"              \"TRUE\"          \n",
       "[5] \"nuevo elemento\""
      ]
     },
     "metadata": {},
     "output_type": "display_data"
    }
   ],
   "source": [
    "vector_caracter <- c(vector_caracter, \"nuevo elemento\")\n",
    "vector_caracter"
   ]
  },
  {
   "cell_type": "code",
   "execution_count": 16,
   "metadata": {},
   "outputs": [],
   "source": [
    "v1 <- v1[1]"
   ]
  },
  {
   "cell_type": "code",
   "execution_count": 17,
   "metadata": {},
   "outputs": [
    {
     "data": {
      "text/html": [
       "'1'"
      ],
      "text/latex": [
       "'1'"
      ],
      "text/markdown": [
       "'1'"
      ],
      "text/plain": [
       "[1] \"1\""
      ]
     },
     "metadata": {},
     "output_type": "display_data"
    }
   ],
   "source": [
    "v1"
   ]
  },
  {
   "cell_type": "code",
   "execution_count": 27,
   "metadata": {},
   "outputs": [
    {
     "name": "stdout",
     "output_type": "stream",
     "text": [
      "[1] 1 3\n"
     ]
    },
    {
     "data": {
      "text/html": [
       "<ol class=list-inline>\n",
       "\t<li>'1'</li>\n",
       "\t<li>'3'</li>\n",
       "</ol>\n"
      ],
      "text/latex": [
       "\\begin{enumerate*}\n",
       "\\item '1'\n",
       "\\item '3'\n",
       "\\end{enumerate*}\n"
      ],
      "text/markdown": [
       "1. '1'\n",
       "2. '3'\n",
       "\n",
       "\n"
      ],
      "text/plain": [
       "[1] \"1\" \"3\""
      ]
     },
     "metadata": {},
     "output_type": "display_data"
    }
   ],
   "source": [
    "v1 <- c(\"a\", \"1\", \"2\")\n",
    "v1 <- v1[2]\n",
    "v1 <- c(v1, 3)\n",
    "print(as.numeric(v1))\n",
    "v1"
   ]
  },
  {
   "cell_type": "markdown",
   "metadata": {},
   "source": [
    "## Matrices"
   ]
  },
  {
   "cell_type": "markdown",
   "metadata": {},
   "source": [
    "Una matriz es una colección de elementos indezados por filas y columnas, al igual que sucede con los vectores una matriz tiene la misma clase de dato en todos sus elementos."
   ]
  },
  {
   "cell_type": "code",
   "execution_count": 28,
   "metadata": {},
   "outputs": [
    {
     "data": {
      "text/html": [
       "\n",
       "<table width=\"100%\" summary=\"page for matrix {base}\"><tr><td>matrix {base}</td><td style=\"text-align: right;\">R Documentation</td></tr></table>\n",
       "\n",
       "<h2>Matrices</h2>\n",
       "\n",
       "<h3>Description</h3>\n",
       "\n",
       "<p><code>matrix</code> creates a matrix from the given set of values.\n",
       "</p>\n",
       "<p><code>as.matrix</code> attempts to turn its argument into a matrix.\n",
       "</p>\n",
       "<p><code>is.matrix</code> tests if its argument is a (strict) matrix.\n",
       "</p>\n",
       "\n",
       "\n",
       "<h3>Usage</h3>\n",
       "\n",
       "<pre>\n",
       "matrix(data = NA, nrow = 1, ncol = 1, byrow = FALSE,\n",
       "       dimnames = NULL)\n",
       "\n",
       "as.matrix(x, ...)\n",
       "## S3 method for class 'data.frame'\n",
       "as.matrix(x, rownames.force = NA, ...)\n",
       "\n",
       "is.matrix(x)\n",
       "</pre>\n",
       "\n",
       "\n",
       "<h3>Arguments</h3>\n",
       "\n",
       "<table summary=\"R argblock\">\n",
       "<tr valign=\"top\"><td><code>data</code></td>\n",
       "<td>\n",
       "<p>an optional data vector (including a list or\n",
       "<code>expression</code> vector).  Non-atomic classed <span style=\"font-family: Courier New, Courier; color: #666666;\"><b>R</b></span> objects are\n",
       "coerced by <code>as.vector</code> and all attributes discarded.</p>\n",
       "</td></tr>\n",
       "<tr valign=\"top\"><td><code>nrow</code></td>\n",
       "<td>\n",
       "<p>the desired number of rows.</p>\n",
       "</td></tr>\n",
       "<tr valign=\"top\"><td><code>ncol</code></td>\n",
       "<td>\n",
       "<p>the desired number of columns.</p>\n",
       "</td></tr>\n",
       "<tr valign=\"top\"><td><code>byrow</code></td>\n",
       "<td>\n",
       "<p>logical. If <code>FALSE</code> (the default) the matrix is\n",
       "filled by columns, otherwise the matrix is filled by rows.</p>\n",
       "</td></tr>\n",
       "<tr valign=\"top\"><td><code>dimnames</code></td>\n",
       "<td>\n",
       "<p>A <code>dimnames</code> attribute for the matrix:\n",
       "<code>NULL</code> or a <code>list</code> of length 2 giving the row and column\n",
       "names respectively.  An empty list is treated as <code>NULL</code>, and a\n",
       "list of length one as row names.  The list can be named, and the\n",
       "list names will be used as names for the dimensions.</p>\n",
       "</td></tr>\n",
       "<tr valign=\"top\"><td><code>x</code></td>\n",
       "<td>\n",
       "<p>an <span style=\"font-family: Courier New, Courier; color: #666666;\"><b>R</b></span> object.</p>\n",
       "</td></tr>\n",
       "<tr valign=\"top\"><td><code>...</code></td>\n",
       "<td>\n",
       "<p>additional arguments to be passed to or from methods.</p>\n",
       "</td></tr>\n",
       "<tr valign=\"top\"><td><code>rownames.force</code></td>\n",
       "<td>\n",
       "<p>logical indicating if the resulting matrix\n",
       "should have character (rather than <code>NULL</code>)\n",
       "<code>rownames</code>.  The default, <code>NA</code>, uses <code>NULL</code>\n",
       "rownames if the data frame has &lsquo;automatic&rsquo; row.names or for a\n",
       "zero-row data frame.</p>\n",
       "</td></tr>\n",
       "</table>\n",
       "\n",
       "\n",
       "<h3>Details</h3>\n",
       "\n",
       "<p>If one of <code>nrow</code> or <code>ncol</code> is not given, an attempt is\n",
       "made to infer it from the length of <code>data</code> and the other\n",
       "parameter.  If neither is given, a one-column matrix is returned.\n",
       "</p>\n",
       "<p>If there are too few elements in <code>data</code> to fill the matrix,\n",
       "then the elements in <code>data</code> are recycled.  If <code>data</code> has\n",
       "length zero, <code>NA</code> of an appropriate type is used for atomic\n",
       "vectors (<code>0</code> for raw vectors) and <code>NULL</code> for lists.\n",
       "</p>\n",
       "<p><code>is.matrix</code> returns <code>TRUE</code> if <code>x</code> is a vector and has a\n",
       "<code>\"dim\"</code> attribute of length 2 and <code>FALSE</code> otherwise.\n",
       "Note that a <code>data.frame</code> is <strong>not</strong> a matrix by this\n",
       "test.  The function is generic: you can write methods to handle\n",
       "specific classes of objects, see InternalMethods.\n",
       "</p>\n",
       "<p><code>as.matrix</code> is a generic function.  The method for data frames\n",
       "will return a character matrix if there is only atomic columns and any\n",
       "non-(numeric/logical/complex) column, applying <code>as.vector</code>\n",
       "to factors and <code>format</code> to other non-character columns.\n",
       "Otherwise, the usual coercion hierarchy (logical &lt; integer &lt; double &lt;\n",
       "complex) will be used, e.g., all-logical data frames will be coerced\n",
       "to a logical matrix, mixed logical-integer will give a integer matrix,\n",
       "etc.\n",
       "</p>\n",
       "<p>The default method for <code>as.matrix</code> calls <code>as.vector(x)</code>, and\n",
       "hence e.g. coerces factors to character vectors.\n",
       "</p>\n",
       "<p>When coercing a vector, it produces a one-column matrix, and\n",
       "promotes the names (if any) of the vector to the rownames of the matrix.\n",
       "</p>\n",
       "<p><code>is.matrix</code> is a primitive function.\n",
       "</p>\n",
       "<p>The <code>print</code> method for a matrix gives a rectangular layout with\n",
       "dimnames or indices.  For a list matrix, the entries of length not\n",
       "one are printed in  the form <span class=\"samp\">integer,7</span> indicating the type\n",
       "and length.\n",
       "</p>\n",
       "\n",
       "\n",
       "<h3>Note</h3>\n",
       "\n",
       "<p>If you just want to convert a vector to a matrix, something like\n",
       "</p>\n",
       "<pre>  dim(x) &lt;- c(nx, ny)\n",
       "  dimnames(x) &lt;- list(row_names, col_names)\n",
       "</pre>\n",
       "<p>will avoid duplicating <code>x</code>.\n",
       "</p>\n",
       "\n",
       "\n",
       "<h3>References</h3>\n",
       "\n",
       "<p>Becker, R. A., Chambers, J. M. and Wilks, A. R. (1988)\n",
       "<em>The New S Language</em>.\n",
       "Wadsworth &amp; Brooks/Cole.\n",
       "</p>\n",
       "\n",
       "\n",
       "<h3>See Also</h3>\n",
       "\n",
       "<p><code>data.matrix</code>, which attempts to convert to a numeric\n",
       "matrix.\n",
       "</p>\n",
       "<p>A matrix is the special case of a two-dimensional <code>array</code>.\n",
       "</p>\n",
       "\n",
       "\n",
       "<h3>Examples</h3>\n",
       "\n",
       "<pre>\n",
       "is.matrix(as.matrix(1:10))\n",
       "!is.matrix(warpbreaks)  # data.frame, NOT matrix!\n",
       "warpbreaks[1:10,]\n",
       "as.matrix(warpbreaks[1:10,])  # using as.matrix.data.frame(.) method\n",
       "\n",
       "## Example of setting row and column names\n",
       "mdat &lt;- matrix(c(1,2,3, 11,12,13), nrow = 2, ncol = 3, byrow = TRUE,\n",
       "               dimnames = list(c(\"row1\", \"row2\"),\n",
       "                               c(\"C.1\", \"C.2\", \"C.3\")))\n",
       "mdat\n",
       "</pre>\n",
       "\n",
       "<hr /><div style=\"text-align: center;\">[Package <em>base</em> version 3.6.1 ]</div>"
      ],
      "text/latex": [
       "\\inputencoding{utf8}\n",
       "\\HeaderA{matrix}{Matrices}{matrix}\n",
       "\\aliasA{as.matrix}{matrix}{as.matrix}\n",
       "\\methaliasA{as.matrix.data.frame}{matrix}{as.matrix.data.frame}\n",
       "\\methaliasA{as.matrix.default}{matrix}{as.matrix.default}\n",
       "\\aliasA{is.matrix}{matrix}{is.matrix}\n",
       "\\keyword{array}{matrix}\n",
       "\\keyword{algebra}{matrix}\n",
       "%\n",
       "\\begin{Description}\\relax\n",
       "\\code{matrix} creates a matrix from the given set of values.\n",
       "\n",
       "\\code{as.matrix} attempts to turn its argument into a matrix.\n",
       "\n",
       "\\code{is.matrix} tests if its argument is a (strict) matrix.\n",
       "\\end{Description}\n",
       "%\n",
       "\\begin{Usage}\n",
       "\\begin{verbatim}\n",
       "matrix(data = NA, nrow = 1, ncol = 1, byrow = FALSE,\n",
       "       dimnames = NULL)\n",
       "\n",
       "as.matrix(x, ...)\n",
       "## S3 method for class 'data.frame'\n",
       "as.matrix(x, rownames.force = NA, ...)\n",
       "\n",
       "is.matrix(x)\n",
       "\\end{verbatim}\n",
       "\\end{Usage}\n",
       "%\n",
       "\\begin{Arguments}\n",
       "\\begin{ldescription}\n",
       "\\item[\\code{data}] an optional data vector (including a list or\n",
       "\\code{\\LinkA{expression}{expression}} vector).  Non-atomic classed \\R{} objects are\n",
       "coerced by \\code{\\LinkA{as.vector}{as.vector}} and all attributes discarded.\n",
       "\\item[\\code{nrow}] the desired number of rows.\n",
       "\\item[\\code{ncol}] the desired number of columns.\n",
       "\\item[\\code{byrow}] logical. If \\code{FALSE} (the default) the matrix is\n",
       "filled by columns, otherwise the matrix is filled by rows.\n",
       "\\item[\\code{dimnames}] A \\code{\\LinkA{dimnames}{dimnames}} attribute for the matrix:\n",
       "\\code{NULL} or a \\code{list} of length 2 giving the row and column\n",
       "names respectively.  An empty list is treated as \\code{NULL}, and a\n",
       "list of length one as row names.  The list can be named, and the\n",
       "list names will be used as names for the dimensions.\n",
       "\\item[\\code{x}] an \\R{} object.\n",
       "\\item[\\code{...}] additional arguments to be passed to or from methods.\n",
       "\\item[\\code{rownames.force}] logical indicating if the resulting matrix\n",
       "should have character (rather than \\code{NULL})\n",
       "\\code{\\LinkA{rownames}{rownames}}.  The default, \\code{NA}, uses \\code{NULL}\n",
       "rownames if the data frame has `automatic' row.names or for a\n",
       "zero-row data frame.\n",
       "\\end{ldescription}\n",
       "\\end{Arguments}\n",
       "%\n",
       "\\begin{Details}\\relax\n",
       "If one of \\code{nrow} or \\code{ncol} is not given, an attempt is\n",
       "made to infer it from the length of \\code{data} and the other\n",
       "parameter.  If neither is given, a one-column matrix is returned.\n",
       "\n",
       "If there are too few elements in \\code{data} to fill the matrix,\n",
       "then the elements in \\code{data} are recycled.  If \\code{data} has\n",
       "length zero, \\code{NA} of an appropriate type is used for atomic\n",
       "vectors (\\code{0} for raw vectors) and \\code{NULL} for lists.\n",
       "\n",
       "\\code{is.matrix} returns \\code{TRUE} if \\code{x} is a vector and has a\n",
       "\\code{\"\\LinkA{dim}{dim}\"} attribute of length 2 and \\code{FALSE} otherwise.\n",
       "Note that a \\code{\\LinkA{data.frame}{data.frame}} is \\strong{not} a matrix by this\n",
       "test.  The function is generic: you can write methods to handle\n",
       "specific classes of objects, see \\LinkA{InternalMethods}{InternalMethods}.\n",
       "\n",
       "\\code{as.matrix} is a generic function.  The method for data frames\n",
       "will return a character matrix if there is only atomic columns and any\n",
       "non-(numeric/logical/complex) column, applying \\code{\\LinkA{as.vector}{as.vector}}\n",
       "to factors and \\code{\\LinkA{format}{format}} to other non-character columns.\n",
       "Otherwise, the usual coercion hierarchy (logical < integer < double <\n",
       "complex) will be used, e.g., all-logical data frames will be coerced\n",
       "to a logical matrix, mixed logical-integer will give a integer matrix,\n",
       "etc.\n",
       "\n",
       "The default method for \\code{as.matrix} calls \\code{as.vector(x)}, and\n",
       "hence e.g.~coerces factors to character vectors.\n",
       "\n",
       "When coercing a vector, it produces a one-column matrix, and\n",
       "promotes the names (if any) of the vector to the rownames of the matrix.\n",
       "\n",
       "\\code{is.matrix} is a \\LinkA{primitive}{primitive} function.\n",
       "\n",
       "The \\code{print} method for a matrix gives a rectangular layout with\n",
       "dimnames or indices.  For a list matrix, the entries of length not\n",
       "one are printed in  the form \\samp{integer,7} indicating the type\n",
       "and length.\n",
       "\\end{Details}\n",
       "%\n",
       "\\begin{Note}\\relax\n",
       "If you just want to convert a vector to a matrix, something like\n",
       "\\begin{alltt}  dim(x) <- c(nx, ny)\n",
       "  dimnames(x) <- list(row_names, col_names)\n",
       "\\end{alltt}\n",
       "\n",
       "will avoid duplicating \\code{x}.\n",
       "\\end{Note}\n",
       "%\n",
       "\\begin{References}\\relax\n",
       "Becker, R. A., Chambers, J. M. and Wilks, A. R. (1988)\n",
       "\\emph{The New S Language}.\n",
       "Wadsworth \\& Brooks/Cole.\n",
       "\\end{References}\n",
       "%\n",
       "\\begin{SeeAlso}\\relax\n",
       "\\code{\\LinkA{data.matrix}{data.matrix}}, which attempts to convert to a numeric\n",
       "matrix.\n",
       "\n",
       "A matrix is the special case of a two-dimensional \\code{\\LinkA{array}{array}}.\n",
       "\\end{SeeAlso}\n",
       "%\n",
       "\\begin{Examples}\n",
       "\\begin{ExampleCode}\n",
       "is.matrix(as.matrix(1:10))\n",
       "!is.matrix(warpbreaks)  # data.frame, NOT matrix!\n",
       "warpbreaks[1:10,]\n",
       "as.matrix(warpbreaks[1:10,])  # using as.matrix.data.frame(.) method\n",
       "\n",
       "## Example of setting row and column names\n",
       "mdat <- matrix(c(1,2,3, 11,12,13), nrow = 2, ncol = 3, byrow = TRUE,\n",
       "               dimnames = list(c(\"row1\", \"row2\"),\n",
       "                               c(\"C.1\", \"C.2\", \"C.3\")))\n",
       "mdat\n",
       "\\end{ExampleCode}\n",
       "\\end{Examples}"
      ],
      "text/plain": [
       "matrix                  package:base                   R Documentation\n",
       "\n",
       "_\bM_\ba_\bt_\br_\bi_\bc_\be_\bs\n",
       "\n",
       "_\bD_\be_\bs_\bc_\br_\bi_\bp_\bt_\bi_\bo_\bn:\n",
       "\n",
       "     'matrix' creates a matrix from the given set of values.\n",
       "\n",
       "     'as.matrix' attempts to turn its argument into a matrix.\n",
       "\n",
       "     'is.matrix' tests if its argument is a (strict) matrix.\n",
       "\n",
       "_\bU_\bs_\ba_\bg_\be:\n",
       "\n",
       "     matrix(data = NA, nrow = 1, ncol = 1, byrow = FALSE,\n",
       "            dimnames = NULL)\n",
       "     \n",
       "     as.matrix(x, ...)\n",
       "     ## S3 method for class 'data.frame'\n",
       "     as.matrix(x, rownames.force = NA, ...)\n",
       "     \n",
       "     is.matrix(x)\n",
       "     \n",
       "_\bA_\br_\bg_\bu_\bm_\be_\bn_\bt_\bs:\n",
       "\n",
       "    data: an optional data vector (including a list or 'expression'\n",
       "          vector).  Non-atomic classed R objects are coerced by\n",
       "          'as.vector' and all attributes discarded.\n",
       "\n",
       "    nrow: the desired number of rows.\n",
       "\n",
       "    ncol: the desired number of columns.\n",
       "\n",
       "   byrow: logical. If 'FALSE' (the default) the matrix is filled by\n",
       "          columns, otherwise the matrix is filled by rows.\n",
       "\n",
       "dimnames: A 'dimnames' attribute for the matrix: 'NULL' or a 'list' of\n",
       "          length 2 giving the row and column names respectively.  An\n",
       "          empty list is treated as 'NULL', and a list of length one as\n",
       "          row names.  The list can be named, and the list names will be\n",
       "          used as names for the dimensions.\n",
       "\n",
       "       x: an R object.\n",
       "\n",
       "     ...: additional arguments to be passed to or from methods.\n",
       "\n",
       "rownames.force: logical indicating if the resulting matrix should have\n",
       "          character (rather than 'NULL') 'rownames'.  The default,\n",
       "          'NA', uses 'NULL' rownames if the data frame has 'automatic'\n",
       "          row.names or for a zero-row data frame.\n",
       "\n",
       "_\bD_\be_\bt_\ba_\bi_\bl_\bs:\n",
       "\n",
       "     If one of 'nrow' or 'ncol' is not given, an attempt is made to\n",
       "     infer it from the length of 'data' and the other parameter.  If\n",
       "     neither is given, a one-column matrix is returned.\n",
       "\n",
       "     If there are too few elements in 'data' to fill the matrix, then\n",
       "     the elements in 'data' are recycled.  If 'data' has length zero,\n",
       "     'NA' of an appropriate type is used for atomic vectors ('0' for\n",
       "     raw vectors) and 'NULL' for lists.\n",
       "\n",
       "     'is.matrix' returns 'TRUE' if 'x' is a vector and has a '\"dim\"'\n",
       "     attribute of length 2 and 'FALSE' otherwise.  Note that a\n",
       "     'data.frame' is *not* a matrix by this test.  The function is\n",
       "     generic: you can write methods to handle specific classes of\n",
       "     objects, see InternalMethods.\n",
       "\n",
       "     'as.matrix' is a generic function.  The method for data frames\n",
       "     will return a character matrix if there is only atomic columns and\n",
       "     any non-(numeric/logical/complex) column, applying 'as.vector' to\n",
       "     factors and 'format' to other non-character columns.  Otherwise,\n",
       "     the usual coercion hierarchy (logical < integer < double <\n",
       "     complex) will be used, e.g., all-logical data frames will be\n",
       "     coerced to a logical matrix, mixed logical-integer will give a\n",
       "     integer matrix, etc.\n",
       "\n",
       "     The default method for 'as.matrix' calls 'as.vector(x)', and hence\n",
       "     e.g. coerces factors to character vectors.\n",
       "\n",
       "     When coercing a vector, it produces a one-column matrix, and\n",
       "     promotes the names (if any) of the vector to the rownames of the\n",
       "     matrix.\n",
       "\n",
       "     'is.matrix' is a primitive function.\n",
       "\n",
       "     The 'print' method for a matrix gives a rectangular layout with\n",
       "     dimnames or indices.  For a list matrix, the entries of length not\n",
       "     one are printed in the form 'integer,7' indicating the type and\n",
       "     length.\n",
       "\n",
       "_\bN_\bo_\bt_\be:\n",
       "\n",
       "     If you just want to convert a vector to a matrix, something like\n",
       "     \n",
       "       dim(x) <- c(nx, ny)\n",
       "       dimnames(x) <- list(row_names, col_names)\n",
       "\n",
       "     will avoid duplicating 'x'.\n",
       "\n",
       "_\bR_\be_\bf_\be_\br_\be_\bn_\bc_\be_\bs:\n",
       "\n",
       "     Becker, R. A., Chambers, J. M. and Wilks, A. R. (1988) _The New S\n",
       "     Language_.  Wadsworth & Brooks/Cole.\n",
       "\n",
       "_\bS_\be_\be _\bA_\bl_\bs_\bo:\n",
       "\n",
       "     'data.matrix', which attempts to convert to a numeric matrix.\n",
       "\n",
       "     A matrix is the special case of a two-dimensional 'array'.\n",
       "\n",
       "_\bE_\bx_\ba_\bm_\bp_\bl_\be_\bs:\n",
       "\n",
       "     is.matrix(as.matrix(1:10))\n",
       "     !is.matrix(warpbreaks)  # data.frame, NOT matrix!\n",
       "     warpbreaks[1:10,]\n",
       "     as.matrix(warpbreaks[1:10,])  # using as.matrix.data.frame(.) method\n",
       "     \n",
       "     ## Example of setting row and column names\n",
       "     mdat <- matrix(c(1,2,3, 11,12,13), nrow = 2, ncol = 3, byrow = TRUE,\n",
       "                    dimnames = list(c(\"row1\", \"row2\"),\n",
       "                                    c(\"C.1\", \"C.2\", \"C.3\")))\n",
       "     mdat\n",
       "     "
      ]
     },
     "metadata": {},
     "output_type": "display_data"
    }
   ],
   "source": [
    "?matrix"
   ]
  },
  {
   "cell_type": "code",
   "execution_count": 29,
   "metadata": {},
   "outputs": [
    {
     "data": {
      "text/html": [
       "<table>\n",
       "<tbody>\n",
       "\t<tr><td>1</td><td>3</td><td>5</td></tr>\n",
       "\t<tr><td>2</td><td>4</td><td>6</td></tr>\n",
       "</tbody>\n",
       "</table>\n"
      ],
      "text/latex": [
       "\\begin{tabular}{lll}\n",
       "\t 1 & 3 & 5\\\\\n",
       "\t 2 & 4 & 6\\\\\n",
       "\\end{tabular}\n"
      ],
      "text/markdown": [
       "\n",
       "| 1 | 3 | 5 |\n",
       "| 2 | 4 | 6 |\n",
       "\n"
      ],
      "text/plain": [
       "     [,1] [,2] [,3]\n",
       "[1,] 1    3    5   \n",
       "[2,] 2    4    6   "
      ]
     },
     "metadata": {},
     "output_type": "display_data"
    }
   ],
   "source": [
    "m_1 <- matrix(c(1:6), nrow = 2)\n",
    "m_1"
   ]
  },
  {
   "cell_type": "code",
   "execution_count": 30,
   "metadata": {},
   "outputs": [
    {
     "data": {
      "text/html": [
       "<table>\n",
       "<tbody>\n",
       "\t<tr><td>a</td><td>d</td></tr>\n",
       "\t<tr><td>b</td><td>e</td></tr>\n",
       "\t<tr><td>c</td><td>f</td></tr>\n",
       "</tbody>\n",
       "</table>\n"
      ],
      "text/latex": [
       "\\begin{tabular}{ll}\n",
       "\t a & d\\\\\n",
       "\t b & e\\\\\n",
       "\t c & f\\\\\n",
       "\\end{tabular}\n"
      ],
      "text/markdown": [
       "\n",
       "| a | d |\n",
       "| b | e |\n",
       "| c | f |\n",
       "\n"
      ],
      "text/plain": [
       "     [,1] [,2]\n",
       "[1,] a    d   \n",
       "[2,] b    e   \n",
       "[3,] c    f   "
      ]
     },
     "metadata": {},
     "output_type": "display_data"
    }
   ],
   "source": [
    "m_2 <- matrix(c(\"a\", \"b\", \"c\", \"d\", \"e\", \"f\"), ncol = 2)\n",
    "m_2"
   ]
  },
  {
   "cell_type": "markdown",
   "metadata": {},
   "source": [
    "La indexación es parecida a la de los vectores, pero teniendo en cuenta las dos dimensiones."
   ]
  },
  {
   "cell_type": "code",
   "execution_count": 17,
   "metadata": {},
   "outputs": [
    {
     "name": "stdout",
     "output_type": "stream",
     "text": [
      "[1] \"a\"\n",
      "[1] \"e\"\n",
      "     [,1] [,2]\n",
      "[1,] \"a\"  \"d\" \n",
      "[2,] \"c\"  \"f\" \n"
     ]
    }
   ],
   "source": [
    "print(m_2[1,1])\n",
    "print(m_2[2,2])\n",
    "print(m_2[c(1,3), c(1,2)]) # seleccionamos filas 1 y 3, columnas 1 y 2"
   ]
  },
  {
   "cell_type": "markdown",
   "metadata": {},
   "source": [
    "A la hora de indexar en matrices, si no introducimos nada antes de la coma seleccionamos todas las filas, y en el caso de que no introdujamos nada después, seleccionamos todas las columnas."
   ]
  },
  {
   "cell_type": "code",
   "execution_count": 18,
   "metadata": {},
   "outputs": [
    {
     "name": "stdout",
     "output_type": "stream",
     "text": [
      "[1] \"a\" \"b\" \"c\"\n",
      "[1] \"a\" \"d\"\n"
     ]
    }
   ],
   "source": [
    "print(m_2[,1])\n",
    "print(m_2[1,])"
   ]
  },
  {
   "cell_type": "markdown",
   "metadata": {},
   "source": [
    "## Array\n",
    "Un array es idéntico a una matriz, excepto por el hecho de que incluye más de dos dimensiones, es una generalización de una matriz. También ha de tener la misma clase de dato en todos sus elementos."
   ]
  },
  {
   "cell_type": "code",
   "execution_count": 19,
   "metadata": {},
   "outputs": [
    {
     "name": "stdout",
     "output_type": "stream",
     "text": [
      ", , 1\n",
      "\n",
      "     [,1] [,2] [,3]\n",
      "[1,]    1    3    5\n",
      "[2,]    2    4    6\n",
      "\n",
      ", , 2\n",
      "\n",
      "     [,1] [,2] [,3]\n",
      "[1,]    7    9   11\n",
      "[2,]    8   10   12\n",
      "\n"
     ]
    }
   ],
   "source": [
    "a_1 <- array(c(1:12),dim = c(2,3,2))\n",
    "print(a_1)"
   ]
  },
  {
   "cell_type": "markdown",
   "metadata": {},
   "source": [
    "## Factores\n",
    "\n",
    "Hemos visto la clase character, ¿pero cómo caracterizamos características de los individuos cuando realizamos un análisis estadístico? Los factores son la respuesta.\n",
    "\n",
    "Un __factor__ es una variable categórica con un número finito de valores o niveles. En R los factores se utilizan habitualmente para realizar clasificaciones de los datos, estableciendo su pertenencia a los grupos o categorías determinados por los niveles del factor.\n",
    "\n",
    "Es muy importante categorizar este tipo de variables como factores a la hora de implementar modelos en R, porque el resultado obtenido puede ser totalmente diferente y desvirtuar el modelo."
   ]
  },
  {
   "cell_type": "code",
   "execution_count": 20,
   "metadata": {},
   "outputs": [
    {
     "name": "stdout",
     "output_type": "stream",
     "text": [
      "[1] \"Hombre\" \"Mujer\"  \"Hombre\" \"Mujer\"  \"Mujer\"  \"Hombre\" \"Hombre\" \"Hombre\"\n"
     ]
    },
    {
     "data": {
      "text/html": [
       "'character'"
      ],
      "text/latex": [
       "'character'"
      ],
      "text/markdown": [
       "'character'"
      ],
      "text/plain": [
       "[1] \"character\""
      ]
     },
     "metadata": {},
     "output_type": "display_data"
    }
   ],
   "source": [
    "sexo <- c(\"Hombre\", \"Mujer\", \"Hombre\", \"Mujer\", \"Mujer\", \"Hombre\", \"Hombre\", \"Hombre\") # character\n",
    "print(sexo)\n",
    "class(sexo)"
   ]
  },
  {
   "cell_type": "code",
   "execution_count": 21,
   "metadata": {},
   "outputs": [
    {
     "name": "stdout",
     "output_type": "stream",
     "text": [
      "[1] Hombre Mujer  Hombre Mujer  Mujer  Hombre Hombre Hombre\n",
      "Levels: Hombre Mujer\n"
     ]
    },
    {
     "data": {
      "text/html": [
       "'factor'"
      ],
      "text/latex": [
       "'factor'"
      ],
      "text/markdown": [
       "'factor'"
      ],
      "text/plain": [
       "[1] \"factor\""
      ]
     },
     "metadata": {},
     "output_type": "display_data"
    }
   ],
   "source": [
    "factor_sexo <- as.factor(sexo)\n",
    "print(factor_sexo)\n",
    "class(factor_sexo)"
   ]
  },
  {
   "cell_type": "markdown",
   "metadata": {},
   "source": [
    "Esto representa un factor ya que establece para cada sujeto su pertenencia a una de las dos categorías “Hombre” o “Mujer”."
   ]
  },
  {
   "cell_type": "markdown",
   "metadata": {},
   "source": [
    "# Cláusulas básicas, bucles\n",
    "\n",
    "Las expresiones para realizar las comparaciones son las siguientes:\n",
    "\n",
    "- \\>  mayor que\n",
    "- \\>=  mayor o igual que\n",
    "- <  menor que \n",
    "- <= menor o igual que\n",
    "- == igual que\n",
    "- != distinto que\n",
    "\n",
    "Y como en cualquier otro lenguaje de programación, existen las cláusulas if, que tienen la siguiente estructura:\n",
    "\n",
    "if(clausula){<br>\n",
    "&nbsp;&nbsp;&nbsp;&nbsp;&nbsp;&nbsp;código<br>\n",
    "}else if(clausula){<br>\n",
    "&nbsp;&nbsp;&nbsp;&nbsp;&nbsp;&nbsp;código<br>\n",
    "}else(clausula){<br>\n",
    "&nbsp;&nbsp;&nbsp;&nbsp;&nbsp;&nbsp;código<br>\n",
    "}"
   ]
  },
  {
   "cell_type": "code",
   "execution_count": 22,
   "metadata": {},
   "outputs": [
    {
     "name": "stdout",
     "output_type": "stream",
     "text": [
      "[1] \"3 > 1\"\n"
     ]
    }
   ],
   "source": [
    "if (3 < 1){\n",
    "    print(\"3 < 1\")\n",
    "}else if (3 == 1){ # la igualdad se comprueba con ==\n",
    "    print(\"3 = 1\")\n",
    "}else{\n",
    "    print(\"3 > 1\")\n",
    "}"
   ]
  },
  {
   "cell_type": "markdown",
   "metadata": {},
   "source": [
    "Y los bucles do\n",
    "\n",
    "for(clausula){<br>\n",
    "&nbsp;&nbsp;&nbsp;&nbsp;&nbsp;&nbsp;código<br>\n",
    "}"
   ]
  },
  {
   "cell_type": "code",
   "execution_count": 23,
   "metadata": {},
   "outputs": [
    {
     "name": "stdout",
     "output_type": "stream",
     "text": [
      "[1] 1\n",
      "[1] 3\n",
      "[1] 5\n"
     ]
    }
   ],
   "source": [
    "for(valor in c(1:5)[-c(1:5)*2]){\n",
    "    print(valor)\n",
    "}"
   ]
  },
  {
   "cell_type": "markdown",
   "metadata": {},
   "source": [
    "También con while:\n",
    "\n",
    "while(clausula){<br>\n",
    "&nbsp;&nbsp;&nbsp;&nbsp;&nbsp;&nbsp;código<br>\n",
    "}"
   ]
  },
  {
   "cell_type": "code",
   "execution_count": 24,
   "metadata": {},
   "outputs": [
    {
     "name": "stdout",
     "output_type": "stream",
     "text": [
      "[1] 5\n"
     ]
    }
   ],
   "source": [
    "x <- 0\n",
    "while(x < 5){\n",
    "    x <- x + 1\n",
    "}\n",
    "print(x)"
   ]
  },
  {
   "cell_type": "markdown",
   "metadata": {},
   "source": [
    "# Funciones definidas por el usuario (UDF)\n",
    "\n",
    "Una función es un grupo de instrucciones que toma un \"input\" o datos de entrada, usa estos datos para computar otros valores y retorna un resultado/producto.\n",
    "\n",
    "El formato de las funciones en R es el siguiente:\n",
    "\n",
    "nombre_funcion <- function(argumentos){<br>\n",
    "&nbsp;&nbsp;&nbsp;&nbsp;&nbsp;&nbsp;código<br>\n",
    "&nbsp;&nbsp;&nbsp;&nbsp;&nbsp;&nbsp;return(resultado)<br>\n",
    "}"
   ]
  },
  {
   "cell_type": "code",
   "execution_count": 25,
   "metadata": {},
   "outputs": [
    {
     "data": {
      "text/html": [
       "16"
      ],
      "text/latex": [
       "16"
      ],
      "text/markdown": [
       "16"
      ],
      "text/plain": [
       "[1] 16"
      ]
     },
     "metadata": {},
     "output_type": "display_data"
    }
   ],
   "source": [
    "elevar_cuadrado <- function(x){\n",
    "    return(x**2)\n",
    "}\n",
    "elevar_cuadrado(4)"
   ]
  },
  {
   "cell_type": "code",
   "execution_count": 26,
   "metadata": {},
   "outputs": [],
   "source": [
    "sumar <- function(x, y = 1){\n",
    "    z <- x + y\n",
    "    return(z) # z solo existe dentro\n",
    "}"
   ]
  },
  {
   "cell_type": "code",
   "execution_count": 27,
   "metadata": {},
   "outputs": [
    {
     "data": {
      "text/html": [
       "5"
      ],
      "text/latex": [
       "5"
      ],
      "text/markdown": [
       "5"
      ],
      "text/plain": [
       "[1] 5"
      ]
     },
     "metadata": {},
     "output_type": "display_data"
    }
   ],
   "source": [
    "sumar(2, 3)"
   ]
  },
  {
   "cell_type": "markdown",
   "metadata": {},
   "source": [
    "R permite introducir tantos argumentos como queramos, pero solo permite tener un objeto de salida, en caso de querer sacar varios objetos se puede utilzar una lista, que veremos más adelante.\n",
    "\n",
    "También se pueden recar funciones _recursivas_, es decir, funciones que se llaman a sí mismas."
   ]
  },
  {
   "cell_type": "code",
   "execution_count": 28,
   "metadata": {},
   "outputs": [],
   "source": [
    "factorial_recursivo <- function(x) {\n",
    "    if (x == 0){\n",
    "        return (1)\n",
    "    }else{\n",
    "        return (x * factorial_recursivo(x-1))\n",
    "    }\n",
    "}"
   ]
  },
  {
   "cell_type": "code",
   "execution_count": 29,
   "metadata": {},
   "outputs": [
    {
     "data": {
      "text/html": [
       "24"
      ],
      "text/latex": [
       "24"
      ],
      "text/markdown": [
       "24"
      ],
      "text/plain": [
       "[1] 24"
      ]
     },
     "metadata": {},
     "output_type": "display_data"
    },
    {
     "data": {
      "text/html": [
       "TRUE"
      ],
      "text/latex": [
       "TRUE"
      ],
      "text/markdown": [
       "TRUE"
      ],
      "text/plain": [
       "[1] TRUE"
      ]
     },
     "metadata": {},
     "output_type": "display_data"
    }
   ],
   "source": [
    "factorial_recursivo(4)\n",
    "factorial_recursivo(4) == 4*3*2"
   ]
  },
  {
   "cell_type": "markdown",
   "metadata": {},
   "source": [
    "## Dataframes \n",
    "\n",
    "\n",
    "Normalmente, cuando se realiza un estudio estadístico sobre los sujetos u objetos de una muestra, la información se organiza en un dataframe en los que cada fila corresponde a un sujeto y cada columna a una variable. La estructura de un dataframe es muy similar a la de una matriz. Además, a diferencia de las matrices los dataframes ofrecen la posibildiad de añadir en cada columna información de distinto tipo, por lo que dentro del mismo dataframe pueden haber variables numéricas, caracteres, factores...\n"
   ]
  },
  {
   "cell_type": "code",
   "execution_count": 2,
   "metadata": {},
   "outputs": [
    {
     "data": {
      "text/html": [
       "<table>\n",
       "<thead><tr><th scope=col>edad</th><th scope=col>tiempo</th><th scope=col>sexo</th></tr></thead>\n",
       "<tbody>\n",
       "\t<tr><td>22   </td><td>14.21</td><td>M    </td></tr>\n",
       "\t<tr><td>34   </td><td>10.36</td><td>H    </td></tr>\n",
       "\t<tr><td>29   </td><td>11.89</td><td>H    </td></tr>\n",
       "\t<tr><td>25   </td><td>13.81</td><td>M    </td></tr>\n",
       "\t<tr><td>30   </td><td>12.03</td><td>M    </td></tr>\n",
       "\t<tr><td>33   </td><td>10.99</td><td>H    </td></tr>\n",
       "\t<tr><td>31   </td><td>12.48</td><td>M    </td></tr>\n",
       "\t<tr><td>27   </td><td>13.37</td><td>M    </td></tr>\n",
       "\t<tr><td>25   </td><td>12.29</td><td>H    </td></tr>\n",
       "\t<tr><td>25   </td><td>11.92</td><td>H    </td></tr>\n",
       "</tbody>\n",
       "</table>\n"
      ],
      "text/latex": [
       "\\begin{tabular}{r|lll}\n",
       " edad & tiempo & sexo\\\\\n",
       "\\hline\n",
       "\t 22    & 14.21 & M    \\\\\n",
       "\t 34    & 10.36 & H    \\\\\n",
       "\t 29    & 11.89 & H    \\\\\n",
       "\t 25    & 13.81 & M    \\\\\n",
       "\t 30    & 12.03 & M    \\\\\n",
       "\t 33    & 10.99 & H    \\\\\n",
       "\t 31    & 12.48 & M    \\\\\n",
       "\t 27    & 13.37 & M    \\\\\n",
       "\t 25    & 12.29 & H    \\\\\n",
       "\t 25    & 11.92 & H    \\\\\n",
       "\\end{tabular}\n"
      ],
      "text/markdown": [
       "\n",
       "| edad | tiempo | sexo |\n",
       "|---|---|---|\n",
       "| 22    | 14.21 | M     |\n",
       "| 34    | 10.36 | H     |\n",
       "| 29    | 11.89 | H     |\n",
       "| 25    | 13.81 | M     |\n",
       "| 30    | 12.03 | M     |\n",
       "| 33    | 10.99 | H     |\n",
       "| 31    | 12.48 | M     |\n",
       "| 27    | 13.37 | M     |\n",
       "| 25    | 12.29 | H     |\n",
       "| 25    | 11.92 | H     |\n",
       "\n"
      ],
      "text/plain": [
       "   edad tiempo sexo\n",
       "1  22   14.21  M   \n",
       "2  34   10.36  H   \n",
       "3  29   11.89  H   \n",
       "4  25   13.81  M   \n",
       "5  30   12.03  M   \n",
       "6  33   10.99  H   \n",
       "7  31   12.48  M   \n",
       "8  27   13.37  M   \n",
       "9  25   12.29  H   \n",
       "10 25   11.92  H   "
      ]
     },
     "metadata": {},
     "output_type": "display_data"
    }
   ],
   "source": [
    "edad <- c(22, 34, 29, 25, 30, 33, 31, 27, 25, 25)\n",
    "tiempo <- c(14.21, 10.36, 11.89, 13.81, 12.03, 10.99, 12.48, 13.37, 12.29, 11.92)\n",
    "sexo <- as.factor(c(\"M\",\"H\",\"H\",\"M\",\"M\",\"H\",\"M\",\"M\",\"H\",\"H\"))\n",
    "misDatos <- data.frame(edad,tiempo,sexo)\n",
    "misDatos"
   ]
  },
  {
   "cell_type": "code",
   "execution_count": 5,
   "metadata": {},
   "outputs": [],
   "source": [
    "ListaDF <- list(df = misDatos, numeros=c(1,2,3,4,3,2,1,9),letra=\"A\")"
   ]
  },
  {
   "cell_type": "code",
   "execution_count": 6,
   "metadata": {},
   "outputs": [
    {
     "data": {
      "text/html": [
       "<dl>\n",
       "\t<dt>$df</dt>\n",
       "\t\t<dd><table>\n",
       "<thead><tr><th scope=col>edad</th><th scope=col>tiempo</th><th scope=col>sexo</th></tr></thead>\n",
       "<tbody>\n",
       "\t<tr><td>22   </td><td>14.21</td><td>M    </td></tr>\n",
       "\t<tr><td>34   </td><td>10.36</td><td>H    </td></tr>\n",
       "\t<tr><td>29   </td><td>11.89</td><td>H    </td></tr>\n",
       "\t<tr><td>25   </td><td>13.81</td><td>M    </td></tr>\n",
       "\t<tr><td>30   </td><td>12.03</td><td>M    </td></tr>\n",
       "\t<tr><td>33   </td><td>10.99</td><td>H    </td></tr>\n",
       "\t<tr><td>31   </td><td>12.48</td><td>M    </td></tr>\n",
       "\t<tr><td>27   </td><td>13.37</td><td>M    </td></tr>\n",
       "\t<tr><td>25   </td><td>12.29</td><td>H    </td></tr>\n",
       "\t<tr><td>25   </td><td>11.92</td><td>H    </td></tr>\n",
       "</tbody>\n",
       "</table>\n",
       "</dd>\n",
       "\t<dt>$numeros</dt>\n",
       "\t\t<dd><ol class=list-inline>\n",
       "\t<li>1</li>\n",
       "\t<li>2</li>\n",
       "\t<li>3</li>\n",
       "\t<li>4</li>\n",
       "\t<li>3</li>\n",
       "\t<li>2</li>\n",
       "\t<li>1</li>\n",
       "\t<li>9</li>\n",
       "</ol>\n",
       "</dd>\n",
       "\t<dt>$letra</dt>\n",
       "\t\t<dd>'A'</dd>\n",
       "</dl>\n"
      ],
      "text/latex": [
       "\\begin{description}\n",
       "\\item[\\$df] \\begin{tabular}{r|lll}\n",
       " edad & tiempo & sexo\\\\\n",
       "\\hline\n",
       "\t 22    & 14.21 & M    \\\\\n",
       "\t 34    & 10.36 & H    \\\\\n",
       "\t 29    & 11.89 & H    \\\\\n",
       "\t 25    & 13.81 & M    \\\\\n",
       "\t 30    & 12.03 & M    \\\\\n",
       "\t 33    & 10.99 & H    \\\\\n",
       "\t 31    & 12.48 & M    \\\\\n",
       "\t 27    & 13.37 & M    \\\\\n",
       "\t 25    & 12.29 & H    \\\\\n",
       "\t 25    & 11.92 & H    \\\\\n",
       "\\end{tabular}\n",
       "\n",
       "\\item[\\$numeros] \\begin{enumerate*}\n",
       "\\item 1\n",
       "\\item 2\n",
       "\\item 3\n",
       "\\item 4\n",
       "\\item 3\n",
       "\\item 2\n",
       "\\item 1\n",
       "\\item 9\n",
       "\\end{enumerate*}\n",
       "\n",
       "\\item[\\$letra] 'A'\n",
       "\\end{description}\n"
      ],
      "text/markdown": [
       "$df\n",
       ":   \n",
       "| edad | tiempo | sexo |\n",
       "|---|---|---|\n",
       "| 22    | 14.21 | M     |\n",
       "| 34    | 10.36 | H     |\n",
       "| 29    | 11.89 | H     |\n",
       "| 25    | 13.81 | M     |\n",
       "| 30    | 12.03 | M     |\n",
       "| 33    | 10.99 | H     |\n",
       "| 31    | 12.48 | M     |\n",
       "| 27    | 13.37 | M     |\n",
       "| 25    | 12.29 | H     |\n",
       "| 25    | 11.92 | H     |\n",
       "\n",
       "\n",
       "$numeros\n",
       ":   1. 1\n",
       "2. 2\n",
       "3. 3\n",
       "4. 4\n",
       "5. 3\n",
       "6. 2\n",
       "7. 1\n",
       "8. 9\n",
       "\n",
       "\n",
       "\n",
       "$letra\n",
       ":   'A'\n",
       "\n",
       "\n"
      ],
      "text/plain": [
       "$df\n",
       "   edad tiempo sexo\n",
       "1    22  14.21    M\n",
       "2    34  10.36    H\n",
       "3    29  11.89    H\n",
       "4    25  13.81    M\n",
       "5    30  12.03    M\n",
       "6    33  10.99    H\n",
       "7    31  12.48    M\n",
       "8    27  13.37    M\n",
       "9    25  12.29    H\n",
       "10   25  11.92    H\n",
       "\n",
       "$numeros\n",
       "[1] 1 2 3 4 3 2 1 9\n",
       "\n",
       "$letra\n",
       "[1] \"A\"\n"
      ]
     },
     "metadata": {},
     "output_type": "display_data"
    }
   ],
   "source": [
    "ListaDF"
   ]
  },
  {
   "cell_type": "code",
   "execution_count": 10,
   "metadata": {},
   "outputs": [
    {
     "data": {
      "text/html": [
       "<table>\n",
       "<thead><tr><th></th><th scope=col>edad</th><th scope=col>tiempo</th><th scope=col>sexo</th></tr></thead>\n",
       "<tbody>\n",
       "\t<tr><th scope=row>2</th><td>34   </td><td>10.36</td><td>H    </td></tr>\n",
       "\t<tr><th scope=row>3</th><td>29   </td><td>11.89</td><td>H    </td></tr>\n",
       "\t<tr><th scope=row>6</th><td>33   </td><td>10.99</td><td>H    </td></tr>\n",
       "\t<tr><th scope=row>10</th><td>25   </td><td>11.92</td><td>H    </td></tr>\n",
       "</tbody>\n",
       "</table>\n"
      ],
      "text/latex": [
       "\\begin{tabular}{r|lll}\n",
       "  & edad & tiempo & sexo\\\\\n",
       "\\hline\n",
       "\t2 & 34    & 10.36 & H    \\\\\n",
       "\t3 & 29    & 11.89 & H    \\\\\n",
       "\t6 & 33    & 10.99 & H    \\\\\n",
       "\t10 & 25    & 11.92 & H    \\\\\n",
       "\\end{tabular}\n"
      ],
      "text/markdown": [
       "\n",
       "| <!--/--> | edad | tiempo | sexo |\n",
       "|---|---|---|---|\n",
       "| 2 | 34    | 10.36 | H     |\n",
       "| 3 | 29    | 11.89 | H     |\n",
       "| 6 | 33    | 10.99 | H     |\n",
       "| 10 | 25    | 11.92 | H     |\n",
       "\n"
      ],
      "text/plain": [
       "   edad tiempo sexo\n",
       "2  34   10.36  H   \n",
       "3  29   11.89  H   \n",
       "6  33   10.99  H   \n",
       "10 25   11.92  H   "
      ]
     },
     "metadata": {},
     "output_type": "display_data"
    }
   ],
   "source": [
    "ListaDF$df[ListaDF$df$tiempo<12,]"
   ]
  },
  {
   "cell_type": "code",
   "execution_count": 31,
   "metadata": {},
   "outputs": [
    {
     "data": {
      "text/html": [
       "<table>\n",
       "<thead><tr><th scope=col>edad</th><th scope=col>tiempo</th><th scope=col>sexo</th></tr></thead>\n",
       "<tbody>\n",
       "\t<tr><td>22   </td><td>14.21</td><td>M    </td></tr>\n",
       "\t<tr><td>34   </td><td>10.36</td><td>H    </td></tr>\n",
       "\t<tr><td>29   </td><td>11.89</td><td>H    </td></tr>\n",
       "\t<tr><td>25   </td><td>13.81</td><td>M    </td></tr>\n",
       "</tbody>\n",
       "</table>\n"
      ],
      "text/latex": [
       "\\begin{tabular}{r|lll}\n",
       " edad & tiempo & sexo\\\\\n",
       "\\hline\n",
       "\t 22    & 14.21 & M    \\\\\n",
       "\t 34    & 10.36 & H    \\\\\n",
       "\t 29    & 11.89 & H    \\\\\n",
       "\t 25    & 13.81 & M    \\\\\n",
       "\\end{tabular}\n"
      ],
      "text/markdown": [
       "\n",
       "| edad | tiempo | sexo |\n",
       "|---|---|---|\n",
       "| 22    | 14.21 | M     |\n",
       "| 34    | 10.36 | H     |\n",
       "| 29    | 11.89 | H     |\n",
       "| 25    | 13.81 | M     |\n",
       "\n"
      ],
      "text/plain": [
       "  edad tiempo sexo\n",
       "1 22   14.21  M   \n",
       "2 34   10.36  H   \n",
       "3 29   11.89  H   \n",
       "4 25   13.81  M   "
      ]
     },
     "metadata": {},
     "output_type": "display_data"
    }
   ],
   "source": [
    "head(misDatos, 4) # muestra las 4 primeras filas"
   ]
  },
  {
   "cell_type": "code",
   "execution_count": 32,
   "metadata": {},
   "outputs": [
    {
     "data": {
      "text/html": [
       "<table>\n",
       "<thead><tr><th></th><th scope=col>edad</th><th scope=col>tiempo</th><th scope=col>sexo</th></tr></thead>\n",
       "<tbody>\n",
       "\t<tr><th scope=row>7</th><td>31   </td><td>12.48</td><td>M    </td></tr>\n",
       "\t<tr><th scope=row>8</th><td>27   </td><td>13.37</td><td>M    </td></tr>\n",
       "\t<tr><th scope=row>9</th><td>25   </td><td>12.29</td><td>H    </td></tr>\n",
       "\t<tr><th scope=row>10</th><td>25   </td><td>11.92</td><td>H    </td></tr>\n",
       "</tbody>\n",
       "</table>\n"
      ],
      "text/latex": [
       "\\begin{tabular}{r|lll}\n",
       "  & edad & tiempo & sexo\\\\\n",
       "\\hline\n",
       "\t7 & 31    & 12.48 & M    \\\\\n",
       "\t8 & 27    & 13.37 & M    \\\\\n",
       "\t9 & 25    & 12.29 & H    \\\\\n",
       "\t10 & 25    & 11.92 & H    \\\\\n",
       "\\end{tabular}\n"
      ],
      "text/markdown": [
       "\n",
       "| <!--/--> | edad | tiempo | sexo |\n",
       "|---|---|---|---|\n",
       "| 7 | 31    | 12.48 | M     |\n",
       "| 8 | 27    | 13.37 | M     |\n",
       "| 9 | 25    | 12.29 | H     |\n",
       "| 10 | 25    | 11.92 | H     |\n",
       "\n"
      ],
      "text/plain": [
       "   edad tiempo sexo\n",
       "7  31   12.48  M   \n",
       "8  27   13.37  M   \n",
       "9  25   12.29  H   \n",
       "10 25   11.92  H   "
      ]
     },
     "metadata": {},
     "output_type": "display_data"
    }
   ],
   "source": [
    "tail(misDatos, 4) # muestra las 4 últimas filas"
   ]
  },
  {
   "cell_type": "code",
   "execution_count": 33,
   "metadata": {},
   "outputs": [
    {
     "data": {
      "text/plain": [
       "      edad           tiempo      sexo \n",
       " Min.   :22.00   Min.   :10.36   H:5  \n",
       " 1st Qu.:25.00   1st Qu.:11.90   M:5  \n",
       " Median :28.00   Median :12.16        \n",
       " Mean   :28.10   Mean   :12.34        \n",
       " 3rd Qu.:30.75   3rd Qu.:13.15        \n",
       " Max.   :34.00   Max.   :14.21        "
      ]
     },
     "metadata": {},
     "output_type": "display_data"
    }
   ],
   "source": [
    "summary(misDatos) # resumen de la información contenida en un dataframe"
   ]
  },
  {
   "cell_type": "code",
   "execution_count": 34,
   "metadata": {},
   "outputs": [
    {
     "name": "stdout",
     "output_type": "stream",
     "text": [
      "'data.frame':\t10 obs. of  3 variables:\n",
      " $ edad  : num  22 34 29 25 30 33 31 27 25 25\n",
      " $ tiempo: num  14.2 10.4 11.9 13.8 12 ...\n",
      " $ sexo  : Factor w/ 2 levels \"H\",\"M\": 2 1 1 2 2 1 2 2 1 1\n"
     ]
    }
   ],
   "source": [
    "str(misDatos) # estructura del dataframe"
   ]
  },
  {
   "cell_type": "code",
   "execution_count": 35,
   "metadata": {},
   "outputs": [
    {
     "data": {
      "text/html": [
       "<ol class=list-inline>\n",
       "\t<li>'edad'</li>\n",
       "\t<li>'tiempo'</li>\n",
       "\t<li>'sexo'</li>\n",
       "</ol>\n"
      ],
      "text/latex": [
       "\\begin{enumerate*}\n",
       "\\item 'edad'\n",
       "\\item 'tiempo'\n",
       "\\item 'sexo'\n",
       "\\end{enumerate*}\n"
      ],
      "text/markdown": [
       "1. 'edad'\n",
       "2. 'tiempo'\n",
       "3. 'sexo'\n",
       "\n",
       "\n"
      ],
      "text/plain": [
       "[1] \"edad\"   \"tiempo\" \"sexo\"  "
      ]
     },
     "metadata": {},
     "output_type": "display_data"
    }
   ],
   "source": [
    "names(misDatos) # nombres de las variables\n",
    "names(misDatos)[1] <- \"edad\""
   ]
  },
  {
   "cell_type": "code",
   "execution_count": 36,
   "metadata": {},
   "outputs": [
    {
     "data": {
      "text/html": [
       "<ol class=list-inline>\n",
       "\t<li>10</li>\n",
       "\t<li>3</li>\n",
       "</ol>\n"
      ],
      "text/latex": [
       "\\begin{enumerate*}\n",
       "\\item 10\n",
       "\\item 3\n",
       "\\end{enumerate*}\n"
      ],
      "text/markdown": [
       "1. 10\n",
       "2. 3\n",
       "\n",
       "\n"
      ],
      "text/plain": [
       "[1] 10  3"
      ]
     },
     "metadata": {},
     "output_type": "display_data"
    }
   ],
   "source": [
    "dim(misDatos) # tamaño del dataframe"
   ]
  },
  {
   "cell_type": "code",
   "execution_count": 37,
   "metadata": {},
   "outputs": [
    {
     "data": {
      "text/html": [
       "10"
      ],
      "text/latex": [
       "10"
      ],
      "text/markdown": [
       "10"
      ],
      "text/plain": [
       "[1] 10"
      ]
     },
     "metadata": {},
     "output_type": "display_data"
    }
   ],
   "source": [
    "nrow(misDatos) # numero de filas (individuos) de dataframe"
   ]
  },
  {
   "cell_type": "code",
   "execution_count": 38,
   "metadata": {},
   "outputs": [
    {
     "data": {
      "text/html": [
       "3"
      ],
      "text/latex": [
       "3"
      ],
      "text/markdown": [
       "3"
      ],
      "text/plain": [
       "[1] 3"
      ]
     },
     "metadata": {},
     "output_type": "display_data"
    }
   ],
   "source": [
    "ncol(misDatos) # numero de columnas (variables) del dataframe"
   ]
  },
  {
   "cell_type": "markdown",
   "metadata": {},
   "source": [
    "#### Indexación\n",
    "\n",
    "Cada columna del dataframe se puede ver como un vector que contiene una variable de los individuos, así que a la hora de indexar un dataframe podemos querer trabajar con un subconjunto del dataframe original o con un vector de los que forman el mismo. Por ello para la indexación de los dataframes distinguiremos dos métodos:\n",
    "\n",
    "- utilizar los corchetes [ ] de manera equivalente al de las matrices, cuando se indexa de este modo se obtiene un dataframe\n",
    "- utilizar el símbolo \\$ para poder obtener un vector del dataframe"
   ]
  },
  {
   "cell_type": "code",
   "execution_count": 39,
   "metadata": {},
   "outputs": [
    {
     "data": {
      "text/html": [
       "14.21"
      ],
      "text/latex": [
       "14.21"
      ],
      "text/markdown": [
       "14.21"
      ],
      "text/plain": [
       "[1] 14.21"
      ]
     },
     "metadata": {},
     "output_type": "display_data"
    }
   ],
   "source": [
    "misDatos[1,2]"
   ]
  },
  {
   "cell_type": "markdown",
   "metadata": {},
   "source": [
    "Pero también podemos llamar a las columnas referenciando a su nombre:"
   ]
  },
  {
   "cell_type": "code",
   "execution_count": 13,
   "metadata": {},
   "outputs": [
    {
     "data": {
      "text/html": [
       "<table>\n",
       "<thead><tr><th scope=col>edad</th></tr></thead>\n",
       "<tbody>\n",
       "\t<tr><td>22</td></tr>\n",
       "\t<tr><td>34</td></tr>\n",
       "\t<tr><td>29</td></tr>\n",
       "\t<tr><td>25</td></tr>\n",
       "\t<tr><td>30</td></tr>\n",
       "\t<tr><td>33</td></tr>\n",
       "\t<tr><td>31</td></tr>\n",
       "\t<tr><td>27</td></tr>\n",
       "\t<tr><td>25</td></tr>\n",
       "\t<tr><td>25</td></tr>\n",
       "</tbody>\n",
       "</table>\n"
      ],
      "text/latex": [
       "\\begin{tabular}{r|l}\n",
       " edad\\\\\n",
       "\\hline\n",
       "\t 22\\\\\n",
       "\t 34\\\\\n",
       "\t 29\\\\\n",
       "\t 25\\\\\n",
       "\t 30\\\\\n",
       "\t 33\\\\\n",
       "\t 31\\\\\n",
       "\t 27\\\\\n",
       "\t 25\\\\\n",
       "\t 25\\\\\n",
       "\\end{tabular}\n"
      ],
      "text/markdown": [
       "\n",
       "| edad |\n",
       "|---|\n",
       "| 22 |\n",
       "| 34 |\n",
       "| 29 |\n",
       "| 25 |\n",
       "| 30 |\n",
       "| 33 |\n",
       "| 31 |\n",
       "| 27 |\n",
       "| 25 |\n",
       "| 25 |\n",
       "\n"
      ],
      "text/plain": [
       "   edad\n",
       "1  22  \n",
       "2  34  \n",
       "3  29  \n",
       "4  25  \n",
       "5  30  \n",
       "6  33  \n",
       "7  31  \n",
       "8  27  \n",
       "9  25  \n",
       "10 25  "
      ]
     },
     "metadata": {},
     "output_type": "display_data"
    }
   ],
   "source": [
    "misDatos[\"edad\"]"
   ]
  },
  {
   "cell_type": "code",
   "execution_count": 41,
   "metadata": {},
   "outputs": [
    {
     "data": {
      "text/html": [
       "<ol class=list-inline>\n",
       "\t<li>22</li>\n",
       "\t<li>34</li>\n",
       "\t<li>29</li>\n",
       "\t<li>25</li>\n",
       "\t<li>30</li>\n",
       "\t<li>33</li>\n",
       "\t<li>31</li>\n",
       "\t<li>27</li>\n",
       "\t<li>25</li>\n",
       "\t<li>25</li>\n",
       "</ol>\n"
      ],
      "text/latex": [
       "\\begin{enumerate*}\n",
       "\\item 22\n",
       "\\item 34\n",
       "\\item 29\n",
       "\\item 25\n",
       "\\item 30\n",
       "\\item 33\n",
       "\\item 31\n",
       "\\item 27\n",
       "\\item 25\n",
       "\\item 25\n",
       "\\end{enumerate*}\n"
      ],
      "text/markdown": [
       "1. 22\n",
       "2. 34\n",
       "3. 29\n",
       "4. 25\n",
       "5. 30\n",
       "6. 33\n",
       "7. 31\n",
       "8. 27\n",
       "9. 25\n",
       "10. 25\n",
       "\n",
       "\n"
      ],
      "text/plain": [
       " [1] 22 34 29 25 30 33 31 27 25 25"
      ]
     },
     "metadata": {},
     "output_type": "display_data"
    }
   ],
   "source": [
    "misDatos$edad"
   ]
  },
  {
   "cell_type": "code",
   "execution_count": 15,
   "metadata": {},
   "outputs": [
    {
     "data": {
      "text/html": [
       "<table>\n",
       "<thead><tr><th scope=col>edad</th><th scope=col>sexo</th></tr></thead>\n",
       "<tbody>\n",
       "\t<tr><td>22</td><td>M </td></tr>\n",
       "\t<tr><td>34</td><td>H </td></tr>\n",
       "\t<tr><td>29</td><td>H </td></tr>\n",
       "\t<tr><td>25</td><td>M </td></tr>\n",
       "\t<tr><td>30</td><td>M </td></tr>\n",
       "\t<tr><td>33</td><td>H </td></tr>\n",
       "\t<tr><td>31</td><td>M </td></tr>\n",
       "\t<tr><td>27</td><td>M </td></tr>\n",
       "\t<tr><td>25</td><td>H </td></tr>\n",
       "\t<tr><td>25</td><td>H </td></tr>\n",
       "</tbody>\n",
       "</table>\n"
      ],
      "text/latex": [
       "\\begin{tabular}{r|ll}\n",
       " edad & sexo\\\\\n",
       "\\hline\n",
       "\t 22 & M \\\\\n",
       "\t 34 & H \\\\\n",
       "\t 29 & H \\\\\n",
       "\t 25 & M \\\\\n",
       "\t 30 & M \\\\\n",
       "\t 33 & H \\\\\n",
       "\t 31 & M \\\\\n",
       "\t 27 & M \\\\\n",
       "\t 25 & H \\\\\n",
       "\t 25 & H \\\\\n",
       "\\end{tabular}\n"
      ],
      "text/markdown": [
       "\n",
       "| edad | sexo |\n",
       "|---|---|\n",
       "| 22 | M  |\n",
       "| 34 | H  |\n",
       "| 29 | H  |\n",
       "| 25 | M  |\n",
       "| 30 | M  |\n",
       "| 33 | H  |\n",
       "| 31 | M  |\n",
       "| 27 | M  |\n",
       "| 25 | H  |\n",
       "| 25 | H  |\n",
       "\n"
      ],
      "text/plain": [
       "   edad sexo\n",
       "1  22   M   \n",
       "2  34   H   \n",
       "3  29   H   \n",
       "4  25   M   \n",
       "5  30   M   \n",
       "6  33   H   \n",
       "7  31   M   \n",
       "8  27   M   \n",
       "9  25   H   \n",
       "10 25   H   "
      ]
     },
     "metadata": {},
     "output_type": "display_data"
    }
   ],
   "source": [
    "misDatos[c(\"edad\", \"sexo\")]"
   ]
  },
  {
   "cell_type": "code",
   "execution_count": 43,
   "metadata": {},
   "outputs": [
    {
     "data": {
      "text/html": [
       "'double'"
      ],
      "text/latex": [
       "'double'"
      ],
      "text/markdown": [
       "'double'"
      ],
      "text/plain": [
       "[1] \"double\""
      ]
     },
     "metadata": {},
     "output_type": "display_data"
    }
   ],
   "source": [
    "typeof(misDatos$edad)"
   ]
  },
  {
   "cell_type": "code",
   "execution_count": 44,
   "metadata": {},
   "outputs": [
    {
     "data": {
      "text/html": [
       "'list'"
      ],
      "text/latex": [
       "'list'"
      ],
      "text/markdown": [
       "'list'"
      ],
      "text/plain": [
       "[1] \"list\""
      ]
     },
     "metadata": {},
     "output_type": "display_data"
    }
   ],
   "source": [
    "typeof(misDatos[\"edad\"])"
   ]
  },
  {
   "cell_type": "markdown",
   "metadata": {},
   "source": [
    "Podemos variar los valores del dataframe tanto con $ como con [ ] pero __ojo__ que si el tipo de dato que introducimos R no lo interpreta bien podemos estar cambiando la estructura del dataframe."
   ]
  },
  {
   "cell_type": "code",
   "execution_count": 19,
   "metadata": {},
   "outputs": [],
   "source": [
    "misDatos$edad[3] <- \"15\""
   ]
  },
  {
   "cell_type": "code",
   "execution_count": 20,
   "metadata": {},
   "outputs": [
    {
     "data": {
      "text/html": [
       "<table>\n",
       "<thead><tr><th scope=col>edad</th><th scope=col>tiempo</th><th scope=col>sexo</th></tr></thead>\n",
       "<tbody>\n",
       "\t<tr><td>22   </td><td>14.21</td><td>M    </td></tr>\n",
       "\t<tr><td>34   </td><td>10.36</td><td>H    </td></tr>\n",
       "\t<tr><td>15   </td><td>11.89</td><td>H    </td></tr>\n",
       "\t<tr><td>25   </td><td>13.81</td><td>M    </td></tr>\n",
       "\t<tr><td>30   </td><td>12.03</td><td>M    </td></tr>\n",
       "\t<tr><td>33   </td><td>10.99</td><td>H    </td></tr>\n",
       "</tbody>\n",
       "</table>\n"
      ],
      "text/latex": [
       "\\begin{tabular}{r|lll}\n",
       " edad & tiempo & sexo\\\\\n",
       "\\hline\n",
       "\t 22    & 14.21 & M    \\\\\n",
       "\t 34    & 10.36 & H    \\\\\n",
       "\t 15    & 11.89 & H    \\\\\n",
       "\t 25    & 13.81 & M    \\\\\n",
       "\t 30    & 12.03 & M    \\\\\n",
       "\t 33    & 10.99 & H    \\\\\n",
       "\\end{tabular}\n"
      ],
      "text/markdown": [
       "\n",
       "| edad | tiempo | sexo |\n",
       "|---|---|---|\n",
       "| 22    | 14.21 | M     |\n",
       "| 34    | 10.36 | H     |\n",
       "| 15    | 11.89 | H     |\n",
       "| 25    | 13.81 | M     |\n",
       "| 30    | 12.03 | M     |\n",
       "| 33    | 10.99 | H     |\n",
       "\n"
      ],
      "text/plain": [
       "  edad tiempo sexo\n",
       "1 22   14.21  M   \n",
       "2 34   10.36  H   \n",
       "3 15   11.89  H   \n",
       "4 25   13.81  M   \n",
       "5 30   12.03  M   \n",
       "6 33   10.99  H   "
      ]
     },
     "metadata": {},
     "output_type": "display_data"
    }
   ],
   "source": [
    "head(misDatos)"
   ]
  },
  {
   "cell_type": "code",
   "execution_count": 23,
   "metadata": {},
   "outputs": [
    {
     "name": "stdout",
     "output_type": "stream",
     "text": [
      " num [1:10] 22 34 15 25 30 33 31 27 25 25\n"
     ]
    }
   ],
   "source": [
    "str(misDatos$edad) # !!!!!! tipo chr en edad"
   ]
  },
  {
   "cell_type": "code",
   "execution_count": 22,
   "metadata": {},
   "outputs": [],
   "source": [
    "misDatos$edad <- as.numeric(misDatos$edad) # volvemos a estado normal"
   ]
  },
  {
   "cell_type": "markdown",
   "metadata": {},
   "source": [
    "Añadir columnas o filas es sencillo con las funciones cbind o rbind:"
   ]
  },
  {
   "cell_type": "code",
   "execution_count": 49,
   "metadata": {},
   "outputs": [
    {
     "data": {
      "text/html": [
       "<table>\n",
       "<thead><tr><th scope=col>edad</th><th scope=col>tiempo</th><th scope=col>sexo</th><th scope=col>nombres_individuos</th></tr></thead>\n",
       "<tbody>\n",
       "\t<tr><td>22     </td><td>14.21  </td><td>M      </td><td>Lara   </td></tr>\n",
       "\t<tr><td>34     </td><td>10.36  </td><td>H      </td><td>Juan   </td></tr>\n",
       "\t<tr><td>15     </td><td>11.89  </td><td>H      </td><td>Paco   </td></tr>\n",
       "\t<tr><td>25     </td><td>13.81  </td><td>M      </td><td>Laura  </td></tr>\n",
       "\t<tr><td>30     </td><td>12.03  </td><td>M      </td><td>Marta  </td></tr>\n",
       "\t<tr><td>33     </td><td>10.99  </td><td>H      </td><td>Ernesto</td></tr>\n",
       "\t<tr><td>31     </td><td>12.48  </td><td>M      </td><td>Maria  </td></tr>\n",
       "\t<tr><td>27     </td><td>13.37  </td><td>M      </td><td>Sandra </td></tr>\n",
       "\t<tr><td>25     </td><td>12.29  </td><td>H      </td><td>Germán </td></tr>\n",
       "\t<tr><td>25     </td><td>11.92  </td><td>H      </td><td>Jose   </td></tr>\n",
       "</tbody>\n",
       "</table>\n"
      ],
      "text/latex": [
       "\\begin{tabular}{r|llll}\n",
       " edad & tiempo & sexo & nombres\\_individuos\\\\\n",
       "\\hline\n",
       "\t 22      & 14.21   & M       & Lara   \\\\\n",
       "\t 34      & 10.36   & H       & Juan   \\\\\n",
       "\t 15      & 11.89   & H       & Paco   \\\\\n",
       "\t 25      & 13.81   & M       & Laura  \\\\\n",
       "\t 30      & 12.03   & M       & Marta  \\\\\n",
       "\t 33      & 10.99   & H       & Ernesto\\\\\n",
       "\t 31      & 12.48   & M       & Maria  \\\\\n",
       "\t 27      & 13.37   & M       & Sandra \\\\\n",
       "\t 25      & 12.29   & H       & Germán \\\\\n",
       "\t 25      & 11.92   & H       & Jose   \\\\\n",
       "\\end{tabular}\n"
      ],
      "text/markdown": [
       "\n",
       "| edad | tiempo | sexo | nombres_individuos |\n",
       "|---|---|---|---|\n",
       "| 22      | 14.21   | M       | Lara    |\n",
       "| 34      | 10.36   | H       | Juan    |\n",
       "| 15      | 11.89   | H       | Paco    |\n",
       "| 25      | 13.81   | M       | Laura   |\n",
       "| 30      | 12.03   | M       | Marta   |\n",
       "| 33      | 10.99   | H       | Ernesto |\n",
       "| 31      | 12.48   | M       | Maria   |\n",
       "| 27      | 13.37   | M       | Sandra  |\n",
       "| 25      | 12.29   | H       | Germán  |\n",
       "| 25      | 11.92   | H       | Jose    |\n",
       "\n"
      ],
      "text/plain": [
       "   edad tiempo sexo nombres_individuos\n",
       "1  22   14.21  M    Lara              \n",
       "2  34   10.36  H    Juan              \n",
       "3  15   11.89  H    Paco              \n",
       "4  25   13.81  M    Laura             \n",
       "5  30   12.03  M    Marta             \n",
       "6  33   10.99  H    Ernesto           \n",
       "7  31   12.48  M    Maria             \n",
       "8  27   13.37  M    Sandra            \n",
       "9  25   12.29  H    Germán            \n",
       "10 25   11.92  H    Jose              "
      ]
     },
     "metadata": {},
     "output_type": "display_data"
    },
    {
     "data": {
      "text/html": [
       "<table>\n",
       "<thead><tr><th scope=col>edad</th><th scope=col>tiempo</th><th scope=col>sexo</th></tr></thead>\n",
       "<tbody>\n",
       "\t<tr><td>22   </td><td>14.21</td><td>M    </td></tr>\n",
       "\t<tr><td>34   </td><td>10.36</td><td>H    </td></tr>\n",
       "\t<tr><td>15   </td><td>11.89</td><td>H    </td></tr>\n",
       "\t<tr><td>25   </td><td>13.81</td><td>M    </td></tr>\n",
       "\t<tr><td>30   </td><td>12.03</td><td>M    </td></tr>\n",
       "\t<tr><td>33   </td><td>10.99</td><td>H    </td></tr>\n",
       "</tbody>\n",
       "</table>\n"
      ],
      "text/latex": [
       "\\begin{tabular}{r|lll}\n",
       " edad & tiempo & sexo\\\\\n",
       "\\hline\n",
       "\t 22    & 14.21 & M    \\\\\n",
       "\t 34    & 10.36 & H    \\\\\n",
       "\t 15    & 11.89 & H    \\\\\n",
       "\t 25    & 13.81 & M    \\\\\n",
       "\t 30    & 12.03 & M    \\\\\n",
       "\t 33    & 10.99 & H    \\\\\n",
       "\\end{tabular}\n"
      ],
      "text/markdown": [
       "\n",
       "| edad | tiempo | sexo |\n",
       "|---|---|---|\n",
       "| 22    | 14.21 | M     |\n",
       "| 34    | 10.36 | H     |\n",
       "| 15    | 11.89 | H     |\n",
       "| 25    | 13.81 | M     |\n",
       "| 30    | 12.03 | M     |\n",
       "| 33    | 10.99 | H     |\n",
       "\n"
      ],
      "text/plain": [
       "  edad tiempo sexo\n",
       "1 22   14.21  M   \n",
       "2 34   10.36  H   \n",
       "3 15   11.89  H   \n",
       "4 25   13.81  M   \n",
       "5 30   12.03  M   \n",
       "6 33   10.99  H   "
      ]
     },
     "metadata": {},
     "output_type": "display_data"
    },
    {
     "data": {
      "text/html": [
       "<table>\n",
       "<thead><tr><th scope=col>edad</th><th scope=col>tiempo</th><th scope=col>sexo</th><th scope=col>nombres_individuos</th></tr></thead>\n",
       "<tbody>\n",
       "\t<tr><td>22     </td><td>14.21  </td><td>M      </td><td>Lara   </td></tr>\n",
       "\t<tr><td>34     </td><td>10.36  </td><td>H      </td><td>Juan   </td></tr>\n",
       "\t<tr><td>15     </td><td>11.89  </td><td>H      </td><td>Paco   </td></tr>\n",
       "\t<tr><td>25     </td><td>13.81  </td><td>M      </td><td>Laura  </td></tr>\n",
       "\t<tr><td>30     </td><td>12.03  </td><td>M      </td><td>Marta  </td></tr>\n",
       "\t<tr><td>33     </td><td>10.99  </td><td>H      </td><td>Ernesto</td></tr>\n",
       "</tbody>\n",
       "</table>\n"
      ],
      "text/latex": [
       "\\begin{tabular}{r|llll}\n",
       " edad & tiempo & sexo & nombres\\_individuos\\\\\n",
       "\\hline\n",
       "\t 22      & 14.21   & M       & Lara   \\\\\n",
       "\t 34      & 10.36   & H       & Juan   \\\\\n",
       "\t 15      & 11.89   & H       & Paco   \\\\\n",
       "\t 25      & 13.81   & M       & Laura  \\\\\n",
       "\t 30      & 12.03   & M       & Marta  \\\\\n",
       "\t 33      & 10.99   & H       & Ernesto\\\\\n",
       "\\end{tabular}\n"
      ],
      "text/markdown": [
       "\n",
       "| edad | tiempo | sexo | nombres_individuos |\n",
       "|---|---|---|---|\n",
       "| 22      | 14.21   | M       | Lara    |\n",
       "| 34      | 10.36   | H       | Juan    |\n",
       "| 15      | 11.89   | H       | Paco    |\n",
       "| 25      | 13.81   | M       | Laura   |\n",
       "| 30      | 12.03   | M       | Marta   |\n",
       "| 33      | 10.99   | H       | Ernesto |\n",
       "\n"
      ],
      "text/plain": [
       "  edad tiempo sexo nombres_individuos\n",
       "1 22   14.21  M    Lara              \n",
       "2 34   10.36  H    Juan              \n",
       "3 15   11.89  H    Paco              \n",
       "4 25   13.81  M    Laura             \n",
       "5 30   12.03  M    Marta             \n",
       "6 33   10.99  H    Ernesto           "
      ]
     },
     "metadata": {},
     "output_type": "display_data"
    }
   ],
   "source": [
    "nombres <- c(\"Lara\",\"Juan\",\"Paco\",\"Laura\",\"Marta\",\"Ernesto\",\"Maria\",\"Sandra\",\"Germán\",\"Jose\")\n",
    "cbind(misDatos, nombres_individuos = nombres)\n",
    "head(misDatos) #!! tengo que volver a guardar el df\n",
    "misDatos <- cbind(misDatos, nombres_individuos = nombres)\n",
    "head(misDatos)"
   ]
  },
  {
   "cell_type": "markdown",
   "metadata": {},
   "source": [
    "#### Indexación lógica\n",
    "\n",
    "Puede suceder que nos interese obtener un sunconjunto de los individuos que cumplen una regla, es decir, que queramos filtrar los individuos cuyas variables cumplan unas condiciones."
   ]
  },
  {
   "cell_type": "code",
   "execution_count": 50,
   "metadata": {},
   "outputs": [
    {
     "data": {
      "text/html": [
       "<ol class=list-inline>\n",
       "\t<li>22</li>\n",
       "\t<li>34</li>\n",
       "\t<li>15</li>\n",
       "\t<li>25</li>\n",
       "\t<li>30</li>\n",
       "\t<li>33</li>\n",
       "\t<li>31</li>\n",
       "\t<li>27</li>\n",
       "\t<li>25</li>\n",
       "\t<li>25</li>\n",
       "</ol>\n"
      ],
      "text/latex": [
       "\\begin{enumerate*}\n",
       "\\item 22\n",
       "\\item 34\n",
       "\\item 15\n",
       "\\item 25\n",
       "\\item 30\n",
       "\\item 33\n",
       "\\item 31\n",
       "\\item 27\n",
       "\\item 25\n",
       "\\item 25\n",
       "\\end{enumerate*}\n"
      ],
      "text/markdown": [
       "1. 22\n",
       "2. 34\n",
       "3. 15\n",
       "4. 25\n",
       "5. 30\n",
       "6. 33\n",
       "7. 31\n",
       "8. 27\n",
       "9. 25\n",
       "10. 25\n",
       "\n",
       "\n"
      ],
      "text/plain": [
       " [1] 22 34 15 25 30 33 31 27 25 25"
      ]
     },
     "metadata": {},
     "output_type": "display_data"
    }
   ],
   "source": [
    "misDatos$edad"
   ]
  },
  {
   "cell_type": "code",
   "execution_count": 51,
   "metadata": {},
   "outputs": [
    {
     "data": {
      "text/html": [
       "<ol class=list-inline>\n",
       "\t<li>FALSE</li>\n",
       "\t<li>TRUE</li>\n",
       "\t<li>FALSE</li>\n",
       "\t<li>FALSE</li>\n",
       "\t<li>TRUE</li>\n",
       "\t<li>TRUE</li>\n",
       "\t<li>TRUE</li>\n",
       "\t<li>TRUE</li>\n",
       "\t<li>FALSE</li>\n",
       "\t<li>FALSE</li>\n",
       "</ol>\n"
      ],
      "text/latex": [
       "\\begin{enumerate*}\n",
       "\\item FALSE\n",
       "\\item TRUE\n",
       "\\item FALSE\n",
       "\\item FALSE\n",
       "\\item TRUE\n",
       "\\item TRUE\n",
       "\\item TRUE\n",
       "\\item TRUE\n",
       "\\item FALSE\n",
       "\\item FALSE\n",
       "\\end{enumerate*}\n"
      ],
      "text/markdown": [
       "1. FALSE\n",
       "2. TRUE\n",
       "3. FALSE\n",
       "4. FALSE\n",
       "5. TRUE\n",
       "6. TRUE\n",
       "7. TRUE\n",
       "8. TRUE\n",
       "9. FALSE\n",
       "10. FALSE\n",
       "\n",
       "\n"
      ],
      "text/plain": [
       " [1] FALSE  TRUE FALSE FALSE  TRUE  TRUE  TRUE  TRUE FALSE FALSE"
      ]
     },
     "metadata": {},
     "output_type": "display_data"
    }
   ],
   "source": [
    "misDatos$edad > 25"
   ]
  },
  {
   "cell_type": "code",
   "execution_count": 24,
   "metadata": {},
   "outputs": [
    {
     "data": {
      "text/html": [
       "<ol class=list-inline>\n",
       "\t<li>34</li>\n",
       "\t<li>30</li>\n",
       "\t<li>33</li>\n",
       "\t<li>31</li>\n",
       "\t<li>27</li>\n",
       "</ol>\n"
      ],
      "text/latex": [
       "\\begin{enumerate*}\n",
       "\\item 34\n",
       "\\item 30\n",
       "\\item 33\n",
       "\\item 31\n",
       "\\item 27\n",
       "\\end{enumerate*}\n"
      ],
      "text/markdown": [
       "1. 34\n",
       "2. 30\n",
       "3. 33\n",
       "4. 31\n",
       "5. 27\n",
       "\n",
       "\n"
      ],
      "text/plain": [
       "[1] 34 30 33 31 27"
      ]
     },
     "metadata": {},
     "output_type": "display_data"
    }
   ],
   "source": [
    "misDatos$edad[misDatos$edad > 25]"
   ]
  },
  {
   "cell_type": "code",
   "execution_count": 25,
   "metadata": {},
   "outputs": [
    {
     "data": {
      "text/html": [
       "<table>\n",
       "<thead><tr><th></th><th scope=col>edad</th><th scope=col>tiempo</th><th scope=col>sexo</th></tr></thead>\n",
       "<tbody>\n",
       "\t<tr><th scope=row>2</th><td>34   </td><td>10.36</td><td>H    </td></tr>\n",
       "\t<tr><th scope=row>5</th><td>30   </td><td>12.03</td><td>M    </td></tr>\n",
       "\t<tr><th scope=row>6</th><td>33   </td><td>10.99</td><td>H    </td></tr>\n",
       "\t<tr><th scope=row>7</th><td>31   </td><td>12.48</td><td>M    </td></tr>\n",
       "\t<tr><th scope=row>8</th><td>27   </td><td>13.37</td><td>M    </td></tr>\n",
       "</tbody>\n",
       "</table>\n"
      ],
      "text/latex": [
       "\\begin{tabular}{r|lll}\n",
       "  & edad & tiempo & sexo\\\\\n",
       "\\hline\n",
       "\t2 & 34    & 10.36 & H    \\\\\n",
       "\t5 & 30    & 12.03 & M    \\\\\n",
       "\t6 & 33    & 10.99 & H    \\\\\n",
       "\t7 & 31    & 12.48 & M    \\\\\n",
       "\t8 & 27    & 13.37 & M    \\\\\n",
       "\\end{tabular}\n"
      ],
      "text/markdown": [
       "\n",
       "| <!--/--> | edad | tiempo | sexo |\n",
       "|---|---|---|---|\n",
       "| 2 | 34    | 10.36 | H     |\n",
       "| 5 | 30    | 12.03 | M     |\n",
       "| 6 | 33    | 10.99 | H     |\n",
       "| 7 | 31    | 12.48 | M     |\n",
       "| 8 | 27    | 13.37 | M     |\n",
       "\n"
      ],
      "text/plain": [
       "  edad tiempo sexo\n",
       "2 34   10.36  H   \n",
       "5 30   12.03  M   \n",
       "6 33   10.99  H   \n",
       "7 31   12.48  M   \n",
       "8 27   13.37  M   "
      ]
     },
     "metadata": {},
     "output_type": "display_data"
    }
   ],
   "source": [
    "misDatos[misDatos$edad > 25,] "
   ]
  },
  {
   "cell_type": "code",
   "execution_count": 54,
   "metadata": {},
   "outputs": [
    {
     "data": {
      "text/html": [
       "<table>\n",
       "<thead><tr><th></th><th scope=col>edad</th><th scope=col>tiempo</th><th scope=col>sexo</th><th scope=col>nombres_individuos</th></tr></thead>\n",
       "<tbody>\n",
       "\t<tr><th scope=row>5</th><td>30    </td><td>12.03 </td><td>M     </td><td>Marta </td></tr>\n",
       "\t<tr><th scope=row>7</th><td>31    </td><td>12.48 </td><td>M     </td><td>Maria </td></tr>\n",
       "\t<tr><th scope=row>8</th><td>27    </td><td>13.37 </td><td>M     </td><td>Sandra</td></tr>\n",
       "</tbody>\n",
       "</table>\n"
      ],
      "text/latex": [
       "\\begin{tabular}{r|llll}\n",
       "  & edad & tiempo & sexo & nombres\\_individuos\\\\\n",
       "\\hline\n",
       "\t5 & 30     & 12.03  & M      & Marta \\\\\n",
       "\t7 & 31     & 12.48  & M      & Maria \\\\\n",
       "\t8 & 27     & 13.37  & M      & Sandra\\\\\n",
       "\\end{tabular}\n"
      ],
      "text/markdown": [
       "\n",
       "| <!--/--> | edad | tiempo | sexo | nombres_individuos |\n",
       "|---|---|---|---|---|\n",
       "| 5 | 30     | 12.03  | M      | Marta  |\n",
       "| 7 | 31     | 12.48  | M      | Maria  |\n",
       "| 8 | 27     | 13.37  | M      | Sandra |\n",
       "\n"
      ],
      "text/plain": [
       "  edad tiempo sexo nombres_individuos\n",
       "5 30   12.03  M    Marta             \n",
       "7 31   12.48  M    Maria             \n",
       "8 27   13.37  M    Sandra            "
      ]
     },
     "metadata": {},
     "output_type": "display_data"
    }
   ],
   "source": [
    "misDatos[misDatos$edad > 25 & misDatos$sexo == \"M\",] # & |"
   ]
  },
  {
   "cell_type": "code",
   "execution_count": 26,
   "metadata": {},
   "outputs": [],
   "source": [
    "misDatos[\"tiempo_cuadrado\"] <- misDatos$tiempo ** 2"
   ]
  },
  {
   "cell_type": "markdown",
   "metadata": {},
   "source": [
    "## Listas\n",
    "\n",
    "Podemos entender una lista como un contenedor de objetos que pueden ser de cualquier clase: números, vectores, matrices, funciones, data.frames, incluso otras listas. Una lista puede contener a la vez varios de estos objetos, que pueden ser además de distintas dimensiones."
   ]
  },
  {
   "cell_type": "code",
   "execution_count": 56,
   "metadata": {},
   "outputs": [
    {
     "data": {
      "text/html": [
       "<dl>\n",
       "\t<dt>$df</dt>\n",
       "\t\t<dd><table>\n",
       "<thead><tr><th scope=col>edad</th><th scope=col>tiempo</th><th scope=col>sexo</th><th scope=col>nombres_individuos</th><th scope=col>tiempo_cuadrado</th></tr></thead>\n",
       "<tbody>\n",
       "\t<tr><td>22      </td><td>14.21   </td><td>M       </td><td>Lara    </td><td>201.9241</td></tr>\n",
       "\t<tr><td>34      </td><td>10.36   </td><td>H       </td><td>Juan    </td><td>107.3296</td></tr>\n",
       "\t<tr><td>15      </td><td>11.89   </td><td>H       </td><td>Paco    </td><td>141.3721</td></tr>\n",
       "\t<tr><td>25      </td><td>13.81   </td><td>M       </td><td>Laura   </td><td>190.7161</td></tr>\n",
       "\t<tr><td>30      </td><td>12.03   </td><td>M       </td><td>Marta   </td><td>144.7209</td></tr>\n",
       "\t<tr><td>33      </td><td>10.99   </td><td>H       </td><td>Ernesto </td><td>120.7801</td></tr>\n",
       "\t<tr><td>31      </td><td>12.48   </td><td>M       </td><td>Maria   </td><td>155.7504</td></tr>\n",
       "\t<tr><td>27      </td><td>13.37   </td><td>M       </td><td>Sandra  </td><td>178.7569</td></tr>\n",
       "\t<tr><td>25      </td><td>12.29   </td><td>H       </td><td>Germán  </td><td>151.0441</td></tr>\n",
       "\t<tr><td>25      </td><td>11.92   </td><td>H       </td><td>Jose    </td><td>142.0864</td></tr>\n",
       "</tbody>\n",
       "</table>\n",
       "</dd>\n",
       "\t<dt>$A</dt>\n",
       "\t\t<dd><table>\n",
       "<tbody>\n",
       "\t<tr><td>1</td><td>4</td><td>7</td></tr>\n",
       "\t<tr><td>2</td><td>5</td><td>8</td></tr>\n",
       "\t<tr><td>3</td><td>6</td><td>9</td></tr>\n",
       "</tbody>\n",
       "</table>\n",
       "</dd>\n",
       "\t<dt>$M</dt>\n",
       "\t\t<dd><table>\n",
       "<tbody>\n",
       "\t<tr><td>a</td><td>c</td><td>e</td><td>g</td></tr>\n",
       "\t<tr><td>b</td><td>d</td><td>f</td><td>h</td></tr>\n",
       "</tbody>\n",
       "</table>\n",
       "</dd>\n",
       "\t<dt>$x</dt>\n",
       "\t\t<dd><ol class=list-inline>\n",
       "\t<li>1</li>\n",
       "\t<li>2</li>\n",
       "\t<li>3</li>\n",
       "\t<li>4</li>\n",
       "</ol>\n",
       "</dd>\n",
       "\t<dt>$e</dt>\n",
       "\t\t<dd>2.71828182845905</dd>\n",
       "</dl>\n"
      ],
      "text/latex": [
       "\\begin{description}\n",
       "\\item[\\$df] \\begin{tabular}{r|lllll}\n",
       " edad & tiempo & sexo & nombres\\_individuos & tiempo\\_cuadrado\\\\\n",
       "\\hline\n",
       "\t 22       & 14.21    & M        & Lara     & 201.9241\\\\\n",
       "\t 34       & 10.36    & H        & Juan     & 107.3296\\\\\n",
       "\t 15       & 11.89    & H        & Paco     & 141.3721\\\\\n",
       "\t 25       & 13.81    & M        & Laura    & 190.7161\\\\\n",
       "\t 30       & 12.03    & M        & Marta    & 144.7209\\\\\n",
       "\t 33       & 10.99    & H        & Ernesto  & 120.7801\\\\\n",
       "\t 31       & 12.48    & M        & Maria    & 155.7504\\\\\n",
       "\t 27       & 13.37    & M        & Sandra   & 178.7569\\\\\n",
       "\t 25       & 12.29    & H        & Germán   & 151.0441\\\\\n",
       "\t 25       & 11.92    & H        & Jose     & 142.0864\\\\\n",
       "\\end{tabular}\n",
       "\n",
       "\\item[\\$A] \\begin{tabular}{lll}\n",
       "\t 1 & 4 & 7\\\\\n",
       "\t 2 & 5 & 8\\\\\n",
       "\t 3 & 6 & 9\\\\\n",
       "\\end{tabular}\n",
       "\n",
       "\\item[\\$M] \\begin{tabular}{llll}\n",
       "\t a & c & e & g\\\\\n",
       "\t b & d & f & h\\\\\n",
       "\\end{tabular}\n",
       "\n",
       "\\item[\\$x] \\begin{enumerate*}\n",
       "\\item 1\n",
       "\\item 2\n",
       "\\item 3\n",
       "\\item 4\n",
       "\\end{enumerate*}\n",
       "\n",
       "\\item[\\$e] 2.71828182845905\n",
       "\\end{description}\n"
      ],
      "text/markdown": [
       "$df\n",
       ":   \n",
       "| edad | tiempo | sexo | nombres_individuos | tiempo_cuadrado |\n",
       "|---|---|---|---|---|\n",
       "| 22       | 14.21    | M        | Lara     | 201.9241 |\n",
       "| 34       | 10.36    | H        | Juan     | 107.3296 |\n",
       "| 15       | 11.89    | H        | Paco     | 141.3721 |\n",
       "| 25       | 13.81    | M        | Laura    | 190.7161 |\n",
       "| 30       | 12.03    | M        | Marta    | 144.7209 |\n",
       "| 33       | 10.99    | H        | Ernesto  | 120.7801 |\n",
       "| 31       | 12.48    | M        | Maria    | 155.7504 |\n",
       "| 27       | 13.37    | M        | Sandra   | 178.7569 |\n",
       "| 25       | 12.29    | H        | Germán   | 151.0441 |\n",
       "| 25       | 11.92    | H        | Jose     | 142.0864 |\n",
       "\n",
       "\n",
       "$A\n",
       ":   \n",
       "| 1 | 4 | 7 |\n",
       "| 2 | 5 | 8 |\n",
       "| 3 | 6 | 9 |\n",
       "\n",
       "\n",
       "$M\n",
       ":   \n",
       "| a | c | e | g |\n",
       "| b | d | f | h |\n",
       "\n",
       "\n",
       "$x\n",
       ":   1. 1\n",
       "2. 2\n",
       "3. 3\n",
       "4. 4\n",
       "\n",
       "\n",
       "\n",
       "$e\n",
       ":   2.71828182845905\n",
       "\n",
       "\n"
      ],
      "text/plain": [
       "$df\n",
       "   edad tiempo sexo nombres_individuos tiempo_cuadrado\n",
       "1    22  14.21    M               Lara        201.9241\n",
       "2    34  10.36    H               Juan        107.3296\n",
       "3    15  11.89    H               Paco        141.3721\n",
       "4    25  13.81    M              Laura        190.7161\n",
       "5    30  12.03    M              Marta        144.7209\n",
       "6    33  10.99    H            Ernesto        120.7801\n",
       "7    31  12.48    M              Maria        155.7504\n",
       "8    27  13.37    M             Sandra        178.7569\n",
       "9    25  12.29    H             Germán        151.0441\n",
       "10   25  11.92    H               Jose        142.0864\n",
       "\n",
       "$A\n",
       "     [,1] [,2] [,3]\n",
       "[1,]    1    4    7\n",
       "[2,]    2    5    8\n",
       "[3,]    3    6    9\n",
       "\n",
       "$M\n",
       "     [,1] [,2] [,3] [,4]\n",
       "[1,] \"a\"  \"c\"  \"e\"  \"g\" \n",
       "[2,] \"b\"  \"d\"  \"f\"  \"h\" \n",
       "\n",
       "$x\n",
       "[1] 1 2 3 4\n",
       "\n",
       "$e\n",
       "[1] 2.718282\n"
      ]
     },
     "metadata": {},
     "output_type": "display_data"
    }
   ],
   "source": [
    "A=matrix(1:9,nrow=3)\n",
    "M=matrix(letters[1:8],nrow=2)\n",
    "lista <- list(df = misDatos, A = A, M = M, x = c(1,2,3,4), e = exp(1))\n",
    "lista"
   ]
  },
  {
   "cell_type": "markdown",
   "metadata": {},
   "source": [
    "El acceso a las variables se puede realizar tanto con __dobles corchetes__ [[]] como con $ si les hemos puesto nombre."
   ]
  },
  {
   "cell_type": "code",
   "execution_count": 57,
   "metadata": {},
   "outputs": [
    {
     "data": {
      "text/html": [
       "<table>\n",
       "<thead><tr><th scope=col>edad</th><th scope=col>tiempo</th><th scope=col>sexo</th><th scope=col>nombres_individuos</th><th scope=col>tiempo_cuadrado</th></tr></thead>\n",
       "<tbody>\n",
       "\t<tr><td>22      </td><td>14.21   </td><td>M       </td><td>Lara    </td><td>201.9241</td></tr>\n",
       "\t<tr><td>34      </td><td>10.36   </td><td>H       </td><td>Juan    </td><td>107.3296</td></tr>\n",
       "\t<tr><td>15      </td><td>11.89   </td><td>H       </td><td>Paco    </td><td>141.3721</td></tr>\n",
       "\t<tr><td>25      </td><td>13.81   </td><td>M       </td><td>Laura   </td><td>190.7161</td></tr>\n",
       "\t<tr><td>30      </td><td>12.03   </td><td>M       </td><td>Marta   </td><td>144.7209</td></tr>\n",
       "\t<tr><td>33      </td><td>10.99   </td><td>H       </td><td>Ernesto </td><td>120.7801</td></tr>\n",
       "\t<tr><td>31      </td><td>12.48   </td><td>M       </td><td>Maria   </td><td>155.7504</td></tr>\n",
       "\t<tr><td>27      </td><td>13.37   </td><td>M       </td><td>Sandra  </td><td>178.7569</td></tr>\n",
       "\t<tr><td>25      </td><td>12.29   </td><td>H       </td><td>Germán  </td><td>151.0441</td></tr>\n",
       "\t<tr><td>25      </td><td>11.92   </td><td>H       </td><td>Jose    </td><td>142.0864</td></tr>\n",
       "</tbody>\n",
       "</table>\n"
      ],
      "text/latex": [
       "\\begin{tabular}{r|lllll}\n",
       " edad & tiempo & sexo & nombres\\_individuos & tiempo\\_cuadrado\\\\\n",
       "\\hline\n",
       "\t 22       & 14.21    & M        & Lara     & 201.9241\\\\\n",
       "\t 34       & 10.36    & H        & Juan     & 107.3296\\\\\n",
       "\t 15       & 11.89    & H        & Paco     & 141.3721\\\\\n",
       "\t 25       & 13.81    & M        & Laura    & 190.7161\\\\\n",
       "\t 30       & 12.03    & M        & Marta    & 144.7209\\\\\n",
       "\t 33       & 10.99    & H        & Ernesto  & 120.7801\\\\\n",
       "\t 31       & 12.48    & M        & Maria    & 155.7504\\\\\n",
       "\t 27       & 13.37    & M        & Sandra   & 178.7569\\\\\n",
       "\t 25       & 12.29    & H        & Germán   & 151.0441\\\\\n",
       "\t 25       & 11.92    & H        & Jose     & 142.0864\\\\\n",
       "\\end{tabular}\n"
      ],
      "text/markdown": [
       "\n",
       "| edad | tiempo | sexo | nombres_individuos | tiempo_cuadrado |\n",
       "|---|---|---|---|---|\n",
       "| 22       | 14.21    | M        | Lara     | 201.9241 |\n",
       "| 34       | 10.36    | H        | Juan     | 107.3296 |\n",
       "| 15       | 11.89    | H        | Paco     | 141.3721 |\n",
       "| 25       | 13.81    | M        | Laura    | 190.7161 |\n",
       "| 30       | 12.03    | M        | Marta    | 144.7209 |\n",
       "| 33       | 10.99    | H        | Ernesto  | 120.7801 |\n",
       "| 31       | 12.48    | M        | Maria    | 155.7504 |\n",
       "| 27       | 13.37    | M        | Sandra   | 178.7569 |\n",
       "| 25       | 12.29    | H        | Germán   | 151.0441 |\n",
       "| 25       | 11.92    | H        | Jose     | 142.0864 |\n",
       "\n"
      ],
      "text/plain": [
       "   edad tiempo sexo nombres_individuos tiempo_cuadrado\n",
       "1  22   14.21  M    Lara               201.9241       \n",
       "2  34   10.36  H    Juan               107.3296       \n",
       "3  15   11.89  H    Paco               141.3721       \n",
       "4  25   13.81  M    Laura              190.7161       \n",
       "5  30   12.03  M    Marta              144.7209       \n",
       "6  33   10.99  H    Ernesto            120.7801       \n",
       "7  31   12.48  M    Maria              155.7504       \n",
       "8  27   13.37  M    Sandra             178.7569       \n",
       "9  25   12.29  H    Germán             151.0441       \n",
       "10 25   11.92  H    Jose               142.0864       "
      ]
     },
     "metadata": {},
     "output_type": "display_data"
    }
   ],
   "source": [
    "lista$df"
   ]
  },
  {
   "cell_type": "code",
   "execution_count": 58,
   "metadata": {},
   "outputs": [
    {
     "data": {
      "text/html": [
       "<table>\n",
       "<thead><tr><th scope=col>edad</th><th scope=col>tiempo</th><th scope=col>sexo</th><th scope=col>nombres_individuos</th><th scope=col>tiempo_cuadrado</th></tr></thead>\n",
       "<tbody>\n",
       "\t<tr><td>22      </td><td>14.21   </td><td>M       </td><td>Lara    </td><td>201.9241</td></tr>\n",
       "\t<tr><td>34      </td><td>10.36   </td><td>H       </td><td>Juan    </td><td>107.3296</td></tr>\n",
       "\t<tr><td>15      </td><td>11.89   </td><td>H       </td><td>Paco    </td><td>141.3721</td></tr>\n",
       "\t<tr><td>25      </td><td>13.81   </td><td>M       </td><td>Laura   </td><td>190.7161</td></tr>\n",
       "\t<tr><td>30      </td><td>12.03   </td><td>M       </td><td>Marta   </td><td>144.7209</td></tr>\n",
       "\t<tr><td>33      </td><td>10.99   </td><td>H       </td><td>Ernesto </td><td>120.7801</td></tr>\n",
       "\t<tr><td>31      </td><td>12.48   </td><td>M       </td><td>Maria   </td><td>155.7504</td></tr>\n",
       "\t<tr><td>27      </td><td>13.37   </td><td>M       </td><td>Sandra  </td><td>178.7569</td></tr>\n",
       "\t<tr><td>25      </td><td>12.29   </td><td>H       </td><td>Germán  </td><td>151.0441</td></tr>\n",
       "\t<tr><td>25      </td><td>11.92   </td><td>H       </td><td>Jose    </td><td>142.0864</td></tr>\n",
       "</tbody>\n",
       "</table>\n"
      ],
      "text/latex": [
       "\\begin{tabular}{r|lllll}\n",
       " edad & tiempo & sexo & nombres\\_individuos & tiempo\\_cuadrado\\\\\n",
       "\\hline\n",
       "\t 22       & 14.21    & M        & Lara     & 201.9241\\\\\n",
       "\t 34       & 10.36    & H        & Juan     & 107.3296\\\\\n",
       "\t 15       & 11.89    & H        & Paco     & 141.3721\\\\\n",
       "\t 25       & 13.81    & M        & Laura    & 190.7161\\\\\n",
       "\t 30       & 12.03    & M        & Marta    & 144.7209\\\\\n",
       "\t 33       & 10.99    & H        & Ernesto  & 120.7801\\\\\n",
       "\t 31       & 12.48    & M        & Maria    & 155.7504\\\\\n",
       "\t 27       & 13.37    & M        & Sandra   & 178.7569\\\\\n",
       "\t 25       & 12.29    & H        & Germán   & 151.0441\\\\\n",
       "\t 25       & 11.92    & H        & Jose     & 142.0864\\\\\n",
       "\\end{tabular}\n"
      ],
      "text/markdown": [
       "\n",
       "| edad | tiempo | sexo | nombres_individuos | tiempo_cuadrado |\n",
       "|---|---|---|---|---|\n",
       "| 22       | 14.21    | M        | Lara     | 201.9241 |\n",
       "| 34       | 10.36    | H        | Juan     | 107.3296 |\n",
       "| 15       | 11.89    | H        | Paco     | 141.3721 |\n",
       "| 25       | 13.81    | M        | Laura    | 190.7161 |\n",
       "| 30       | 12.03    | M        | Marta    | 144.7209 |\n",
       "| 33       | 10.99    | H        | Ernesto  | 120.7801 |\n",
       "| 31       | 12.48    | M        | Maria    | 155.7504 |\n",
       "| 27       | 13.37    | M        | Sandra   | 178.7569 |\n",
       "| 25       | 12.29    | H        | Germán   | 151.0441 |\n",
       "| 25       | 11.92    | H        | Jose     | 142.0864 |\n",
       "\n"
      ],
      "text/plain": [
       "   edad tiempo sexo nombres_individuos tiempo_cuadrado\n",
       "1  22   14.21  M    Lara               201.9241       \n",
       "2  34   10.36  H    Juan               107.3296       \n",
       "3  15   11.89  H    Paco               141.3721       \n",
       "4  25   13.81  M    Laura              190.7161       \n",
       "5  30   12.03  M    Marta              144.7209       \n",
       "6  33   10.99  H    Ernesto            120.7801       \n",
       "7  31   12.48  M    Maria              155.7504       \n",
       "8  27   13.37  M    Sandra             178.7569       \n",
       "9  25   12.29  H    Germán             151.0441       \n",
       "10 25   11.92  H    Jose               142.0864       "
      ]
     },
     "metadata": {},
     "output_type": "display_data"
    }
   ],
   "source": [
    "lista[[1]]"
   ]
  },
  {
   "cell_type": "markdown",
   "metadata": {},
   "source": [
    "Sobre cada entrada de la lista podemos utilizar todas las funciones/indexaciones que ya hemos visto."
   ]
  },
  {
   "cell_type": "code",
   "execution_count": 59,
   "metadata": {},
   "outputs": [
    {
     "data": {
      "text/html": [
       "<ol class=list-inline>\n",
       "\t<li>34</li>\n",
       "\t<li>30</li>\n",
       "\t<li>33</li>\n",
       "\t<li>31</li>\n",
       "\t<li>27</li>\n",
       "</ol>\n"
      ],
      "text/latex": [
       "\\begin{enumerate*}\n",
       "\\item 34\n",
       "\\item 30\n",
       "\\item 33\n",
       "\\item 31\n",
       "\\item 27\n",
       "\\end{enumerate*}\n"
      ],
      "text/markdown": [
       "1. 34\n",
       "2. 30\n",
       "3. 33\n",
       "4. 31\n",
       "5. 27\n",
       "\n",
       "\n"
      ],
      "text/plain": [
       "[1] 34 30 33 31 27"
      ]
     },
     "metadata": {},
     "output_type": "display_data"
    }
   ],
   "source": [
    "lista[[1]]$edad[lista[[1]]$edad > 25]"
   ]
  },
  {
   "cell_type": "code",
   "execution_count": 60,
   "metadata": {},
   "outputs": [],
   "source": [
    "lista[[\"append\"]] <- \"nuevo item\""
   ]
  },
  {
   "cell_type": "markdown",
   "metadata": {},
   "source": [
    "## Lectura y escritura de archivos de texto\n",
    "\n",
    "En R, es sencillo leer y escribir ficheros en formato csv, además tiene multitud de librerías que funcionan como conectores a diferentes bases de datos (SQL, Cassandra, elastic...) es sencillo encontrar las librerías para cada una de ellas buscando y existe una gran cantidad de información en internet.\n",
    "\n",
    "En este caso, vamos a ver cómo leer y escribir sobre un fichero de texto, para ello lo primero es seleccionar el directorio de trabajo, en el mismo se va a leer el archivo y es algo que se debería hacer siempre al principio del script, después de la carga de las librerías, para tener una lectura de código más limpia."
   ]
  },
  {
   "cell_type": "code",
   "execution_count": 61,
   "metadata": {},
   "outputs": [],
   "source": [
    "#setwd(\"Directorio que se va a utilizar\") # comando para seleccionar el directorio en el que se va a trabajar, \n",
    "                                         # en este caso ha de contener el archivo a leer\n",
    "#read.csv(\"nombre_archivo_lectura.csv\") # comando para leer el archivo .csv\n",
    "#write.csv(nombre_dataframe_escribir, \"nombre_archivo_salida.csv\", row.names = FALSE) # comando para escribir el archivo,\n",
    "# el parámetro row.names = FALSE impone que en el archivo de salida cada fila no está numerada, lo cual crea una columna a mayores"
   ]
  },
  {
   "cell_type": "markdown",
   "metadata": {},
   "source": [
    "Para el caso de archivos muy grandes, la lectura por este método puede resultar bastante lenta, para evitarlo en estos casos recomiendo el uso de la función _fread_ del paquete _data.table_: https://cran.r-project.org/web/packages/data.table/data.table.pdf"
   ]
  },
  {
   "cell_type": "markdown",
   "metadata": {},
   "source": [
    "### Manejo de dataframes avanzado: la librería dplyr\n",
    "\n",
    "dplyr es una librería que permite de manera cómoda y con una escritura de código muy limpia, manejar dataframes y realizar cálculos sobre ellos. Las principales funciones son las siguientes:\n",
    "- __select()__\tselecciona columnas\n",
    "- __filter()__\tfiltra filas\n",
    "- __arrange()__\tordena las filas\n",
    "- __mutate()__\tcrea nuevas columnas bajo nuestros parámetros\n",
    "- __summarise()__\tresume valores\n",
    "- __group_by()__\tagrupaciones que permite realizar cálculos sobre ellas\n",
    "\n",
    "Estas dos últimas especialmente nos pueden ser de mucha ayuda en una gran variedad de situaciones. \n",
    "\n",
    "Vamos a introducirlo utilizando el dataset iris. El conjunto de datos contiene 50 muestras de cada una de tres especies de Iris (Iris setosa, Iris virginica e Iris versicolor). Se midió cuatro rasgos de cada muestra: lo largo y lo ancho del sépalos y pétalos, en centímetros."
   ]
  },
  {
   "cell_type": "code",
   "execution_count": 27,
   "metadata": {},
   "outputs": [
    {
     "data": {
      "text/html": [
       "<table>\n",
       "<thead><tr><th scope=col>Sepal.Length</th><th scope=col>Sepal.Width</th><th scope=col>Petal.Length</th><th scope=col>Petal.Width</th><th scope=col>Species</th></tr></thead>\n",
       "<tbody>\n",
       "\t<tr><td>5.1   </td><td>3.5   </td><td>1.4   </td><td>0.2   </td><td>setosa</td></tr>\n",
       "\t<tr><td>4.9   </td><td>3.0   </td><td>1.4   </td><td>0.2   </td><td>setosa</td></tr>\n",
       "\t<tr><td>4.7   </td><td>3.2   </td><td>1.3   </td><td>0.2   </td><td>setosa</td></tr>\n",
       "\t<tr><td>4.6   </td><td>3.1   </td><td>1.5   </td><td>0.2   </td><td>setosa</td></tr>\n",
       "\t<tr><td>5.0   </td><td>3.6   </td><td>1.4   </td><td>0.2   </td><td>setosa</td></tr>\n",
       "\t<tr><td>5.4   </td><td>3.9   </td><td>1.7   </td><td>0.4   </td><td>setosa</td></tr>\n",
       "</tbody>\n",
       "</table>\n"
      ],
      "text/latex": [
       "\\begin{tabular}{r|lllll}\n",
       " Sepal.Length & Sepal.Width & Petal.Length & Petal.Width & Species\\\\\n",
       "\\hline\n",
       "\t 5.1    & 3.5    & 1.4    & 0.2    & setosa\\\\\n",
       "\t 4.9    & 3.0    & 1.4    & 0.2    & setosa\\\\\n",
       "\t 4.7    & 3.2    & 1.3    & 0.2    & setosa\\\\\n",
       "\t 4.6    & 3.1    & 1.5    & 0.2    & setosa\\\\\n",
       "\t 5.0    & 3.6    & 1.4    & 0.2    & setosa\\\\\n",
       "\t 5.4    & 3.9    & 1.7    & 0.4    & setosa\\\\\n",
       "\\end{tabular}\n"
      ],
      "text/markdown": [
       "\n",
       "| Sepal.Length | Sepal.Width | Petal.Length | Petal.Width | Species |\n",
       "|---|---|---|---|---|\n",
       "| 5.1    | 3.5    | 1.4    | 0.2    | setosa |\n",
       "| 4.9    | 3.0    | 1.4    | 0.2    | setosa |\n",
       "| 4.7    | 3.2    | 1.3    | 0.2    | setosa |\n",
       "| 4.6    | 3.1    | 1.5    | 0.2    | setosa |\n",
       "| 5.0    | 3.6    | 1.4    | 0.2    | setosa |\n",
       "| 5.4    | 3.9    | 1.7    | 0.4    | setosa |\n",
       "\n"
      ],
      "text/plain": [
       "  Sepal.Length Sepal.Width Petal.Length Petal.Width Species\n",
       "1 5.1          3.5         1.4          0.2         setosa \n",
       "2 4.9          3.0         1.4          0.2         setosa \n",
       "3 4.7          3.2         1.3          0.2         setosa \n",
       "4 4.6          3.1         1.5          0.2         setosa \n",
       "5 5.0          3.6         1.4          0.2         setosa \n",
       "6 5.4          3.9         1.7          0.4         setosa "
      ]
     },
     "metadata": {},
     "output_type": "display_data"
    }
   ],
   "source": [
    "attach(iris)\n",
    "head(iris)"
   ]
  },
  {
   "cell_type": "code",
   "execution_count": 28,
   "metadata": {},
   "outputs": [
    {
     "name": "stdout",
     "output_type": "stream",
     "text": [
      "'data.frame':\t150 obs. of  5 variables:\n",
      " $ Sepal.Length: num  5.1 4.9 4.7 4.6 5 5.4 4.6 5 4.4 4.9 ...\n",
      " $ Sepal.Width : num  3.5 3 3.2 3.1 3.6 3.9 3.4 3.4 2.9 3.1 ...\n",
      " $ Petal.Length: num  1.4 1.4 1.3 1.5 1.4 1.7 1.4 1.5 1.4 1.5 ...\n",
      " $ Petal.Width : num  0.2 0.2 0.2 0.2 0.2 0.4 0.3 0.2 0.2 0.1 ...\n",
      " $ Species     : Factor w/ 3 levels \"setosa\",\"versicolor\",..: 1 1 1 1 1 1 1 1 1 1 ...\n"
     ]
    }
   ],
   "source": [
    "str(iris)"
   ]
  },
  {
   "cell_type": "code",
   "execution_count": 29,
   "metadata": {},
   "outputs": [
    {
     "data": {
      "text/plain": [
       "  Sepal.Length    Sepal.Width     Petal.Length    Petal.Width   \n",
       " Min.   :4.300   Min.   :2.000   Min.   :1.000   Min.   :0.100  \n",
       " 1st Qu.:5.100   1st Qu.:2.800   1st Qu.:1.600   1st Qu.:0.300  \n",
       " Median :5.800   Median :3.000   Median :4.350   Median :1.300  \n",
       " Mean   :5.843   Mean   :3.057   Mean   :3.758   Mean   :1.199  \n",
       " 3rd Qu.:6.400   3rd Qu.:3.300   3rd Qu.:5.100   3rd Qu.:1.800  \n",
       " Max.   :7.900   Max.   :4.400   Max.   :6.900   Max.   :2.500  \n",
       "       Species  \n",
       " setosa    :50  \n",
       " versicolor:50  \n",
       " virginica :50  \n",
       "                \n",
       "                \n",
       "                "
      ]
     },
     "metadata": {},
     "output_type": "display_data"
    }
   ],
   "source": [
    "summary(iris)"
   ]
  },
  {
   "cell_type": "markdown",
   "metadata": {},
   "source": [
    "dplyr tiene su propio sistema para escribir código de forma limpia y clara. Utiliza la expresión __%>%__ para indicar que a lo que hay a la izquierda de la misma se le aplica la función de la derecha. Por ejemplo:"
   ]
  },
  {
   "cell_type": "code",
   "execution_count": 65,
   "metadata": {},
   "outputs": [
    {
     "data": {
      "text/html": [
       "<table>\n",
       "<thead><tr><th scope=col>Sepal.Length</th><th scope=col>Sepal.Width</th><th scope=col>Petal.Length</th><th scope=col>Petal.Width</th><th scope=col>Species</th></tr></thead>\n",
       "<tbody>\n",
       "\t<tr><td>5.1   </td><td>3.5   </td><td>1.4   </td><td>0.2   </td><td>setosa</td></tr>\n",
       "\t<tr><td>4.9   </td><td>3.0   </td><td>1.4   </td><td>0.2   </td><td>setosa</td></tr>\n",
       "\t<tr><td>4.7   </td><td>3.2   </td><td>1.3   </td><td>0.2   </td><td>setosa</td></tr>\n",
       "\t<tr><td>4.6   </td><td>3.1   </td><td>1.5   </td><td>0.2   </td><td>setosa</td></tr>\n",
       "\t<tr><td>5.0   </td><td>3.6   </td><td>1.4   </td><td>0.2   </td><td>setosa</td></tr>\n",
       "\t<tr><td>5.4   </td><td>3.9   </td><td>1.7   </td><td>0.4   </td><td>setosa</td></tr>\n",
       "</tbody>\n",
       "</table>\n"
      ],
      "text/latex": [
       "\\begin{tabular}{r|lllll}\n",
       " Sepal.Length & Sepal.Width & Petal.Length & Petal.Width & Species\\\\\n",
       "\\hline\n",
       "\t 5.1    & 3.5    & 1.4    & 0.2    & setosa\\\\\n",
       "\t 4.9    & 3.0    & 1.4    & 0.2    & setosa\\\\\n",
       "\t 4.7    & 3.2    & 1.3    & 0.2    & setosa\\\\\n",
       "\t 4.6    & 3.1    & 1.5    & 0.2    & setosa\\\\\n",
       "\t 5.0    & 3.6    & 1.4    & 0.2    & setosa\\\\\n",
       "\t 5.4    & 3.9    & 1.7    & 0.4    & setosa\\\\\n",
       "\\end{tabular}\n"
      ],
      "text/markdown": [
       "\n",
       "| Sepal.Length | Sepal.Width | Petal.Length | Petal.Width | Species |\n",
       "|---|---|---|---|---|\n",
       "| 5.1    | 3.5    | 1.4    | 0.2    | setosa |\n",
       "| 4.9    | 3.0    | 1.4    | 0.2    | setosa |\n",
       "| 4.7    | 3.2    | 1.3    | 0.2    | setosa |\n",
       "| 4.6    | 3.1    | 1.5    | 0.2    | setosa |\n",
       "| 5.0    | 3.6    | 1.4    | 0.2    | setosa |\n",
       "| 5.4    | 3.9    | 1.7    | 0.4    | setosa |\n",
       "\n"
      ],
      "text/plain": [
       "  Sepal.Length Sepal.Width Petal.Length Petal.Width Species\n",
       "1 5.1          3.5         1.4          0.2         setosa \n",
       "2 4.9          3.0         1.4          0.2         setosa \n",
       "3 4.7          3.2         1.3          0.2         setosa \n",
       "4 4.6          3.1         1.5          0.2         setosa \n",
       "5 5.0          3.6         1.4          0.2         setosa \n",
       "6 5.4          3.9         1.7          0.4         setosa "
      ]
     },
     "metadata": {},
     "output_type": "display_data"
    }
   ],
   "source": [
    "iris %>% head()"
   ]
  },
  {
   "cell_type": "markdown",
   "metadata": {},
   "source": [
    "Con esta forma de escribir, es simple y limpio realizar una serie de cambios sobre el dataframe de manera sencilla:"
   ]
  },
  {
   "cell_type": "code",
   "execution_count": 66,
   "metadata": {},
   "outputs": [
    {
     "data": {
      "text/html": [
       "<table>\n",
       "<thead><tr><th scope=col>Species</th><th scope=col>sep_length_max</th><th scope=col>sep_length_min</th><th scope=col>n_observaciones</th></tr></thead>\n",
       "<tbody>\n",
       "\t<tr><td>setosa    </td><td>5.8       </td><td>4.3       </td><td>50        </td></tr>\n",
       "\t<tr><td>versicolor</td><td>7.0       </td><td>4.9       </td><td>50        </td></tr>\n",
       "\t<tr><td>virginica </td><td>7.9       </td><td>4.9       </td><td>50        </td></tr>\n",
       "</tbody>\n",
       "</table>\n"
      ],
      "text/latex": [
       "\\begin{tabular}{r|llll}\n",
       " Species & sep\\_length\\_max & sep\\_length\\_min & n\\_observaciones\\\\\n",
       "\\hline\n",
       "\t setosa     & 5.8        & 4.3        & 50        \\\\\n",
       "\t versicolor & 7.0        & 4.9        & 50        \\\\\n",
       "\t virginica  & 7.9        & 4.9        & 50        \\\\\n",
       "\\end{tabular}\n"
      ],
      "text/markdown": [
       "\n",
       "| Species | sep_length_max | sep_length_min | n_observaciones |\n",
       "|---|---|---|---|\n",
       "| setosa     | 5.8        | 4.3        | 50         |\n",
       "| versicolor | 7.0        | 4.9        | 50         |\n",
       "| virginica  | 7.9        | 4.9        | 50         |\n",
       "\n"
      ],
      "text/plain": [
       "  Species    sep_length_max sep_length_min n_observaciones\n",
       "1 setosa     5.8            4.3            50             \n",
       "2 versicolor 7.0            4.9            50             \n",
       "3 virginica  7.9            4.9            50             "
      ]
     },
     "metadata": {},
     "output_type": "display_data"
    }
   ],
   "source": [
    "iris %>%\n",
    "group_by(Species) %>%\n",
    "summarise(sep_length_max = max(Sepal.Length), sep_length_min = min(Sepal.Length), n_observaciones = n())"
   ]
  },
  {
   "cell_type": "code",
   "execution_count": 67,
   "metadata": {},
   "outputs": [
    {
     "data": {
      "text/html": [
       "<table>\n",
       "<thead><tr><th scope=col>Sepal.Length</th><th scope=col>Sepal.Width</th><th scope=col>Petal.Length</th><th scope=col>Petal.Width</th><th scope=col>Species</th><th scope=col>sumVar</th></tr></thead>\n",
       "<tbody>\n",
       "\t<tr><td>5.1   </td><td>3.5   </td><td>1.4   </td><td>0.2   </td><td>setosa</td><td>10.2  </td></tr>\n",
       "\t<tr><td>4.9   </td><td>3.0   </td><td>1.4   </td><td>0.2   </td><td>setosa</td><td> 9.5  </td></tr>\n",
       "\t<tr><td>4.7   </td><td>3.2   </td><td>1.3   </td><td>0.2   </td><td>setosa</td><td> 9.4  </td></tr>\n",
       "\t<tr><td>4.6   </td><td>3.1   </td><td>1.5   </td><td>0.2   </td><td>setosa</td><td> 9.4  </td></tr>\n",
       "\t<tr><td>5.0   </td><td>3.6   </td><td>1.4   </td><td>0.2   </td><td>setosa</td><td>10.2  </td></tr>\n",
       "\t<tr><td>5.4   </td><td>3.9   </td><td>1.7   </td><td>0.4   </td><td>setosa</td><td>11.4  </td></tr>\n",
       "</tbody>\n",
       "</table>\n"
      ],
      "text/latex": [
       "\\begin{tabular}{r|llllll}\n",
       " Sepal.Length & Sepal.Width & Petal.Length & Petal.Width & Species & sumVar\\\\\n",
       "\\hline\n",
       "\t 5.1    & 3.5    & 1.4    & 0.2    & setosa & 10.2  \\\\\n",
       "\t 4.9    & 3.0    & 1.4    & 0.2    & setosa &  9.5  \\\\\n",
       "\t 4.7    & 3.2    & 1.3    & 0.2    & setosa &  9.4  \\\\\n",
       "\t 4.6    & 3.1    & 1.5    & 0.2    & setosa &  9.4  \\\\\n",
       "\t 5.0    & 3.6    & 1.4    & 0.2    & setosa & 10.2  \\\\\n",
       "\t 5.4    & 3.9    & 1.7    & 0.4    & setosa & 11.4  \\\\\n",
       "\\end{tabular}\n"
      ],
      "text/markdown": [
       "\n",
       "| Sepal.Length | Sepal.Width | Petal.Length | Petal.Width | Species | sumVar |\n",
       "|---|---|---|---|---|---|\n",
       "| 5.1    | 3.5    | 1.4    | 0.2    | setosa | 10.2   |\n",
       "| 4.9    | 3.0    | 1.4    | 0.2    | setosa |  9.5   |\n",
       "| 4.7    | 3.2    | 1.3    | 0.2    | setosa |  9.4   |\n",
       "| 4.6    | 3.1    | 1.5    | 0.2    | setosa |  9.4   |\n",
       "| 5.0    | 3.6    | 1.4    | 0.2    | setosa | 10.2   |\n",
       "| 5.4    | 3.9    | 1.7    | 0.4    | setosa | 11.4   |\n",
       "\n"
      ],
      "text/plain": [
       "  Sepal.Length Sepal.Width Petal.Length Petal.Width Species sumVar\n",
       "1 5.1          3.5         1.4          0.2         setosa  10.2  \n",
       "2 4.9          3.0         1.4          0.2         setosa   9.5  \n",
       "3 4.7          3.2         1.3          0.2         setosa   9.4  \n",
       "4 4.6          3.1         1.5          0.2         setosa   9.4  \n",
       "5 5.0          3.6         1.4          0.2         setosa  10.2  \n",
       "6 5.4          3.9         1.7          0.4         setosa  11.4  "
      ]
     },
     "metadata": {},
     "output_type": "display_data"
    }
   ],
   "source": [
    "iris %>% mutate(sumVar = rowSums(iris[1:4])) %>% head ()# iris se puede cambiar por ."
   ]
  },
  {
   "cell_type": "markdown",
   "metadata": {},
   "source": [
    "dplyr también implementa la capacidad de realizar todo tipo de join de manera eficiente:\n",
    "- __inner_join()__\t\n",
    "- __left_join()__\t\n",
    "- __right_join()__\t\n",
    "- __full_join()__\t\n"
   ]
  },
  {
   "cell_type": "code",
   "execution_count": 68,
   "metadata": {},
   "outputs": [],
   "source": [
    "df1 = data.frame(CustomerId = c(1:6), Product = c(rep(\"Toaster\", 3), rep(\"Radio\", 3)))\n",
    "df2 = data.frame(CustomerId = c(2, 4, 6), State = c(rep(\"Alabama\", 2), rep(\"Ohio\", 1)))"
   ]
  },
  {
   "cell_type": "code",
   "execution_count": 69,
   "metadata": {},
   "outputs": [
    {
     "data": {
      "text/html": [
       "<table>\n",
       "<thead><tr><th scope=col>CustomerId</th><th scope=col>Product</th></tr></thead>\n",
       "<tbody>\n",
       "\t<tr><td>1      </td><td>Toaster</td></tr>\n",
       "\t<tr><td>2      </td><td>Toaster</td></tr>\n",
       "\t<tr><td>3      </td><td>Toaster</td></tr>\n",
       "\t<tr><td>4      </td><td>Radio  </td></tr>\n",
       "\t<tr><td>5      </td><td>Radio  </td></tr>\n",
       "\t<tr><td>6      </td><td>Radio  </td></tr>\n",
       "</tbody>\n",
       "</table>\n"
      ],
      "text/latex": [
       "\\begin{tabular}{r|ll}\n",
       " CustomerId & Product\\\\\n",
       "\\hline\n",
       "\t 1       & Toaster\\\\\n",
       "\t 2       & Toaster\\\\\n",
       "\t 3       & Toaster\\\\\n",
       "\t 4       & Radio  \\\\\n",
       "\t 5       & Radio  \\\\\n",
       "\t 6       & Radio  \\\\\n",
       "\\end{tabular}\n"
      ],
      "text/markdown": [
       "\n",
       "| CustomerId | Product |\n",
       "|---|---|\n",
       "| 1       | Toaster |\n",
       "| 2       | Toaster |\n",
       "| 3       | Toaster |\n",
       "| 4       | Radio   |\n",
       "| 5       | Radio   |\n",
       "| 6       | Radio   |\n",
       "\n"
      ],
      "text/plain": [
       "  CustomerId Product\n",
       "1 1          Toaster\n",
       "2 2          Toaster\n",
       "3 3          Toaster\n",
       "4 4          Radio  \n",
       "5 5          Radio  \n",
       "6 6          Radio  "
      ]
     },
     "metadata": {},
     "output_type": "display_data"
    }
   ],
   "source": [
    "df1"
   ]
  },
  {
   "cell_type": "code",
   "execution_count": 70,
   "metadata": {},
   "outputs": [
    {
     "data": {
      "text/html": [
       "<table>\n",
       "<thead><tr><th scope=col>CustomerId</th><th scope=col>State</th></tr></thead>\n",
       "<tbody>\n",
       "\t<tr><td>2      </td><td>Alabama</td></tr>\n",
       "\t<tr><td>4      </td><td>Alabama</td></tr>\n",
       "\t<tr><td>6      </td><td>Ohio   </td></tr>\n",
       "</tbody>\n",
       "</table>\n"
      ],
      "text/latex": [
       "\\begin{tabular}{r|ll}\n",
       " CustomerId & State\\\\\n",
       "\\hline\n",
       "\t 2       & Alabama\\\\\n",
       "\t 4       & Alabama\\\\\n",
       "\t 6       & Ohio   \\\\\n",
       "\\end{tabular}\n"
      ],
      "text/markdown": [
       "\n",
       "| CustomerId | State |\n",
       "|---|---|\n",
       "| 2       | Alabama |\n",
       "| 4       | Alabama |\n",
       "| 6       | Ohio    |\n",
       "\n"
      ],
      "text/plain": [
       "  CustomerId State  \n",
       "1 2          Alabama\n",
       "2 4          Alabama\n",
       "3 6          Ohio   "
      ]
     },
     "metadata": {},
     "output_type": "display_data"
    }
   ],
   "source": [
    "df2"
   ]
  },
  {
   "cell_type": "code",
   "execution_count": 71,
   "metadata": {},
   "outputs": [
    {
     "name": "stderr",
     "output_type": "stream",
     "text": [
      "Joining, by = \"CustomerId\"\n"
     ]
    },
    {
     "data": {
      "text/html": [
       "<table>\n",
       "<thead><tr><th scope=col>CustomerId</th><th scope=col>Product</th><th scope=col>State</th></tr></thead>\n",
       "<tbody>\n",
       "\t<tr><td>2      </td><td>Toaster</td><td>Alabama</td></tr>\n",
       "\t<tr><td>4      </td><td>Radio  </td><td>Alabama</td></tr>\n",
       "\t<tr><td>6      </td><td>Radio  </td><td>Ohio   </td></tr>\n",
       "</tbody>\n",
       "</table>\n"
      ],
      "text/latex": [
       "\\begin{tabular}{r|lll}\n",
       " CustomerId & Product & State\\\\\n",
       "\\hline\n",
       "\t 2       & Toaster & Alabama\\\\\n",
       "\t 4       & Radio   & Alabama\\\\\n",
       "\t 6       & Radio   & Ohio   \\\\\n",
       "\\end{tabular}\n"
      ],
      "text/markdown": [
       "\n",
       "| CustomerId | Product | State |\n",
       "|---|---|---|\n",
       "| 2       | Toaster | Alabama |\n",
       "| 4       | Radio   | Alabama |\n",
       "| 6       | Radio   | Ohio    |\n",
       "\n"
      ],
      "text/plain": [
       "  CustomerId Product State  \n",
       "1 2          Toaster Alabama\n",
       "2 4          Radio   Alabama\n",
       "3 6          Radio   Ohio   "
      ]
     },
     "metadata": {},
     "output_type": "display_data"
    }
   ],
   "source": [
    "inner_join(df1, df2)"
   ]
  },
  {
   "cell_type": "code",
   "execution_count": 72,
   "metadata": {
    "scrolled": true
   },
   "outputs": [
    {
     "name": "stderr",
     "output_type": "stream",
     "text": [
      "Joining, by = \"CustomerId\"\n"
     ]
    },
    {
     "data": {
      "text/html": [
       "<table>\n",
       "<thead><tr><th scope=col>CustomerId</th><th scope=col>Product</th><th scope=col>State</th></tr></thead>\n",
       "<tbody>\n",
       "\t<tr><td>1      </td><td>Toaster</td><td>NA     </td></tr>\n",
       "\t<tr><td>2      </td><td>Toaster</td><td>Alabama</td></tr>\n",
       "\t<tr><td>3      </td><td>Toaster</td><td>NA     </td></tr>\n",
       "\t<tr><td>4      </td><td>Radio  </td><td>Alabama</td></tr>\n",
       "\t<tr><td>5      </td><td>Radio  </td><td>NA     </td></tr>\n",
       "\t<tr><td>6      </td><td>Radio  </td><td>Ohio   </td></tr>\n",
       "</tbody>\n",
       "</table>\n"
      ],
      "text/latex": [
       "\\begin{tabular}{r|lll}\n",
       " CustomerId & Product & State\\\\\n",
       "\\hline\n",
       "\t 1       & Toaster & NA     \\\\\n",
       "\t 2       & Toaster & Alabama\\\\\n",
       "\t 3       & Toaster & NA     \\\\\n",
       "\t 4       & Radio   & Alabama\\\\\n",
       "\t 5       & Radio   & NA     \\\\\n",
       "\t 6       & Radio   & Ohio   \\\\\n",
       "\\end{tabular}\n"
      ],
      "text/markdown": [
       "\n",
       "| CustomerId | Product | State |\n",
       "|---|---|---|\n",
       "| 1       | Toaster | NA      |\n",
       "| 2       | Toaster | Alabama |\n",
       "| 3       | Toaster | NA      |\n",
       "| 4       | Radio   | Alabama |\n",
       "| 5       | Radio   | NA      |\n",
       "| 6       | Radio   | Ohio    |\n",
       "\n"
      ],
      "text/plain": [
       "  CustomerId Product State  \n",
       "1 1          Toaster NA     \n",
       "2 2          Toaster Alabama\n",
       "3 3          Toaster NA     \n",
       "4 4          Radio   Alabama\n",
       "5 5          Radio   NA     \n",
       "6 6          Radio   Ohio   "
      ]
     },
     "metadata": {},
     "output_type": "display_data"
    }
   ],
   "source": [
    "left_join(df1, df2)"
   ]
  },
  {
   "cell_type": "markdown",
   "metadata": {},
   "source": [
    "__Ejercicio__:\n",
    "\n",
    "Crear un dataframe, que para cada producto, devuelva el número de estados distintos desde los cuales ha sido pedido.\n",
    "\n",
    "Pista: usar la función n_distinct para obtener el número de elementos distintos en una columna."
   ]
  }
 ],
 "metadata": {
  "kernelspec": {
   "display_name": "R",
   "language": "R",
   "name": "ir"
  },
  "language_info": {
   "codemirror_mode": "r",
   "file_extension": ".r",
   "mimetype": "text/x-r-source",
   "name": "R",
   "pygments_lexer": "r",
   "version": "3.6.1"
  }
 },
 "nbformat": 4,
 "nbformat_minor": 4
}
